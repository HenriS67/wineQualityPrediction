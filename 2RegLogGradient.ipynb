{
 "cells": [
  {
   "attachments": {},
   "cell_type": "markdown",
   "metadata": {},
   "source": [
    "TP DE MACHINE LEARNING !!!"
   ]
  },
  {
   "cell_type": "code",
   "execution_count": 9,
   "metadata": {},
   "outputs": [],
   "source": [
    "import numpy as np\n",
    "import pandas as pd\n",
    "import matplotlib.pyplot as plt"
   ]
  },
  {
   "cell_type": "code",
   "execution_count": 10,
   "metadata": {},
   "outputs": [
    {
     "name": "stdout",
     "output_type": "stream",
     "text": [
      "      fixed acidity  volatile acidity  citric acid  residual sugar  chlorides   \n",
      "0               7.4             0.700         0.00             1.9      0.076  \\\n",
      "1               7.8             0.880         0.00             2.6      0.098   \n",
      "2               7.8             0.760         0.04             2.3      0.092   \n",
      "3              11.2             0.280         0.56             1.9      0.075   \n",
      "4               7.4             0.700         0.00             1.9      0.076   \n",
      "...             ...               ...          ...             ...        ...   \n",
      "1138            6.3             0.510         0.13             2.3      0.076   \n",
      "1139            6.8             0.620         0.08             1.9      0.068   \n",
      "1140            6.2             0.600         0.08             2.0      0.090   \n",
      "1141            5.9             0.550         0.10             2.2      0.062   \n",
      "1142            5.9             0.645         0.12             2.0      0.075   \n",
      "\n",
      "      free sulfur dioxide  total sulfur dioxide  density    pH  sulphates   \n",
      "0                    11.0                  34.0  0.99780  3.51       0.56  \\\n",
      "1                    25.0                  67.0  0.99680  3.20       0.68   \n",
      "2                    15.0                  54.0  0.99700  3.26       0.65   \n",
      "3                    17.0                  60.0  0.99800  3.16       0.58   \n",
      "4                    11.0                  34.0  0.99780  3.51       0.56   \n",
      "...                   ...                   ...      ...   ...        ...   \n",
      "1138                 29.0                  40.0  0.99574  3.42       0.75   \n",
      "1139                 28.0                  38.0  0.99651  3.42       0.82   \n",
      "1140                 32.0                  44.0  0.99490  3.45       0.58   \n",
      "1141                 39.0                  51.0  0.99512  3.52       0.76   \n",
      "1142                 32.0                  44.0  0.99547  3.57       0.71   \n",
      "\n",
      "      alcohol  quality    Id  \n",
      "0         9.4        5     0  \n",
      "1         9.8        5     1  \n",
      "2         9.8        5     2  \n",
      "3         9.8        6     3  \n",
      "4         9.4        5     4  \n",
      "...       ...      ...   ...  \n",
      "1138     11.0        6  1592  \n",
      "1139      9.5        6  1593  \n",
      "1140     10.5        5  1594  \n",
      "1141     11.2        6  1595  \n",
      "1142     10.2        5  1597  \n",
      "\n",
      "[1143 rows x 13 columns]\n"
     ]
    }
   ],
   "source": [
    "df = pd.read_csv('WineQT.csv')\n",
    "print(df)"
   ]
  },
  {
   "attachments": {},
   "cell_type": "markdown",
   "metadata": {},
   "source": [
    "VISUALISATION DES DONNEES"
   ]
  },
  {
   "cell_type": "code",
   "execution_count": 17,
   "metadata": {},
   "outputs": [
    {
     "name": "stdout",
     "output_type": "stream",
     "text": [
      "[[ 9.4  5. ]\n",
      " [ 9.8  5. ]\n",
      " [ 9.8  5. ]\n",
      " ...\n",
      " [10.5  5. ]\n",
      " [11.2  6. ]\n",
      " [10.2  5. ]]\n",
      "115\n",
      "[0, 0, 0, 1, 0, 0, 0, 1, 0, 0, 0, 1, 0, 0, 0, 0, 1, 1, 0, 0, 1, 1, 0, 1, 1, 0, 1, 1, 1, 1, 0, 1, 0, 1, 1, 1, 1, 0, 0, 1, 0, 0, 0, 1, 0, 0, 1, 0, 0, 0, 0, 0, 0, 0, 1, 1, 1, 0, 0, 0, 0, 1, 1, 0, 0, 1, 1, 1, 1, 0, 1, 0, 1, 1, 0, 1, 0, 1, 0, 1, 1, 0, 1, 1, 0, 1, 1, 1, 0, 0, 0, 1, 0, 0, 1, 0, 1, 0, 0, 1, 0, 0, 1, 1, 0, 0, 0, 1, 0, 1, 1, 1, 0, 1, 0]\n"
     ]
    }
   ],
   "source": [
    "import numpy as np\n",
    "import matplotlib.pyplot as plt\n",
    "\n",
    "d=[df[\"alcohol\"],df[\"quality\"]]\n",
    "x=[]\n",
    "\n",
    "\n",
    "xinit=np.transpose(np.matrix(d))\n",
    "print(xinit)\n",
    "y=[]\n",
    "y_simpl=[]\n",
    "\n",
    "for loop in range(len(xinit)):\n",
    "    if loop%10==0:\n",
    "        x.append([xinit[loop,0],xinit[loop,1]])\n",
    "        #on considère comme bon un vin dont alcohol + qualité^2 > 11+5^2\n",
    "        if(1.2*xinit[loop,0]+xinit[loop,1]*xinit[loop,1]>11+5*5 ):\n",
    "            y_simpl.append(1)\n",
    "        else:\n",
    "            y_simpl.append(0)\n",
    "        \n",
    "        if(xinit[loop,0]<=12 and xinit[loop,1]>5 ):\n",
    "            y.append(1)\n",
    "        else:\n",
    "            y.append(0)\n",
    "\n",
    "x=np.array(x)\n",
    "print(len(x))\n",
    "print(y) "
   ]
  },
  {
   "cell_type": "code",
   "execution_count": 18,
   "metadata": {},
   "outputs": [],
   "source": [
    "def plot_data(X, y, ax, pos_label=\"y=1\", neg_label=\"y=0\", s=80, loc='best' ):\n",
    "    \"\"\" plots logistic data with two axis \"\"\"\n",
    "    # Find Indices of Positive and Negative Examples\n",
    "    pos=[]\n",
    "    neg=[]\n",
    "    idpos=[]\n",
    "    idneg=[]\n",
    "    for loop in range(len(y)):\n",
    "        if(y[loop]==1):\n",
    "            idpos.append(X[loop,0])\n",
    "            pos.append(X[loop,1])\n",
    "        else:\n",
    "            idneg.append(X[loop,0])\n",
    "            neg.append(X[loop,1])\n",
    "\n",
    "    # Plot examples\n",
    "    ax.scatter(idpos, pos, marker='x', s=s, c = 'red', label=pos_label)\n",
    "    ax.scatter(idneg, neg, marker='o', s=s, label=neg_label, facecolors='none', edgecolors='blue', lw=3)\n",
    "    ax.legend(loc=loc)\n",
    "\n",
    "    ax.figure.canvas.toolbar_visible = False\n",
    "    ax.figure.canvas.header_visible = False\n",
    "    ax.figure.canvas.footer_visible = False"
   ]
  },
  {
   "cell_type": "code",
   "execution_count": 19,
   "metadata": {},
   "outputs": [
    {
     "data": {
      "image/png": "[encoded data removed]",
      "text/plain": [
       "<Figure size 288x288 with 1 Axes>"
      ]
     },
     "metadata": {
      "needs_background": "light"
     },
     "output_type": "display_data"
    }
   ],
   "source": [
    "\n",
    "\n",
    "fig,ax = plt.subplots(1,1,figsize=(4,4))\n",
    "plot_data(x, y, ax)\n",
    "\n",
    "ax.axis([6, 18, 0, 10])\n",
    "ax.set_ylabel('Quality')\n",
    "ax.set_xlabel('Alcohol')\n",
    "\n",
    "plt.show()"
   ]
  },
  {
   "attachments": {},
   "cell_type": "markdown",
   "metadata": {},
   "source": [
    "LOGISTIC REGRESSION\n"
   ]
  },
  {
   "cell_type": "code",
   "execution_count": 20,
   "metadata": {},
   "outputs": [],
   "source": [
    "def sigmoid(z):\n",
    "    \"\"\"\n",
    "    Compute the sigmoid of z\n",
    "\n",
    "    Args:\n",
    "        z (ndarray): A scalar, numpy array of any size.\n",
    "\n",
    "    Returns:\n",
    "        g (ndarray): sigmoid(z), with the same shape as z\n",
    "         \n",
    "    \"\"\"\n",
    "\n",
    "    g = 1/(1+np.exp(-z))\n",
    "   \n",
    "    return g"
   ]
  },
  {
   "cell_type": "code",
   "execution_count": 21,
   "metadata": {},
   "outputs": [
    {
     "data": {
      "image/png": "[encoded data removed]",
      "text/plain": [
       "<Figure size 360x288 with 1 Axes>"
      ]
     },
     "metadata": {
      "needs_background": "light"
     },
     "output_type": "display_data"
    }
   ],
   "source": [
    "x_plot=[]\n",
    "for loop in range(len(x)):\n",
    "    x_plot.append(1.2*x[loop,0]+x[loop,1]*x[loop,1]-(11+5*5))\n",
    "x_plot=np.asarray(x_plot)\n",
    "xf=np.copy(x)\n",
    "for loop in range(len(x)):\n",
    "    xf[loop,1]=x[loop,1]*x[loop,1]\n",
    "\n",
    "y_train = y_simpl\n",
    "\n",
    "w_in = np.array([1.2,1])\n",
    "                 \n",
    "b_in = -36\n",
    "\n",
    "z=np.dot(xf,w_in) +b_in\n",
    "\n",
    "fig,ax = plt.subplots(1,1,figsize=(5,4))\n",
    "\n",
    "ax.scatter(x_plot,y_train,marker=\"x\")\n",
    "ax.scatter(x_plot,sigmoid(z),marker=\"x\")\n",
    "ax.set_ylabel(r'$x_1$')\n",
    "ax.set_xlabel(r'$x_0$')\n",
    "plt.show()\n",
    "\n"
   ]
  },
  {
   "attachments": {},
   "cell_type": "markdown",
   "metadata": {},
   "source": [
    "BOUNDARY"
   ]
  },
  {
   "cell_type": "code",
   "execution_count": 22,
   "metadata": {},
   "outputs": [
    {
     "name": "stdout",
     "output_type": "stream",
     "text": [
      "[   0    1    2 ... 1197 1198 1199]\n"
     ]
    },
    {
     "data": {
      "image/png": "[encoded data removed]",
      "text/plain": [
       "<Figure size 360x288 with 1 Axes>"
      ]
     },
     "metadata": {
      "needs_background": "light"
     },
     "output_type": "display_data"
    }
   ],
   "source": [
    "# Choose values between 0 and 6\n",
    "x0 = np.arange(1200)\n",
    "print(x0)\n",
    "import math\n",
    "#1.2*x[loop,0]+x[loop,1]*x[loop,1]>11+5*5\n",
    "#ici b=-11+5*5 w0 = 1,2 w1=1\n",
    "x1 = np.sqrt(20+x0*x0*0.3)\n",
    "fig,ax = plt.subplots(1,1,figsize=(5,4))\n",
    "# Plot the decision boundary\n",
    "ax.plot(x0,x1, c=\"b\")\n",
    "ax.axis([6, 18, 0, 10])\n",
    "\n",
    "# Fill the region below the line\n",
    "ax.fill_between(x0,x1, alpha=0.2)\n",
    "\n",
    "# Plot the original data\n",
    "plot_data(x,y,ax)\n",
    "ax.set_ylabel('Quality')\n",
    "ax.set_xlabel('Alcohol')\n",
    "plt.show()"
   ]
  },
  {
   "attachments": {},
   "cell_type": "markdown",
   "metadata": {},
   "source": [
    ", Logistic Loss"
   ]
  },
  {
   "cell_type": "code",
   "execution_count": 23,
   "metadata": {},
   "outputs": [],
   "source": [
    "import copy\n",
    "\n",
    "\n",
    "def compute_cost_logistic(X, y, w, b):\n",
    "    m, n = X.shape\n",
    "\n",
    "   ### START CODE HERE ###\n",
    "    loss_sum = 0 \n",
    "\n",
    "   # Loop over each training example\n",
    "    for i in range(m): \n",
    "\n",
    "       # First calculate z_wb = w[0]*X[i][0]+...+w[n-1]*X[i][n-1]+b\n",
    "        z_wb = 0 \n",
    "       # Loop over each feature\n",
    "        for j in range(n): \n",
    "           # Add the corresponding term to z_wb\n",
    "             z_wb_ij = z_wb_ij = w[j]*X[i][j]\n",
    "             z_wb += z_wb_ij # equivalent to z_wb = z_wb + z_wb_ij\n",
    "       # Add the bias term to z_wb\n",
    "        z_wb += b # equivalent to z_wb = z_wb + b\n",
    "\n",
    "        f_wb = f_wb = sigmoid(z_wb)\n",
    "        loss =  -y[i] * np.log(f_wb) - (1 - y[i]) * np.log(1 - f_wb)\n",
    "\n",
    "        loss_sum += loss # equivalent to loss_sum = loss_sum + loss\n",
    "\n",
    "    total_cost = (1 / m) * loss_sum  \n",
    "   ### END CODE HERE ### \n",
    "\n",
    "    return total_cost\n",
    "\n",
    "\n",
    "def compute_gradient_logistic(X, y, w, b): \n",
    "    \"\"\"\n",
    "    Computes the gradient for linear regression \n",
    " \n",
    "    Args:\n",
    "      X (ndarray (m,n): Data, m examples with n features\n",
    "      y (ndarray (m,)): target values\n",
    "      w (ndarray (n,)): model parameters  \n",
    "      b (scalar)      : model parameter\n",
    "    Returns\n",
    "      dj_dw (ndarray (n,)): The gradient of the cost w.r.t. the parameters w. \n",
    "      dj_db (scalar)      : The gradient of the cost w.r.t. the parameter b. \n",
    "    \"\"\"\n",
    "    m,n = X.shape\n",
    "    dj_dw = np.zeros((n,))                           #(n,)\n",
    "    dj_db = 0.\n",
    "\n",
    "    for i in range(m):\n",
    "        f_wb_i = sigmoid(np.dot(X[i],w) + b)          #(n,)(n,)=scalar\n",
    "        err_i  = f_wb_i  - y[i]                       #scalar\n",
    "        for j in range(n):\n",
    "            dj_dw[j] = dj_dw[j] + err_i * X[i,j]      #scalar\n",
    "        dj_db = dj_db + err_i\n",
    "    dj_dw = dj_dw/m                                   #(n,)\n",
    "    dj_db = dj_db/m                                   #scalar\n",
    "        \n",
    "    return dj_db, dj_dw \n",
    "\n",
    "def gradient_descent(X, y, w_in, b_in, alpha, num_iters): \n",
    "    \"\"\"\n",
    "    Performs batch gradient descent\n",
    "    \n",
    "    Args:\n",
    "      X (ndarray (m,n)   : Data, m examples with n features\n",
    "      y (ndarray (m,))   : target values\n",
    "      w_in (ndarray (n,)): Initial values of model parameters  \n",
    "      b_in (scalar)      : Initial values of model parameter\n",
    "      alpha (float)      : Learning rate\n",
    "      num_iters (scalar) : number of iterations to run gradient descent\n",
    "      \n",
    "    Returns:\n",
    "      w (ndarray (n,))   : Updated values of parameters\n",
    "      b (scalar)         : Updated value of parameter \n",
    "    \"\"\"\n",
    "    # An array to store cost J and w's at each iteration primarily for graphing later\n",
    "    J_history = []\n",
    "    w = copy.deepcopy(w_in)  #avoid modifying global w within function\n",
    "    b = b_in\n",
    "    \n",
    "    for i in range(num_iters):\n",
    "        # Calculate the gradient and update the parameters\n",
    "        dj_db, dj_dw = compute_gradient_logistic(X, y, w, b)   \n",
    "\n",
    "        # Update Parameters using w, b, alpha and gradient\n",
    "        w = w - alpha * dj_dw               \n",
    "        b = b - alpha * dj_db               \n",
    "      \n",
    "        # Save cost J at each iteration\n",
    "        if i<100000:      # prevent resource exhaustion \n",
    "            J_history.append( compute_cost_logistic(X, y, w, b) )\n",
    "\n",
    "        # Print cost every at intervals 10 times or as many iterations if < 10\n",
    "        if i% math.ceil(num_iters / 10) == 0:\n",
    "            print(f\"Iteration {i:4d}: Cost {J_history[-1]}   \")\n",
    "        \n",
    "    return w, b, J_history         #return final w,b and J history for graphing "
   ]
  },
  {
   "attachments": {},
   "cell_type": "markdown",
   "metadata": {},
   "source": [
    "TEST GRADIENT DESCENT"
   ]
  },
  {
   "cell_type": "code",
   "execution_count": 24,
   "metadata": {},
   "outputs": [],
   "source": [
    "def map_feature(X1, X2):\n",
    "    X1 = np.atleast_1d(X1)\n",
    "    X2 = np.atleast_1d(X2)\n",
    "    degree = 6\n",
    "    out = []\n",
    "    for i in range(1, degree+1):\n",
    "        for j in range(i + 1):\n",
    "            out.append((X1**(i-j) * (X2**j)))\n",
    "    return np.stack(out, axis=1)"
   ]
  },
  {
   "cell_type": "code",
   "execution_count": 25,
   "metadata": {},
   "outputs": [
    {
     "name": "stdout",
     "output_type": "stream",
     "text": [
      "Original shape of data: (115, 2)\n",
      "Original shape of y: (115,)\n",
      "Shape after feature mapping: (115, 27)\n",
      "X_train[0]: [9.4 5. ]\n",
      "mapped X_train[0]: [9.40000000e+00 5.00000000e+00 8.83600000e+01 4.70000000e+01\n",
      " 2.50000000e+01 8.30584000e+02 4.41800000e+02 2.35000000e+02\n",
      " 1.25000000e+02 7.80748960e+03 4.15292000e+03 2.20900000e+03\n",
      " 1.17500000e+03 6.25000000e+02 7.33904022e+04 3.90374480e+04\n",
      " 2.07646000e+04 1.10450000e+04 5.87500000e+03 3.12500000e+03\n",
      " 6.89869781e+05 3.66952011e+05 1.95187240e+05 1.03823000e+05\n",
      " 5.52250000e+04 2.93750000e+04 1.56250000e+04]\n",
      " cost : nan\n"
     ]
    },
    {
     "name": "stderr",
     "output_type": "stream",
     "text": [
      "/tmp/ipykernel_8124/291776554.py:24: RuntimeWarning: divide by zero encountered in log\n",
      "  loss =  -y[i] * np.log(f_wb) - (1 - y[i]) * np.log(1 - f_wb)\n",
      "/tmp/ipykernel_8124/291776554.py:24: RuntimeWarning: invalid value encountered in multiply\n",
      "  loss =  -y[i] * np.log(f_wb) - (1 - y[i]) * np.log(1 - f_wb)\n"
     ]
    }
   ],
   "source": [
    "X_train=np.copy(x)\n",
    "y_train=np.copy(y)\n",
    "print(\"Original shape of data:\", X_train.shape)\n",
    "print(\"Original shape of y:\", y_train.shape)\n",
    "X_mapped = map_feature(X_train[:, 0], X_train[:, 1])\n",
    "print(\"Shape after feature mapping:\", X_mapped.shape)\n",
    "print(\"X_train[0]:\", X_train[0])\n",
    "print(\"mapped X_train[0]:\", X_mapped[0])\n",
    "\n",
    "np.random.seed(1)\n",
    "initial_w = np.random.rand(X_mapped.shape[1]) - 0.5\n",
    "initial_b = 0.5\n",
    "lambda_ = 0.5\n",
    "cost = compute_cost_logistic(X_mapped, y_train, initial_w, initial_b)\n",
    "\n",
    "print(\" cost :\", cost)\n"
   ]
  },
  {
   "cell_type": "code",
   "execution_count": 26,
   "metadata": {},
   "outputs": [
    {
     "data": {
      "image/png": "[encoded data removed]",
      "text/plain": [
       "<Figure size 288x288 with 1 Axes>"
      ]
     },
     "metadata": {
      "needs_background": "light"
     },
     "output_type": "display_data"
    }
   ],
   "source": [
    "import matplotlib.pyplot as plt\n",
    "\n",
    "# Choose values between 0 and 6\n",
    "x0 = np.arange(0,18)\n",
    "\n",
    "# Plot the two decision boundaries\n",
    "x1 = np.sqrt(36-x0*1.2)\n",
    "x1_other = np.sqrt(36-x0*1.65839314)/0.92518989\n",
    "\n",
    "fig,ax = plt.subplots(1, 1, figsize=(4,4))\n",
    "# Plot the decision boundary\n",
    "ax.plot(x0,x1, c=\"blue\", label=\"$b$=-36\")\n",
    "ax.plot(x0,x1_other, c=\"magenta\", label=\"$b$=-40\")\n",
    "ax.axis([6, 18, 0, 10])\n",
    "\n",
    "# Plot the original data\n",
    "plot_data(x,y_train,ax)\n",
    "ax.axis([6, 18, 0, 10])\n",
    "ax.set_ylabel('$x_1$', fontsize=12)\n",
    "ax.set_xlabel('$x_0$', fontsize=12)\n",
    "plt.legend(loc=\"upper right\")\n",
    "plt.title(\"Decision Boundary\")\n",
    "plt.show()\n",
    "\n",
    "\n"
   ]
  },
  {
   "cell_type": "code",
   "execution_count": 175,
   "metadata": {},
   "outputs": [],
   "source": [
    "def zscore_normalize_features(X):\n",
    "    mu     = np.mean(X, axis=0)                 \n",
    "    sigma  = np.std(X, axis=0)                  \n",
    "    X_norm = np.array((X - mu) / sigma)\n",
    "    print(X_norm)\n",
    "    return (X_norm, mu, sigma)"
   ]
  },
  {
   "cell_type": "code",
   "execution_count": 176,
   "metadata": {},
   "outputs": [
    {
     "name": "stdout",
     "output_type": "stream",
     "text": [
      "[[-0.93588038 -0.8293368  -0.90800369 ... -0.74519624 -0.68336046\n",
      "  -0.62195686]\n",
      " [-0.48271725 -0.8293368  -0.50415294 ... -0.69473199 -0.66379897\n",
      "  -0.62195686]\n",
      " [-0.93588038 -0.8293368  -0.90800369 ... -0.74519624 -0.68336046\n",
      "  -0.62195686]\n",
      " ...\n",
      " [-1.11714563 -0.8293368  -1.06368502 ... -0.76464981 -0.69118505\n",
      "  -0.62195686]\n",
      " [ 1.32993528  0.31974431  1.32049916 ...  0.32831949  0.10735418\n",
      "  -0.05866467]\n",
      " [ 0.06107851 -0.8293368   0.00808884 ... -0.63072345 -0.64032519\n",
      "  -0.62195686]]\n",
      "[[-0.93588038 -0.8293368  -0.90800369 ... -0.74519624 -0.68336046\n",
      "  -0.62195686]\n",
      " [-0.48271725 -0.8293368  -0.50415294 ... -0.69473199 -0.66379897\n",
      "  -0.62195686]\n",
      " [-0.93588038 -0.8293368  -0.90800369 ... -0.74519624 -0.68336046\n",
      "  -0.62195686]\n",
      " ...\n",
      " [-1.11714563 -0.8293368  -1.06368502 ... -0.76464981 -0.69118505\n",
      "  -0.62195686]\n",
      " [ 1.32993528  0.31974431  1.32049916 ...  0.32831949  0.10735418\n",
      "  -0.05866467]\n",
      " [ 0.06107851 -0.8293368   0.00808884 ... -0.63072345 -0.64032519\n",
      "  -0.62195686]]\n",
      "dj_db: 0.14382899656688158\n",
      "First few elements of dj_dw:\n",
      " [-0.28373087068796754, -0.5166042363405964, -0.2758365165717047, -0.47152431093126107]\n"
     ]
    }
   ],
   "source": [
    "X_mapped, muX, sigmaX = zscore_normalize_features(map_feature(X_train[:, 0], X_train[:, 1]))\n",
    "X_mapped2 = map_feature(X_train[:, 0], X_train[:, 1])\n",
    "print( X_mapped)\n",
    "#print(X_mapped2)\n",
    "#print(X_train)\n",
    "\n",
    "np.random.seed(1) \n",
    "initial_w  = np.random.rand(X_mapped.shape[1]) - 0.5 \n",
    "initial_b = 0.5\n",
    " \n",
    "lambda_ = 0.5\n",
    "dj_db, dj_dw = compute_gradient_logistic(X_mapped, y_train, initial_w, initial_b)\n",
    "\n",
    "print(f\"dj_db: {dj_db}\", )\n",
    "print(f\"First few elements of dj_dw:\\n {dj_dw[:4].tolist()}\", )"
   ]
  },
  {
   "attachments": {},
   "cell_type": "markdown",
   "metadata": {},
   "source": [
    "GRADIENT DESCENT APPLICATION"
   ]
  },
  {
   "cell_type": "code",
   "execution_count": 29,
   "metadata": {},
   "outputs": [
    {
     "name": "stdout",
     "output_type": "stream",
     "text": [
      "Iteration    0: Cost 0.73797451773678   \n",
      "Iteration 1000: Cost 0.07904855574148997   \n",
      "Iteration 2000: Cost 0.05139692174897711   \n",
      "Iteration 3000: Cost 0.04007296952438814   \n",
      "Iteration 4000: Cost 0.0336430562970185   \n",
      "Iteration 5000: Cost 0.029412687981834197   \n",
      "Iteration 6000: Cost 0.02637961442154196   \n",
      "Iteration 7000: Cost 0.024077375808584784   \n",
      "Iteration 8000: Cost 0.022257097557550638   \n",
      "Iteration 9000: Cost 0.02077301161300353   \n"
     ]
    }
   ],
   "source": [
    "\n",
    "np.random.seed(1)\n",
    "initial_w = np.random.rand(X_mapped.shape[1])-0.5\n",
    "initial_b = 1.\n",
    "\n",
    "# Some gradient descent settings\n",
    "iterations = 10000\n",
    "alpha = 0.2\n",
    "\n",
    "w,b, J_history = gradient_descent(X_mapped, y_train, initial_w, initial_b, alpha, iterations)"
   ]
  },
  {
   "cell_type": "code",
   "execution_count": 198,
   "metadata": {},
   "outputs": [],
   "source": [
    "def sig(z):\n",
    " \n",
    "    return 1/(1+np.exp(-z))\n",
    "def plot_decision_boundary(w, b, X, y,muX=0,sigmaX=1):\n",
    "    # Credit to dibgerge on Github for this plotting code\n",
    "    fig,ax = plt.subplots(1, 2, figsize=(8,4))\n",
    "    \n",
    "    #ici = 27\n",
    "\n",
    "    if X.shape[1] <= 2:\n",
    "        plot_x = np.array([min(X[:, 0]), max(X[:, 0])])\n",
    "        plot_y = (-1. / w[1]) * (w[0] * plot_x + b)\n",
    "        \n",
    "        ax.plot(plot_x, plot_y, c=\"b\")\n",
    "        \n",
    "    else:\n",
    "        u = np.linspace(-2, 2.5, 50)\n",
    "        #print(u)\n",
    "        v = np.linspace(-3, 3, 50)\n",
    "        z = np.zeros((len(u), len(v)))\n",
    "        res=np.zeros((len(u), len(v)))\n",
    "        # Evaluate z = theta*x over the grid\n",
    "        for i in range(len(u)):\n",
    "            for j in range(len(v)):\n",
    "                x1=(u[i])*sigmaX[0]+muX[0]\n",
    "                x2=(v[j])*sigmaX[1]+muX[1]\n",
    "                mpuv=(map_feature(x1, x2))\n",
    "                norm_mpuv = np.array((mpuv - muX) / sigmaX)\n",
    "                z[i,j] = sig(np.dot(norm_mpuv, w) + b)\n",
    "                if(z[i,j]>0.5):\n",
    "                    res[i,j]=1\n",
    "\n",
    "                #-0.57334988  2.61790651\n",
    "\n",
    "                #norm_test = np.array((test - muX) / sigmaX)\n",
    "                #-0.57334988  2.61790651 -0.58659709  1.33972533  2.90471807 -0.59585977\n",
    "                #0.61625532  2.01051979  3.17868042 -0.60122932  0.21496111  1.30483865\n",
    "                #2.41765617  3.43151683 -0.60290999 -0.02748489  0.79940736  1.7548985\n",
    "                #2.72363895  3.65728241 -0.60120403 -0.18379606  0.44250777  1.22395537\n",
    "                #2.08418899  2.96917743  3.85299494]\n",
    "                #gg = sig(np.dot(norm_test, w) + b)\n",
    "                #print(\"normtest = \",norm_test)\n",
    "                #print(\"gg = \",gg)\n",
    "        # import#ant to transpose z before calling contour       \n",
    "        z = z.T\n",
    "        #print(res)\n",
    "        res= res.T\n",
    "        # Plot z = 0.5\n",
    "        xres,yres = np.meshgrid(u, v)\n",
    "        print(res.shape)\n",
    "        ax[0].scatter(xres, yres, c=res)\n",
    "        plot_data(X[:, 0:2], y,ax[1])\n",
    "        plot_data(X[:, 0:2], y,ax[0])\n",
    "        \n",
    "        #ax.contour(u,v,z, levels = [0.5], colors=\"g\")\n",
    "    "
   ]
  },
  {
   "cell_type": "code",
   "execution_count": 199,
   "metadata": {},
   "outputs": [
    {
     "name": "stdout",
     "output_type": "stream",
     "text": [
      "[4.05729469e-93]\n",
      "(50, 50)\n"
     ]
    },
    {
     "data": {
      "image/png": "[encoded data removed]",
      "text/plain": [
       "<Figure size 576x288 with 2 Axes>"
      ]
     },
     "metadata": {
      "needs_background": "light"
     },
     "output_type": "display_data"
    }
   ],
   "source": [
    "#print(w,b)\n",
    "print(sig(np.dot(map_feature(-0.5, 2.5), w) + b))\n",
    "plot_decision_boundary(w, b, X_mapped, y_train,muX,sigmaX)\n",
    "# Set the y-axis label\n",
    "plt.ylabel('Quality') \n",
    "# Set the x-axis label\n",
    "plt.xlabel('Alcohol') \n",
    "plt.legend(loc=\"upper left\")\n",
    "plt.show()"
   ]
  },
  {
   "attachments": {},
   "cell_type": "markdown",
   "metadata": {},
   "source": [
    "PREDICT"
   ]
  },
  {
   "cell_type": "code",
   "execution_count": 200,
   "metadata": {},
   "outputs": [],
   "source": [
    "#print(map_feature(X_train[:, 0], X_train[:, 1]))\n",
    "#X_mapped, mu, sigma = zscore_normalize_features(map_feature(X_train[:, 0], X_train[:, 1]))\n",
    "\n",
    "def predict(X, w, b): \n",
    "    \"\"\"\n",
    "    Predict whether the label is 0 or 1 using learned logistic\n",
    "    regression parameters w\n",
    "    \n",
    "    Args:\n",
    "      X : (ndarray Shape (m,n)) data, m examples by n features\n",
    "      w : (ndarray Shape (n,))  values of parameters of the model      \n",
    "      b : (scalar)              value of bias parameter of the model\n",
    "\n",
    "    Returns:\n",
    "      p : (ndarray (m,)) The predictions for X using a threshold at 0.5\n",
    "    \"\"\"\n",
    "    # number of training examples\n",
    "    m, n = X.shape   \n",
    "    p = np.zeros(m)\n",
    "   \n",
    "    ### START CODE HERE ### \n",
    "    # Loop over each example\n",
    "    for i in range(m):   \n",
    "        z_wb = 0\n",
    "        \n",
    "            \n",
    "        # Loop over each feature\n",
    "        for j in range(n): \n",
    "            # Add the corresponding term to z_wb\n",
    "            z_wb += X[i,j]*w[j]\n",
    "\n",
    "        # Add bias term \n",
    "        z_wb += b\n",
    "        \n",
    "        # Calculate the prediction for this example\n",
    "        #f_wb = sigmoid(z_wb)\n",
    "        #print(X[i])\n",
    "        f_wb = sig(np.dot(X[i], w) + b)\n",
    "        #if(X[i,1]>2 and y[i]==1):\n",
    "        #    print(X[i])\n",
    "        #    print(f_wb)\n",
    "        #print(f_wb)\n",
    "        # Apply the threshold\n",
    "        if(f_wb>=0.5):\n",
    "            p[i] = 1.\n",
    "        else:\n",
    "            p[i] = 0.\n",
    "        \n",
    "    ### END CODE HERE ### \n",
    "    return p"
   ]
  },
  {
   "cell_type": "code",
   "execution_count": 202,
   "metadata": {},
   "outputs": [
    {
     "name": "stdout",
     "output_type": "stream",
     "text": [
      "[ True  True  True  True  True  True  True  True  True  True  True  True\n",
      "  True  True  True  True  True  True  True  True  True  True  True  True\n",
      "  True  True  True  True  True  True  True  True  True  True  True  True\n",
      "  True  True  True  True  True  True  True  True  True  True  True  True\n",
      "  True  True  True  True  True  True  True  True  True  True  True  True\n",
      "  True  True  True  True  True  True  True  True  True  True  True  True\n",
      "  True  True  True  True  True  True  True  True  True  True  True  True\n",
      "  True  True  True  True  True  True  True  True  True  True  True  True\n",
      "  True  True  True  True  True  True  True  True  True  True  True  True\n",
      "  True  True  True  True  True  True  True]\n",
      "Train Accuracy: 100.000000\n"
     ]
    }
   ],
   "source": [
    "\n",
    "#Compute accuracy on the training set\n",
    "p = predict(X_mapped, w, b)\n",
    "print(p == y_train)\n",
    "print('Train Accuracy: %f'%(np.mean(p == y_train) * 100))"
   ]
  },
  {
   "cell_type": "code",
   "execution_count": null,
   "metadata": {},
   "outputs": [],
   "source": [
    "REGULARIZATION LAMBDA"
   ]
  },
  {
   "cell_type": "code",
   "execution_count": 203,
   "metadata": {},
   "outputs": [],
   "source": [
    "def compute_cost_reg(X, y, w, b, lambda_ = 1):\n",
    "    \"\"\"\n",
    "    Computes cost\n",
    "\n",
    "    Args:\n",
    "      X (ndarray (m,n)): Data, m examples with n features\n",
    "      y (ndarray (m,)) : target values\n",
    "      w (ndarray (n,)) : model parameters  \n",
    "      b (scalar)       : model parameter\n",
    "      \n",
    "    Returns:\n",
    "      cost (scalar): cost\n",
    "    \"\"\"\n",
    "\n",
    "    m = X.shape[0]\n",
    "    n = X.shape[1]\n",
    "    cost = 0.0\n",
    "    for i in range(m):\n",
    "        z_i = np.dot(X[i],w) + b\n",
    "        f_wb_i = sigmoid(z_i)\n",
    "        #cost +=  -y[i]*np.log(f_wb_i) - (1-y[i])*np.log(1-f_wb_i)\n",
    "        if(y[i]==1):\n",
    "                cost +=  -np.log(f_wb_i)\n",
    "        elif(y[i]==0):\n",
    "                cost +=  -np.log(1-f_wb_i)\n",
    "             \n",
    "    cost = cost / m\n",
    "    \n",
    "    reg_cost = 0\n",
    "    for j in range(n):\n",
    "        reg_cost += (w[j]**2)                                          #scalar\n",
    "    reg_cost = (lambda_/(2*m)) * reg_cost  \n",
    "    \n",
    "    \n",
    "    total_cost = cost + reg_cost                                       #scalar\n",
    "    return total_cost \n",
    "def compute_gradient_reg(X, y, w, b, lambda_ = 1): \n",
    "    m, n = X.shape\n",
    "\n",
    "    dj_db, dj_dw = compute_gradient_logistic(X, y, w, b)\n",
    "\n",
    "  ### START CODE HERE ###     \n",
    "  # Loop over the elements of w\n",
    "    for j in range(n): \n",
    "\n",
    "        dj_dw_j_reg = (lambda_ / m) * w[j]\n",
    "\n",
    "      # Add the regularization term  to the correspoding element of dj_dw\n",
    "        dj_dw[j] = dj_dw[j] + dj_dw_j_reg\n",
    "\n",
    "  ### END CODE HERE ###         \n",
    "\n",
    "    return dj_db, dj_dw\n",
    "\n",
    "def gradient_descent_reg(X, y, w_in, b_in, alpha, num_iters,lambda_=0): \n",
    "    \"\"\"\n",
    "    Performs batch gradient descent\n",
    "    \n",
    "    Args:\n",
    "      X (ndarray (m,n)   : Data, m examples with n features\n",
    "      y (ndarray (m,))   : target values\n",
    "      w_in (ndarray (n,)): Initial values of model parameters  \n",
    "      b_in (scalar)      : Initial values of model parameter\n",
    "      alpha (float)      : Learning rate\n",
    "      num_iters (scalar) : number of iterations to run gradient descent\n",
    "      \n",
    "    Returns:\n",
    "      w (ndarray (n,))   : Updated values of parameters\n",
    "      b (scalar)         : Updated value of parameter \n",
    "    \"\"\"\n",
    "    # An array to store cost J and w's at each iteration primarily for graphing later\n",
    "    J_history = []\n",
    "    w = copy.deepcopy(w_in)  #avoid modifying global w within function\n",
    "    b = b_in\n",
    "    \n",
    "    for i in range(num_iters):\n",
    "        # Calculate the gradient and update the parameters\n",
    "        dj_db, dj_dw = compute_gradient_reg(X, y, w, b,lambda_)   \n",
    "\n",
    "        # Update Parameters using w, b, alpha and gradient\n",
    "        w = w - alpha * dj_dw               \n",
    "        b = b - alpha * dj_db               \n",
    "      \n",
    "        # Save cost J at each iteration\n",
    "        if i<100000:      # prevent resource exhaustion \n",
    "            J_history.append( compute_cost_reg(X, y, w, b,lambda_) )\n",
    "\n",
    "        # Print cost every at intervals 10 times or as many iterations if < 10\n",
    "        if i% math.ceil(num_iters / 10) == 0:\n",
    "            print(f\"Iteration {i:4d}: Cost {J_history[-1]}   \")\n",
    "        \n",
    "    return w, b, J_history         #return final w,b and J history for graphing"
   ]
  },
  {
   "cell_type": "code",
   "execution_count": 204,
   "metadata": {},
   "outputs": [
    {
     "name": "stdout",
     "output_type": "stream",
     "text": [
      "Iteration    0: Cost 0.7477952631904216   \n",
      "Iteration 1000: Cost 0.23342766035275925   \n",
      "Iteration 2000: Cost 0.23311502526924313   \n",
      "Iteration 3000: Cost 0.2331072564146217   \n",
      "Iteration 4000: Cost 0.2331070286761282   \n",
      "Iteration 5000: Cost 0.23310702179276604   \n",
      "Iteration 6000: Cost 0.23310702158272373   \n",
      "Iteration 7000: Cost 0.2331070215762922   \n",
      "Iteration 8000: Cost 0.23310702157609506   \n",
      "Iteration 9000: Cost 0.23310702157608895   \n"
     ]
    }
   ],
   "source": [
    "# Initialize fitting parameters\n",
    "np.random.seed(1)\n",
    "initial_w2 = np.random.rand(X_mapped.shape[1])-0.5\n",
    "initial_b2 = 1.\n",
    "\n",
    "# Set regularization parameter lambda_ (you can try varying this)\n",
    "lambda_ = 1    \n",
    "\n",
    "# Some gradient descent settings\n",
    "iterations2 = 10000\n",
    "alpha2 = 0.2\n",
    "\n",
    "w2,b2, J_history2 = gradient_descent_reg(X_mapped, y_train, initial_w2, initial_b2, \n",
    "                                    alpha2, iterations2, lambda_)"
   ]
  },
  {
   "cell_type": "code",
   "execution_count": 205,
   "metadata": {},
   "outputs": [
    {
     "name": "stdout",
     "output_type": "stream",
     "text": [
      "(50, 50)\n"
     ]
    },
    {
     "data": {
      "image/png": "[encoded data removed]",
      "text/plain": [
       "<Figure size 576x288 with 2 Axes>"
      ]
     },
     "metadata": {
      "needs_background": "light"
     },
     "output_type": "display_data"
    }
   ],
   "source": [
    "\n",
    "plot_decision_boundary(w2, b2, X_mapped, y_train,muX,sigmaX)\n",
    "# Set the y-axis label\n",
    "plt.ylabel('Quality') \n",
    "# Set the x-axis label\n",
    "plt.xlabel('Alcohol') \n",
    "plt.legend(loc=\"upper left\")\n",
    "plt.show()"
   ]
  },
  {
   "cell_type": "code",
   "execution_count": 206,
   "metadata": {},
   "outputs": [
    {
     "name": "stdout",
     "output_type": "stream",
     "text": [
      "Train Accuracy: 97.391304\n"
     ]
    }
   ],
   "source": [
    "#Compute accuracy on the training set\n",
    "p = predict(X_mapped, w2, b2)\n",
    "\n",
    "print('Train Accuracy: %f'%(np.mean(p == y_train) * 100))"
   ]
  }
 ],
 "metadata": {
  "kernelspec": {
   "display_name": "Python 3",
   "language": "python",
   "name": "python3"
  },
  "language_info": {
   "codemirror_mode": {
    "name": "ipython",
    "version": 3
   },
   "file_extension": ".py",
   "mimetype": "text/x-python",
   "name": "python",
   "nbconvert_exporter": "python",
   "pygments_lexer": "ipython3",
   "version": "3.8.10"
  },
  "orig_nbformat": 4
 },
 "nbformat": 4,
 "nbformat_minor": 2
}
