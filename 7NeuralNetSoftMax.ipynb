{
 "cells": [
  {
   "cell_type": "code",
   "execution_count": 2,
   "metadata": {},
   "outputs": [
    {
     "name": "stdout",
     "output_type": "stream",
     "text": [
      "      fixed acidity  volatile acidity  citric acid  residual sugar  chlorides   \n",
      "0               7.4             0.700         0.00             1.9      0.076  \\\n",
      "1               7.8             0.880         0.00             2.6      0.098   \n",
      "2               7.8             0.760         0.04             2.3      0.092   \n",
      "3              11.2             0.280         0.56             1.9      0.075   \n",
      "4               7.4             0.700         0.00             1.9      0.076   \n",
      "...             ...               ...          ...             ...        ...   \n",
      "1138            6.3             0.510         0.13             2.3      0.076   \n",
      "1139            6.8             0.620         0.08             1.9      0.068   \n",
      "1140            6.2             0.600         0.08             2.0      0.090   \n",
      "1141            5.9             0.550         0.10             2.2      0.062   \n",
      "1142            5.9             0.645         0.12             2.0      0.075   \n",
      "\n",
      "      free sulfur dioxide  total sulfur dioxide  density    pH  sulphates   \n",
      "0                    11.0                  34.0  0.99780  3.51       0.56  \\\n",
      "1                    25.0                  67.0  0.99680  3.20       0.68   \n",
      "2                    15.0                  54.0  0.99700  3.26       0.65   \n",
      "3                    17.0                  60.0  0.99800  3.16       0.58   \n",
      "4                    11.0                  34.0  0.99780  3.51       0.56   \n",
      "...                   ...                   ...      ...   ...        ...   \n",
      "1138                 29.0                  40.0  0.99574  3.42       0.75   \n",
      "1139                 28.0                  38.0  0.99651  3.42       0.82   \n",
      "1140                 32.0                  44.0  0.99490  3.45       0.58   \n",
      "1141                 39.0                  51.0  0.99512  3.52       0.76   \n",
      "1142                 32.0                  44.0  0.99547  3.57       0.71   \n",
      "\n",
      "      alcohol  quality    Id  \n",
      "0         9.4        5     0  \n",
      "1         9.8        5     1  \n",
      "2         9.8        5     2  \n",
      "3         9.8        6     3  \n",
      "4         9.4        5     4  \n",
      "...       ...      ...   ...  \n",
      "1138     11.0        6  1592  \n",
      "1139      9.5        6  1593  \n",
      "1140     10.5        5  1594  \n",
      "1141     11.2        6  1595  \n",
      "1142     10.2        5  1597  \n",
      "\n",
      "[1143 rows x 13 columns]\n"
     ]
    }
   ],
   "source": [
    "import numpy as np\n",
    "import pandas as pd\n",
    "import matplotlib.pyplot as plt\n",
    "df = pd.read_csv('WineQT.csv')\n",
    "print(df)"
   ]
  },
  {
   "attachments": {},
   "cell_type": "markdown",
   "metadata": {},
   "source": [
    "VOIR LES VARIABLES : ON SE CONCENTRE SUR ['volatile acidity'],df['alcohol'],df['sulphates'],df['citric acid']"
   ]
  },
  {
   "cell_type": "code",
   "execution_count": 7,
   "metadata": {},
   "outputs": [
    {
     "name": "stdout",
     "output_type": "stream",
     "text": [
      "[[0.7    9.4    0.56   0.     3.51   0.9978 1.9    0.076 ]]\n",
      "[5 5 5 ... 5 6 5]\n",
      "1143\n",
      "1143\n"
     ]
    },
    {
     "data": {
      "image/png": "[encoded data removed]",
      "text/plain": [
       "<Figure size 864x216 with 8 Axes>"
      ]
     },
     "metadata": {
      "needs_background": "light"
     },
     "output_type": "display_data"
    }
   ],
   "source": [
    "import numpy as np\n",
    "import matplotlib.pyplot as plt\n",
    "# load the dataset\n",
    "\n",
    "y_train = df['quality']\n",
    "X_train= [df['volatile acidity'],df['alcohol'],df['sulphates'],df['citric acid'],df['pH'],df['density'],df['residual sugar'],df['chlorides']]\n",
    "X_features = ['volatile acidity','alcohol','sulphates','citric acid','pH','density','residual sugar','chlorides']\n",
    "X_train=np.transpose(np.asmatrix(X_train))\n",
    "nb_feature=len(X_features)\n",
    "y_train=np.asarray(y_train)\n",
    "print(X_train[:1])\n",
    "print(y_train)\n",
    "print(len(X_train))\n",
    "print(len(y_train))\n",
    "fig,ax=plt.subplots(1, nb_feature, figsize=(12, 3), sharey=True)\n",
    "for i in range(len(ax)):\n",
    "    ax[i].scatter([X_train[:,i]],[y_train])\n",
    "    ax[i].set_xlabel(X_features[i])\n",
    "ax[0].set_ylabel(\"Quality\")\n",
    "plt.show()"
   ]
  },
  {
   "cell_type": "code",
   "execution_count": 4,
   "metadata": {},
   "outputs": [],
   "source": [
    "def zscore_normalize_features(X):\n",
    "    mu     = np.mean(X, axis=0)                 # mu will have shape (n,)\n",
    "    # find the standard deviation of each column/feature\n",
    "    sigma  = np.std(X, axis=0)                  # sigma will have shape (n,)\n",
    "    # element-wise, subtract mu for that column from each example, divide by std for that column\n",
    "    X_norm = (X - mu) / sigma      \n",
    "\n",
    "    return (X_norm, mu, sigma)\n",
    " "
   ]
  },
  {
   "cell_type": "code",
   "execution_count": 8,
   "metadata": {},
   "outputs": [
    {
     "name": "stdout",
     "output_type": "stream",
     "text": [
      "X_mu = [[ 0.53133858 10.4421114   0.65770779  0.26836395  3.31101487  0.99673041\n",
      "   2.53215223  0.08693263]], \n",
      "X_sigma = [[0.1795546  1.0817221  0.17032416 0.19659979 0.15659551 0.00192422\n",
      "  1.3553242  0.04724666]]\n",
      "Peak to Peak range by column in Raw        X:[[1.460e+00 6.500e+00 1.670e+00 1.000e+00 1.270e+00 1.362e-02 1.460e+01\n",
      "  5.990e-01]]\n",
      "Peak to Peak range by column in Normalized X:[[ 8.13123157  6.00893702  9.80483344  5.08647531  8.11006636  7.07817494\n",
      "  10.77233036 12.67814579]]\n",
      "[[ 0.93933222 -0.96338181 -0.57365783 ...  0.55585438 -0.46642142\n",
      "  -0.23139486]\n",
      " [ 1.94181282 -0.59360107  0.1308811  ...  0.03616459  0.05006018\n",
      "   0.23424656]\n",
      " [ 1.27349242 -0.59360107 -0.04525363 ...  0.14010255 -0.17128908\n",
      "   0.10725344]\n",
      " ...\n",
      " [ 0.38239855  0.05351522 -0.45623467 ... -0.95124601 -0.39263833\n",
      "   0.06492241]\n",
      " [ 0.10393172  0.70063152  0.60057372 ... -0.83691426 -0.24507216\n",
      "  -0.52771212]\n",
      " [ 0.6330187  -0.22382033  0.30701583 ... -0.65502283 -0.39263833\n",
      "  -0.25256038]]\n"
     ]
    }
   ],
   "source": [
    "# normalize the original features\n",
    "X_norm, X_mu, X_sigma = zscore_normalize_features(X_train)\n",
    "print(f\"X_mu = {X_mu}, \\nX_sigma = {X_sigma}\")\n",
    "print(f\"Peak to Peak range by column in Raw        X:{np.ptp(X_train,axis=0)}\")   \n",
    "print(f\"Peak to Peak range by column in Normalized X:{np.ptp(X_norm,axis=0)}\")\n",
    "print(X_norm)"
   ]
  },
  {
   "cell_type": "code",
   "execution_count": 9,
   "metadata": {},
   "outputs": [
    {
     "data": {
      "image/png": "[encoded data removed]",
      "text/plain": [
       "<Figure size 864x216 with 8 Axes>"
      ]
     },
     "metadata": {
      "needs_background": "light"
     },
     "output_type": "display_data"
    },
    {
     "data": {
      "image/png": "[encoded data removed]",
      "text/plain": [
       "<Figure size 864x216 with 8 Axes>"
      ]
     },
     "metadata": {
      "needs_background": "light"
     },
     "output_type": "display_data"
    }
   ],
   "source": [
    "fig,ax=plt.subplots(1, nb_feature, figsize=(12, 3))\n",
    "for i in range(len(ax)):\n",
    "    ax[i].hist(X_train[:,i],bins='auto')\n",
    "    ax[i].set_xlabel(X_features[i])\n",
    "ax[0].set_ylabel(\"count\")\n",
    "fig.suptitle(\"distribution of features before normalization\")\n",
    "plt.show()\n",
    "fig,ax=plt.subplots(1,nb_feature,figsize=(12,3))\n",
    "\n",
    "for i in range(len(ax)):\n",
    "    ax[i].hist(X_norm[:,i],bins='auto')\n",
    "    ax[i].set_xlabel(X_features[i])\n",
    "ax[0].set_ylabel(\"count\"); \n",
    "fig.suptitle(\"distribution of features after normalization\")\n",
    "\n",
    "plt.show()"
   ]
  },
  {
   "attachments": {},
   "cell_type": "markdown",
   "metadata": {},
   "source": [
    "modif jeu de données"
   ]
  },
  {
   "cell_type": "code",
   "execution_count": 10,
   "metadata": {},
   "outputs": [
    {
     "name": "stdout",
     "output_type": "stream",
     "text": [
      "(573,)\n",
      "(573, 8)\n"
     ]
    },
    {
     "data": {
      "image/png": "[encoded data removed]",
      "text/plain": [
       "<Figure size 432x288 with 2 Axes>"
      ]
     },
     "metadata": {
      "needs_background": "light"
     },
     "output_type": "display_data"
    }
   ],
   "source": [
    "import random\n",
    "\n",
    "fig,ax=plt.subplots(1,2,sharey=True)\n",
    "ax[0].hist(df[\"quality\"], bins='auto',label=\"quality\")\n",
    "ax[0].set_title(\"quality before modif\")\n",
    "supp=[]\n",
    "#on supprime aleatoirement des valeurs de notes 5 et 6 (diviser par 3)\n",
    "for i in range(len(y_train)):\n",
    "    if y_train[i]==5 or y_train[i]==6:\n",
    "        rand=random.random()\n",
    "        if(rand>0.4):\n",
    "            supp.append(i)\n",
    "for j in range(len(supp)):\n",
    "    y_train2=np.delete(y_train,supp)\n",
    "    X_norm2=np.delete(X_norm,supp,0)\n",
    "\n",
    "\n",
    "ax[1].hist(y_train2, bins='auto',label=\"quality\")\n",
    "ax[1].set_title(\"quality after modif\")\n",
    "\n",
    "print(y_train2.shape)\n",
    "print(X_norm2.shape)\n"
   ]
  },
  {
   "cell_type": "code",
   "execution_count": 11,
   "metadata": {},
   "outputs": [
    {
     "name": "stderr",
     "output_type": "stream",
     "text": [
      "2023-04-20 15:05:30.118518: I tensorflow/tsl/cuda/cudart_stub.cc:28] Could not find cuda drivers on your machine, GPU will not be used.\n",
      "2023-04-20 15:05:30.423432: I tensorflow/tsl/cuda/cudart_stub.cc:28] Could not find cuda drivers on your machine, GPU will not be used.\n",
      "2023-04-20 15:05:30.425913: I tensorflow/core/platform/cpu_feature_guard.cc:182] This TensorFlow binary is optimized to use available CPU instructions in performance-critical operations.\n",
      "To enable the following instructions: AVX2 FMA, in other operations, rebuild TensorFlow with the appropriate compiler flags.\n",
      "2023-04-20 15:05:32.881509: W tensorflow/compiler/tf2tensorrt/utils/py_utils.cc:38] TF-TRT Warning: Could not find TensorRT\n"
     ]
    }
   ],
   "source": [
    "import numpy as np\n",
    "import matplotlib.pyplot as plt\n",
    "import tensorflow as tf\n",
    "from tensorflow.keras.models import Sequential\n",
    "from tensorflow.keras.layers import Dense\n",
    "from IPython.display import display, Markdown, Latex\n",
    "from matplotlib.widgets import Slider\n",
    "import logging\n",
    "logging.getLogger(\"tensorflow\").setLevel(logging.ERROR)\n",
    "tf.autograph.set_verbosity(0)"
   ]
  },
  {
   "cell_type": "code",
   "execution_count": 3,
   "metadata": {},
   "outputs": [],
   "source": [
    "def my_softmax(z):\n",
    "    ez = np.exp(z)              #element-wise exponenial\n",
    "    sm = ez/np.sum(ez)\n",
    "    return(sm)"
   ]
  },
  {
   "cell_type": "code",
   "execution_count": 12,
   "metadata": {},
   "outputs": [
    {
     "name": "stdout",
     "output_type": "stream",
     "text": [
      "(573, 8) (573, 1)\n"
     ]
    }
   ],
   "source": [
    "x=np.array(X_norm2)\n",
    "y=np.array(y_train2).reshape(-1,1)\n",
    "print(x.shape, y.shape)"
   ]
  },
  {
   "cell_type": "code",
   "execution_count": 13,
   "metadata": {},
   "outputs": [
    {
     "name": "stdout",
     "output_type": "stream",
     "text": [
      "(57300, 8) (57300, 1)\n"
     ]
    }
   ],
   "source": [
    "Xt = np.tile(x,(100,1))\n",
    "Yt= np.tile(y,(100,1))   \n",
    "print(Xt.shape, Yt.shape)  "
   ]
  },
  {
   "cell_type": "code",
   "execution_count": 14,
   "metadata": {},
   "outputs": [
    {
     "name": "stderr",
     "output_type": "stream",
     "text": [
      "2023-04-20 15:05:46.370299: E tensorflow/compiler/xla/stream_executor/cuda/cuda_driver.cc:266] failed call to cuInit: CUDA_ERROR_UNKNOWN: unknown error\n"
     ]
    }
   ],
   "source": [
    "tf.random.set_seed(1234)  \n",
    "model = Sequential(\n",
    "    [ \n",
    "        tf.keras.Input(shape=(nb_feature,)),\n",
    "        Dense(25, activation = 'relu',name =\"layer1\"),\n",
    "        Dense(15, activation = 'relu',name =\"layer2\"),\n",
    "        Dense(9, activation = 'softmax',name =\"layer3\")    # < softmax activation here\n",
    "    ]\n",
    ")\n"
   ]
  },
  {
   "cell_type": "code",
   "execution_count": 15,
   "metadata": {},
   "outputs": [
    {
     "name": "stdout",
     "output_type": "stream",
     "text": [
      "Model: \"sequential\"\n",
      "_________________________________________________________________\n",
      " Layer (type)                Output Shape              Param #   \n",
      "=================================================================\n",
      " layer1 (Dense)              (None, 25)                225       \n",
      "                                                                 \n",
      " layer2 (Dense)              (None, 15)                390       \n",
      "                                                                 \n",
      " layer3 (Dense)              (None, 9)                 144       \n",
      "                                                                 \n",
      "=================================================================\n",
      "Total params: 759\n",
      "Trainable params: 759\n",
      "Non-trainable params: 0\n",
      "_________________________________________________________________\n"
     ]
    }
   ],
   "source": [
    "model.summary()"
   ]
  },
  {
   "cell_type": "code",
   "execution_count": 16,
   "metadata": {},
   "outputs": [
    {
     "name": "stdout",
     "output_type": "stream",
     "text": [
      "W1:\n",
      " [[ 0.19162995 -0.20380999 -0.23143105 -0.348997    0.29388648 -0.29779702\n",
      "   0.36359495 -0.405724   -0.31918776  0.18398112  0.18452716  0.40862197\n",
      "   0.3447247   0.19583988 -0.38398102 -0.31311333 -0.3049506   0.27032948\n",
      "   0.06831169 -0.05690968  0.10742646  0.20251006 -0.16354299 -0.18415679\n",
      "  -0.0034447 ]\n",
      " [ 0.03678721 -0.20976616 -0.16747081 -0.422202    0.39732242 -0.03123567\n",
      "   0.30518657 -0.33775094 -0.10063452 -0.40941525 -0.06489807 -0.11436805\n",
      "  -0.2647577   0.3228246   0.3037284   0.07745743  0.11998886  0.00671539\n",
      "  -0.24857625  0.3787552  -0.34275147  0.05011266 -0.20237239  0.03353384\n",
      "   0.3496589 ]\n",
      " [-0.18141568 -0.02608982  0.3595134  -0.28106236  0.28862733 -0.02359393\n",
      "  -0.14694554 -0.14544979  0.4160329   0.25097954  0.01948079  0.1401782\n",
      "   0.14945698 -0.16264316 -0.29145098 -0.090736   -0.18012732  0.09697449\n",
      "   0.13246804 -0.13271815 -0.4237378   0.09280819  0.21946543 -0.15501264\n",
      "  -0.1536836 ]\n",
      " [-0.2581154  -0.32239458 -0.01410794  0.03671646 -0.0062643   0.15841985\n",
      "   0.20964384 -0.15343961  0.20610714  0.16586953 -0.14395446  0.2962107\n",
      "  -0.30085453 -0.05999005  0.0826025   0.3305933   0.20772165  0.16250676\n",
      "   0.10690451  0.30356646  0.04787162  0.20515448 -0.2528362   0.0905661\n",
      "   0.12697321]\n",
      " [ 0.05452144  0.3692947   0.15763712  0.09179258 -0.14901713  0.14033383\n",
      "  -0.15278563  0.23468822  0.26361775  0.10886061 -0.34710914  0.21627235\n",
      "  -0.3818382  -0.18326522  0.31740153  0.29446244  0.29325408 -0.11767247\n",
      "   0.20112163 -0.12517461  0.27939785  0.29836917 -0.4118053  -0.39847142\n",
      "   0.00991428]\n",
      " [ 0.16985571 -0.34139115 -0.24014767 -0.11190283 -0.09651884 -0.15695235\n",
      "   0.35179442 -0.30844247  0.26768315 -0.1417382   0.1419521  -0.3928851\n",
      "   0.29352337 -0.2698174  -0.38140693  0.27653515 -0.02548331  0.2520423\n",
      "  -0.1749998   0.10261512 -0.32380098  0.17031205  0.01056939  0.12071407\n",
      "   0.2689603 ]\n",
      " [-0.26593536  0.14771652  0.11230451  0.3993274  -0.42436728 -0.27875352\n",
      "   0.00919533 -0.33488202 -0.3712262   0.39636213  0.15032071  0.03243577\n",
      "  -0.09554511 -0.17553607 -0.1587607   0.04881474 -0.30175656 -0.37861347\n",
      "  -0.23333824 -0.02124625  0.20082599  0.258954    0.02911478  0.24749416\n",
      "  -0.07035694]\n",
      " [-0.16680023  0.42461413 -0.2020124  -0.23829345  0.07261199  0.22956914\n",
      "   0.4178475  -0.22480606 -0.21658099 -0.0514347   0.0278495  -0.37266308\n",
      "   0.22287577 -0.4020675   0.09555387 -0.27786833 -0.2809177  -0.18335854\n",
      "   0.2628489  -0.26808792 -0.25273788 -0.30500507 -0.19934611  0.1091302\n",
      "   0.18721044]] \n",
      "b1: [0. 0. 0. 0. 0. 0. 0. 0. 0. 0. 0. 0. 0. 0. 0. 0. 0. 0. 0. 0. 0. 0. 0. 0.\n",
      " 0.]\n",
      "W2:\n",
      " [[ 0.05726051  0.293566    0.12433368 -0.24518484  0.17288673  0.15534979\n",
      "   0.29192734  0.11656445 -0.28545642  0.02333593  0.23084235 -0.27019277\n",
      "  -0.04896069 -0.04962564 -0.01223114]\n",
      " [-0.3466769  -0.20107065 -0.17802586 -0.18588641 -0.33798546  0.05950701\n",
      "   0.00741345 -0.14699373 -0.1034838  -0.00340241  0.24063748 -0.04475087\n",
      "   0.31243235  0.26052654 -0.27046996]\n",
      " [-0.31693047  0.2277196   0.24905622  0.02456766  0.13340878 -0.17205817\n",
      "  -0.12622195  0.3726377  -0.2152907   0.10381225  0.19107455  0.2376557\n",
      "  -0.0167686  -0.3590953  -0.11860564]\n",
      " [ 0.37480515  0.21320486  0.19476545 -0.26869217 -0.02660078  0.20849639\n",
      "   0.06241968  0.04644427 -0.12061042  0.15581489  0.31835324  0.15996343\n",
      "  -0.35909456 -0.37080604 -0.16451046]\n",
      " [-0.09050286  0.2539894  -0.03936619 -0.15835522  0.35969466  0.23128635\n",
      "  -0.38702327  0.15000713  0.2296055   0.05774593  0.21641427 -0.02136442\n",
      "  -0.28055608 -0.18391238  0.37411582]\n",
      " [ 0.23701054 -0.27913156 -0.16336314 -0.07939568  0.02448872  0.14233965\n",
      "   0.02137098  0.2833885  -0.16339168 -0.3501456  -0.11278945  0.02605957\n",
      "   0.37031996 -0.18220724 -0.27533504]\n",
      " [-0.0389697  -0.3721598  -0.02437031 -0.1145162   0.00225842  0.01461959\n",
      "  -0.17095147 -0.2711421   0.36237895 -0.34047005  0.38151956  0.32090396\n",
      "  -0.2635282   0.09790772 -0.1160928 ]\n",
      " [-0.3560581  -0.00581598 -0.16805527  0.31434804  0.00528458 -0.19721845\n",
      "   0.38433743 -0.2776605   0.36545718 -0.10361078  0.28553325 -0.3849991\n",
      "  -0.089937   -0.09599695 -0.20639409]\n",
      " [-0.35930648 -0.21505116 -0.38721487  0.1179921   0.17221719 -0.2799266\n",
      "  -0.09915245  0.0884257   0.0445179   0.0260376   0.03449327 -0.25249183\n",
      "  -0.01577365  0.0657281  -0.12992132]\n",
      " [ 0.00838956  0.30458677 -0.13780506 -0.10606393  0.11172712 -0.25262007\n",
      "  -0.06355867 -0.3375295  -0.01908252 -0.10805893 -0.29712448 -0.17603853\n",
      "  -0.08204433  0.06104705 -0.1878089 ]\n",
      " [ 0.15947115 -0.2646273   0.22689867 -0.3124972  -0.21554315 -0.09278587\n",
      "   0.26557684  0.3051213  -0.18952262 -0.15797885  0.2595309  -0.300198\n",
      "   0.05603507  0.31779015 -0.21674734]\n",
      " [ 0.10253769 -0.36093092 -0.16417536 -0.09556398  0.04070714 -0.00654712\n",
      "  -0.26408812  0.29561144  0.31187695  0.01511618  0.2780813  -0.27828434\n",
      "   0.05525738 -0.14127748 -0.16731839]\n",
      " [ 0.11789709 -0.06174338  0.24971944 -0.13173118  0.17284608  0.35754633\n",
      "  -0.28092277 -0.29125595 -0.13350576 -0.23282626  0.32815558  0.27376312\n",
      "  -0.27553523  0.24959618 -0.14342251]\n",
      " [ 0.08697265  0.06773934  0.11926287  0.22106224 -0.3529287  -0.2570723\n",
      "   0.08063513  0.05718875  0.38671708  0.00590461  0.3308776  -0.08070272\n",
      "  -0.23535313 -0.08297843 -0.29172254]\n",
      " [-0.04763758 -0.34485143 -0.14327893  0.11437482 -0.28263047  0.11259076\n",
      "   0.35249048 -0.14364477  0.19922805  0.32929093 -0.33396864 -0.2881965\n",
      "   0.27941477  0.10892296 -0.2126545 ]\n",
      " [ 0.2418201   0.02104068  0.33386624 -0.22968562  0.31444168  0.13165045\n",
      "   0.1693855   0.24639678 -0.05798611  0.15010369 -0.06052127  0.23624343\n",
      "   0.2613324  -0.14549598 -0.34993562]\n",
      " [-0.23210749  0.11265796  0.36922085 -0.30930817 -0.12060457  0.03874725\n",
      "  -0.33603692 -0.07011375  0.3255393   0.34677947 -0.21599948 -0.33466893\n",
      "  -0.31922954  0.08029994  0.03972733]\n",
      " [ 0.2320627  -0.18936685  0.1903606  -0.09999755 -0.10139048  0.09255695\n",
      "  -0.28296447  0.3603596  -0.0740844  -0.26315266 -0.3020013  -0.37590304\n",
      "  -0.09061238  0.26870185  0.1574741 ]\n",
      " [ 0.24606687  0.01621133 -0.04173702 -0.11619365  0.218095   -0.23230205\n",
      "   0.12493992  0.26340896  0.08266827 -0.35788548  0.33937925  0.28486186\n",
      "  -0.28398684  0.04369155  0.32245725]\n",
      " [-0.2041015  -0.3639046  -0.0470815  -0.09647664  0.35075903 -0.18206763\n",
      "  -0.30844304  0.12327957  0.27683675 -0.20029916  0.26422507 -0.3568001\n",
      "   0.27245045  0.33004773 -0.26111352]\n",
      " [-0.12810946 -0.12904012  0.31040514  0.25349343  0.14206606 -0.19219132\n",
      "   0.15239215 -0.23870032  0.06041276  0.27813345 -0.2529443  -0.23593144\n",
      "   0.19078112  0.25670183  0.33336556]\n",
      " [-0.36219382  0.1298685  -0.26599115  0.3679099   0.16058153 -0.28612292\n",
      "   0.28706563 -0.06678566 -0.14508553  0.13173902 -0.01723382 -0.32455087\n",
      "   0.3278004   0.11415154  0.26565844]\n",
      " [-0.11289844  0.18500763 -0.36409095  0.10301131 -0.19868968  0.1023398\n",
      "  -0.35500607  0.05706808  0.22231835 -0.24815455 -0.19607732  0.19632149\n",
      "   0.05579647  0.33162332 -0.30385703]\n",
      " [-0.03400877  0.03832507 -0.10305148 -0.3592785   0.14310396 -0.27033865\n",
      "  -0.17064685  0.19921881 -0.21598934 -0.01279247  0.34138262  0.35122496\n",
      "  -0.06899109  0.00870538  0.04234803]\n",
      " [-0.0450035  -0.32743287  0.0843071   0.20712137  0.09167752  0.21294028\n",
      "  -0.14067118  0.23479402 -0.32129008 -0.38018185 -0.0742954   0.3319826\n",
      "   0.25064856 -0.01448938 -0.35498214]] \n",
      "b2: [0. 0. 0. 0. 0. 0. 0. 0. 0. 0. 0. 0. 0. 0. 0.]\n"
     ]
    }
   ],
   "source": [
    "W1, b1 = model.get_layer(\"layer1\").get_weights()\n",
    "W2, b2 = model.get_layer(\"layer2\").get_weights()\n",
    "print(\"W1:\\n\", W1, \"\\nb1:\", b1)\n",
    "print(\"W2:\\n\", W2, \"\\nb2:\", b2)\n"
   ]
  },
  {
   "cell_type": "code",
   "execution_count": 17,
   "metadata": {},
   "outputs": [
    {
     "name": "stdout",
     "output_type": "stream",
     "text": [
      "Epoch 1/10\n",
      "1791/1791 [==============================] - 8s 4ms/step - loss: 1.0520\n",
      "Epoch 2/10\n",
      "1791/1791 [==============================] - 6s 4ms/step - loss: 0.8426\n",
      "Epoch 3/10\n",
      "1791/1791 [==============================] - 6s 3ms/step - loss: 0.7500\n",
      "Epoch 4/10\n",
      "1791/1791 [==============================] - 7s 4ms/step - loss: 0.6729\n",
      "Epoch 5/10\n",
      "1791/1791 [==============================] - 7s 4ms/step - loss: 0.6038\n",
      "Epoch 6/10\n",
      "1791/1791 [==============================] - 6s 4ms/step - loss: 0.5440\n",
      "Epoch 7/10\n",
      "1791/1791 [==============================] - 6s 4ms/step - loss: 0.4950\n",
      "Epoch 8/10\n",
      "1791/1791 [==============================] - 7s 4ms/step - loss: 0.4547\n",
      "Epoch 9/10\n",
      "1791/1791 [==============================] - 6s 4ms/step - loss: 0.4201\n",
      "Epoch 10/10\n",
      "1791/1791 [==============================] - 6s 4ms/step - loss: 0.3877\n"
     ]
    },
    {
     "data": {
      "text/plain": [
       "<keras.callbacks.History at 0x7f366c514d30>"
      ]
     },
     "execution_count": 17,
     "metadata": {},
     "output_type": "execute_result"
    }
   ],
   "source": [
    "model.compile(\n",
    "    loss=tf.keras.losses.SparseCategoricalCrossentropy(),\n",
    "    optimizer=tf.keras.optimizers.Adam(0.001),\n",
    ")\n",
    "\n",
    "model.fit(\n",
    "    Xt,Yt,\n",
    "    epochs=10\n",
    ")"
   ]
  },
  {
   "cell_type": "markdown",
   "metadata": {},
   "source": [
    "TEST DU RESULTAT"
   ]
  },
  {
   "cell_type": "code",
   "execution_count": 18,
   "metadata": {},
   "outputs": [],
   "source": [
    "def locateMax(tab):\n",
    "    max=0\n",
    "    for loop in range(len(tab)):\n",
    "        if tab[loop]>tab[max]:\n",
    "            max=loop\n",
    "    return max"
   ]
  },
  {
   "cell_type": "code",
   "execution_count": 21,
   "metadata": {},
   "outputs": [
    {
     "name": "stdout",
     "output_type": "stream",
     "text": [
      "1/1 [==============================] - 0s 190ms/step\n",
      "[6.8307842e-22 6.7555606e-21 1.5948475e-20 7.8239179e-37 1.2818883e-07\n",
      " 7.8591782e-09 1.2646273e-02 9.8324573e-01 4.1079270e-03]\n",
      "largest value 0.98324573 smallest value 7.823918e-37\n",
      "position du max :  7\n"
     ]
    }
   ],
   "source": [
    "X_test = np.array([\n",
    "    [1,5,1,0,2,1,3,1],  # postive example\n",
    "    ])   # negative example\n",
    "norm_l = tf.keras.layers.Normalization(axis=-1)\n",
    "\n",
    "X_testn = norm_l(X_test)\n",
    "\n",
    "p_nonpreferred = model.predict(X_test)\n",
    "print(p_nonpreferred [:2][0])\n",
    "print(\"largest value\", np.max(p_nonpreferred), \"smallest value\", np.min(p_nonpreferred))\n",
    "print(\"position du max : \",locateMax(p_nonpreferred [:2][0]))\n",
    "w_final=W2\n",
    "b_final=b2\n",
    "\n"
   ]
  },
  {
   "cell_type": "code",
   "execution_count": 23,
   "metadata": {},
   "outputs": [
    {
     "name": "stdout",
     "output_type": "stream",
     "text": [
      "18/18 [==============================] - 0s 4ms/step\n"
     ]
    },
    {
     "data": {
      "image/png": "[encoded data removed]",
      "text/plain": [
       "<Figure size 864x216 with 8 Axes>"
      ]
     },
     "metadata": {
      "needs_background": "light"
     },
     "output_type": "display_data"
    }
   ],
   "source": [
    "#predict target using normalized features\n",
    "m = x.shape[0]\n",
    "yp = np.zeros(m)\n",
    "predictions = model.predict(x)\n",
    "for loop in range(len(predictions)):\n",
    "    yp[loop]=locateMax(predictions[loop])\n",
    "\n",
    "    # plot predictions and targets versus original features    \n",
    "fig,ax=plt.subplots(1,nb_feature,figsize=(12, 3),sharey=True)\n",
    "for i in range(len(ax)):\n",
    "    ax[i].scatter([x[:,i]],y, label = 'target')\n",
    "    ax[i].set_xlabel(X_features[i])\n",
    "    ax[i].scatter([x[:,i]],yp,color=\"orange\", label = 'predict')\n",
    "ax[0].set_ylabel(\"Quality\"); ax[0].legend()\n",
    "fig.suptitle(\"target versus prediction using Softmax model\")\n",
    "plt.show()"
   ]
  },
  {
   "cell_type": "code",
   "execution_count": 24,
   "metadata": {},
   "outputs": [
    {
     "name": "stdout",
     "output_type": "stream",
     "text": [
      "Train Accuracy:  85.79136690647482\n"
     ]
    }
   ],
   "source": [
    "sum=0\n",
    "for loop in range(556):\n",
    "    if(yp[loop] == y[loop]):\n",
    "        sum+=1\n",
    "print('Train Accuracy: ',(sum/556)*100)"
   ]
  },
  {
   "attachments": {},
   "cell_type": "markdown",
   "metadata": {},
   "source": [
    "prévisions sur tout le dataset"
   ]
  },
  {
   "cell_type": "code",
   "execution_count": 25,
   "metadata": {},
   "outputs": [
    {
     "name": "stdout",
     "output_type": "stream",
     "text": [
      "(1143, 8) (1143, 1)\n",
      "36/36 [==============================] - 0s 4ms/step\n"
     ]
    },
    {
     "data": {
      "image/png": "[encoded data removed]",
      "text/plain": [
       "<Figure size 864x216 with 4 Axes>"
      ]
     },
     "metadata": {
      "needs_background": "light"
     },
     "output_type": "display_data"
    }
   ],
   "source": [
    "x_all=np.array(X_norm)\n",
    "y_all=np.array(y_train).reshape(-1,1)\n",
    "print(x_all.shape, y_all.shape)\n",
    "\n",
    "\n",
    "m = x_all.shape[0]\n",
    "yp_all = np.zeros(m)\n",
    "predictions = model.predict(x_all)\n",
    "for loop in range(len(predictions)):\n",
    "    yp_all[loop]=locateMax(predictions[loop])\n",
    "\n",
    "    # plot predictions and targets versus original features    \n",
    "fig,ax=plt.subplots(1,4,figsize=(12, 3),sharey=True)\n",
    "for i in range(len(ax)):\n",
    "    ax[i].scatter([x_all[:,i]],y_all, label = 'target')\n",
    "    ax[i].set_xlabel(X_features[i])\n",
    "    ax[i].scatter([x_all[:,i]],yp_all,color=\"orange\", label = 'predict')\n",
    "ax[0].set_ylabel(\"Quality\"); ax[0].legend()\n",
    "fig.suptitle(\"target versus prediction using Softmax model\")\n",
    "plt.show()"
   ]
  },
  {
   "cell_type": "code",
   "execution_count": 26,
   "metadata": {},
   "outputs": [
    {
     "name": "stdout",
     "output_type": "stream",
     "text": [
      "Train Accuracy:  67.44604316546763\n"
     ]
    }
   ],
   "source": [
    "sum=0\n",
    "for loop in range(556):\n",
    "    if(yp_all[loop] == y_all[loop]):\n",
    "        sum+=1\n",
    "print('Train Accuracy: ',(sum/556)*100)"
   ]
  }
 ],
 "metadata": {
  "kernelspec": {
   "display_name": "Python 3",
   "language": "python",
   "name": "python3"
  },
  "language_info": {
   "codemirror_mode": {
    "name": "ipython",
    "version": 3
   },
   "file_extension": ".py",
   "mimetype": "text/x-python",
   "name": "python",
   "nbconvert_exporter": "python",
   "pygments_lexer": "ipython3",
   "version": "3.8.10"
  },
  "orig_nbformat": 4
 },
 "nbformat": 4,
 "nbformat_minor": 2
}
