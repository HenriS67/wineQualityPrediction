{
 "cells": [
  {
   "attachments": {},
   "cell_type": "markdown",
   "metadata": {},
   "source": [
    "3: RESEAU DE NEURONES"
   ]
  },
  {
   "attachments": {},
   "cell_type": "markdown",
   "metadata": {},
   "source": [
    "Préparation des données: (pareil)"
   ]
  },
  {
   "cell_type": "code",
   "execution_count": 11,
   "metadata": {},
   "outputs": [
    {
     "name": "stderr",
     "output_type": "stream",
     "text": [
      "/home/henri/.local/lib/python3.8/site-packages/pandas/core/series.py:726: RuntimeWarning: invalid value encountered in log\n",
      "  result = getattr(ufunc, method)(*inputs, **kwargs)\n"
     ]
    },
    {
     "name": "stdout",
     "output_type": "stream",
     "text": [
      "(1074, 10)\n",
      "(1074,)\n"
     ]
    },
    {
     "data": {
      "image/png": "[encoded data removed]",
      "text/plain": [
       "<Figure size 640x480 with 2 Axes>"
      ]
     },
     "metadata": {},
     "output_type": "display_data"
    }
   ],
   "source": [
    "import numpy as np\n",
    "import pandas as pd\n",
    "import matplotlib.pyplot as plt\n",
    "import random\n",
    "df = pd.read_csv('WineQT.csv')\n",
    "import numpy as np\n",
    "import matplotlib.pyplot as plt\n",
    "\n",
    "def plot_hists(df):\n",
    "    fig, ax = plt.subplots(nrows=3, ncols=4, figsize=(20, 15))\n",
    "    for n in range(12):\n",
    "        i = n % 3\n",
    "        j = n % 4\n",
    "        ax[i, j].hist(df.iloc[:, n], bins='auto')\n",
    "        ax[i, j].set_xlabel(df.columns[n])\n",
    "\n",
    "#On normalise : mettre entre 0 et 1\n",
    "def normalize(df, property, parameter):\n",
    "    df[property] = np.log(df[property] + parameter)\n",
    "\n",
    "\n",
    "normalize(df, \"fixed acidity\", -2.3)\n",
    "normalize(df, \"sulphates\", -0.24)\n",
    "normalize(df, \"total sulfur dioxide\", 5)\n",
    "normalize(df, \"residual sugar\", -1.1)\n",
    "normalize(df, \"chlorides\", -0.005)\n",
    "normalize(df, \"volatile acidity\", 2)\n",
    "normalize(df, \"free sulfur dioxide\", 2)\n",
    "#plot_hists(df)\n",
    "\n",
    "standardized = (df - df.mean()) / df.std()\n",
    "standardized = standardized[(np.abs(standardized) < 3).all(axis=1)]\n",
    "rows = np.setdiff1d(list(df.index), list(standardized.index))\n",
    "df.drop(index=rows, inplace=True)\n",
    "#plot_hists(df)\n",
    "\n",
    "import numpy as np\n",
    "import matplotlib.pyplot as plt\n",
    "\n",
    "#Préparation des données\n",
    "y = df['quality']\n",
    "X= [df['fixed acidity'],  df['volatile acidity']  ,df['citric acid']  ,df['residual sugar'],  df['chlorides'],df['free sulfur dioxide']  ,df['total sulfur dioxide'],  df['density']    ,df['pH'],  df['sulphates']]\n",
    "X=np.transpose(np.array(X))\n",
    "y=np.asarray(y)\n",
    "print(X.shape)\n",
    "print(y.shape)\n",
    "X_features = ['fixed acidity',  'volatile acidity'  ,'citric acid'  ,'residual sugar',  'chlorides','free sulfur dioxide'  ,'total sulfur dioxide',  'density'    ,'pH',  'sulphates']\n",
    "nb_feature=len(X_features)\n",
    "\n",
    "\n",
    "#on supprime aleatoirement des valeurs de notes 5 et 6 (diviser par 2)\n",
    "supp=[]\n",
    "for i in range(len(y)):\n",
    "    if y[i]==5 or y[i]==6:\n",
    "        rand=random.random()\n",
    "        if(rand>0.5):\n",
    "            supp.append(i)\n",
    "y2=np.delete(y,supp)\n",
    "\n",
    "X2=np.delete(X,supp,0)\n",
    "\n",
    "#Plot des modifications\n",
    "fig,ax=plt.subplots(1,2,sharey=True)\n",
    "ax[0].hist(y, bins='auto',label=\"quality\")\n",
    "ax[0].set_title(\"quality avant modification\")\n",
    "\n",
    "ax[1].hist(y2, bins='auto',label=\"quality\")\n",
    "ax[1].set_title(\"quality après modification\")\n",
    "\n",
    "#on créé les jeux de données\n",
    "from sklearn.model_selection import train_test_split\n",
    "X_train, X_tmp, y_train, y_tmp = train_test_split(X2, y2, test_size=0.4, random_state=42)\n",
    "X_cv, X_test, y_cv, y_test = train_test_split(X_tmp, y_tmp, test_size=0.5, random_state=42)"
   ]
  },
  {
   "attachments": {},
   "cell_type": "markdown",
   "metadata": {},
   "source": [
    "Creation de 3 modèles à comparer:"
   ]
  },
  {
   "cell_type": "code",
   "execution_count": 1,
   "metadata": {},
   "outputs": [
    {
     "name": "stderr",
     "output_type": "stream",
     "text": [
      "2023-04-30 15:21:16.310134: I tensorflow/tsl/cuda/cudart_stub.cc:28] Could not find cuda drivers on your machine, GPU will not be used.\n",
      "2023-04-30 15:21:16.350386: I tensorflow/tsl/cuda/cudart_stub.cc:28] Could not find cuda drivers on your machine, GPU will not be used.\n",
      "2023-04-30 15:21:16.351288: I tensorflow/core/platform/cpu_feature_guard.cc:182] This TensorFlow binary is optimized to use available CPU instructions in performance-critical operations.\n",
      "To enable the following instructions: AVX2 FMA, in other operations, rebuild TensorFlow with the appropriate compiler flags.\n",
      "2023-04-30 15:21:17.062594: W tensorflow/compiler/tf2tensorrt/utils/py_utils.cc:38] TF-TRT Warning: Could not find TensorRT\n"
     ]
    }
   ],
   "source": [
    "import numpy as np\n",
    "import matplotlib.pyplot as plt\n",
    "import tensorflow as tf\n",
    "from tensorflow.keras.models import Sequential\n",
    "from tensorflow.keras.layers import Dense\n",
    "from IPython.display import display, Markdown, Latex\n",
    "from matplotlib.widgets import Slider\n",
    "import logging\n",
    "logging.getLogger(\"tensorflow\").setLevel(logging.ERROR)\n",
    "tf.autograph.set_verbosity(0)"
   ]
  },
  {
   "cell_type": "code",
   "execution_count": 2,
   "metadata": {},
   "outputs": [],
   "source": [
    "tf.random.set_seed(20)"
   ]
  },
  {
   "cell_type": "code",
   "execution_count": 3,
   "metadata": {},
   "outputs": [],
   "source": [
    "\n",
    "def build_models():\n",
    "    \n",
    "    model_1 = Sequential(\n",
    "        [\n",
    "            tf.keras.Input(shape=(nb_feature,)),\n",
    "            Dense(25, activation = 'relu'),\n",
    "            Dense(15, activation = 'relu'),\n",
    "            Dense(9, activation = 'softmax')\n",
    "        ],\n",
    "        name='model_1'\n",
    "    )\n",
    "    model_2 = Sequential(\n",
    "        [\n",
    "            tf.keras.Input(shape=(nb_feature,)),\n",
    "            Dense(20, activation = 'relu'),\n",
    "            Dense(12, activation = 'relu'),\n",
    "            Dense(12, activation = 'relu'),\n",
    "            Dense(20, activation = 'relu'),\n",
    "            Dense(9, activation = 'softmax')\n",
    "        ],\n",
    "        name='model_2'\n",
    "    )\n",
    "    model_3 = Sequential(\n",
    "        [\n",
    "            tf.keras.Input(shape=(nb_feature,)),\n",
    "            Dense(32, activation = 'relu'),\n",
    "            Dense(16, activation = 'relu'),\n",
    "            Dense(8, activation = 'relu'),\n",
    "            Dense(4, activation = 'relu'),\n",
    "            Dense(12, activation = 'relu'),\n",
    "            Dense(9, activation = 'softmax')\n",
    "        ],\n",
    "        name='model_3'\n",
    "    )\n",
    "    \n",
    "    model_list = [model_1, model_2, model_3]\n",
    "\n",
    "    return model_list"
   ]
  },
  {
   "cell_type": "code",
   "execution_count": 4,
   "metadata": {},
   "outputs": [],
   "source": [
    "import logging\n",
    "logging.getLogger(\"tensorflow\").setLevel(logging.ERROR)\n",
    "\n",
    "tf.random.set_seed(1234)\n",
    "def build_models_softmax():\n",
    "    model = Sequential(\n",
    "            [\n",
    "                tf.keras.Input(shape=(2,)),\n",
    "                Dense(120, activation = 'relu'),\n",
    "                Dense(40, activation = 'relu'),\n",
    "                Dense(6, activation = 'linear')\n",
    "            ],\n",
    "            name=\"Complex\"\n",
    "    )\n",
    "        \n",
    "    model.compile(\n",
    "        loss=tf.keras.losses.SparseCategoricalCrossentropy(from_logits=True),\n",
    "        optimizer=tf.keras.optimizers.Adam(learning_rate=0.01),\n",
    "    )\n",
    "    return model"
   ]
  },
  {
   "cell_type": "code",
   "execution_count": 6,
   "metadata": {},
   "outputs": [],
   "source": [
    "def locateMax(tab):\n",
    "    max=0\n",
    "    for loop in range(len(tab)):\n",
    "        if tab[loop]>tab[max]:\n",
    "            max=loop\n",
    "    return max"
   ]
  },
  {
   "cell_type": "code",
   "execution_count": 16,
   "metadata": {},
   "outputs": [],
   "source": [
    "\n",
    "def sigmoid(z):\n",
    "    g = 1/(1+np.exp(-z))\n",
    "    return g\n",
    "\n",
    "def calcul_error(yhat,y_test):\n",
    "   \n",
    "    cost = 0.0\n",
    "    m=len(y_test)\n",
    "    for i in range(m):                                \n",
    "        cost = cost + (y_test[i] - yhat[i])**2   #scalar\n",
    "    cost = cost / (2 * m)                 #scalar    \n",
    "    return cost"
   ]
  },
  {
   "cell_type": "code",
   "execution_count": 14,
   "metadata": {},
   "outputs": [],
   "source": [
    "# Setup the loss and optimizer\n",
    "def try_model(model):\n",
    "    \n",
    "    model.compile(\n",
    "    loss=tf.keras.losses.SparseCategoricalCrossentropy(),\n",
    "    optimizer=tf.keras.optimizers.Adam(learning_rate=0.01),\n",
    "    )\n",
    "\n",
    "    print(f\"Training {model.name}...\")\n",
    "    \n",
    "    \n",
    "    # Train the model\n",
    "    model.fit(\n",
    "        X_train, y_train,\n",
    "        epochs=200,\n",
    "        verbose=0\n",
    "    )\n",
    "    print(\"Done!\\n\")\n",
    "\n",
    "    # Record the fraction of misclassified examples for the training set\n",
    "    predictions = model.predict(X_train)\n",
    "    yhat= np.zeros(len(predictions))\n",
    "\n",
    "    for loop in range(len(predictions)):\n",
    "        yhat[loop]=locateMax(predictions[loop])\n",
    "    #print(yhat)\n",
    "\n",
    "    train_error = calcul_error(yhat,y_train)\n",
    "\n",
    "    # Record the fraction of misclassified examples for the cross validation set\n",
    "    predictions = model.predict(X_cv)\n",
    "    yhat= np.zeros(len(predictions))\n",
    "\n",
    "    for loop in range(len(predictions)):\n",
    "        yhat[loop]=locateMax(predictions[loop])\n",
    "    #print(yhat)\n",
    "\n",
    "    cv_error = calcul_error(yhat,y_cv)\n",
    "    return(train_error,cv_error)"
   ]
  },
  {
   "cell_type": "code",
   "execution_count": 17,
   "metadata": {},
   "outputs": [
    {
     "name": "stdout",
     "output_type": "stream",
     "text": [
      "Training model_1...\n",
      "Done!\n",
      "\n",
      "12/12 [==============================] - 0s 1000us/step\n",
      "4/4 [==============================] - 0s 1ms/step\n",
      "Training model_2...\n",
      "Done!\n",
      "\n",
      "12/12 [==============================] - 0s 846us/step\n",
      "4/4 [==============================] - 0s 1ms/step\n",
      "Training model_3...\n",
      "Done!\n",
      "\n",
      "12/12 [==============================] - 0s 905us/step\n",
      "4/4 [==============================] - 0s 1ms/step\n",
      "Model 1: Training Set Classification Error: 0.30497, CV Set Classification Error: 0.37402\n",
      "Model 2: Training Set Classification Error: 0.24476, CV Set Classification Error: 0.29921\n",
      "Model 3: Training Set Classification Error: 0.27749, CV Set Classification Error: 0.32283\n"
     ]
    }
   ],
   "source": [
    "\n",
    "from sklearn.metrics import mean_squared_error\n",
    "# Initialize lists that will contain the errors for each model\n",
    "nn_train_error = []\n",
    "nn_cv_error = []\n",
    "\n",
    "\n",
    "# Build the models\n",
    "nn_models = build_models()\n",
    "\n",
    "# Loop over the the models\n",
    "for model in nn_models:\n",
    "    \n",
    "    train_error,cv_error=try_model(model)\n",
    "    nn_train_error.append(train_error)\n",
    "    nn_cv_error.append(cv_error)\n",
    "\n",
    "    \n",
    "# Print the result\n",
    "for model_num in range(len(nn_train_error)):\n",
    "    print(\n",
    "        f\"Model {model_num+1}: Training Set Classification Error: {nn_train_error[model_num]:.5f}, \" +\n",
    "        f\"CV Set Classification Error: {nn_cv_error[model_num]:.5f}\"\n",
    "        )"
   ]
  },
  {
   "cell_type": "code",
   "execution_count": 31,
   "metadata": {},
   "outputs": [],
   "source": [
    "def predict_model(model):\n",
    "# Select the model with the lowest error\n",
    "\n",
    "    # Compute the test error\n",
    "    predictions = model.predict(X_test)\n",
    "    yhat= np.zeros(len(predictions))\n",
    "\n",
    "    for loop in range(len(predictions)):\n",
    "        yhat[loop]=locateMax(predictions[loop])\n",
    "    print(yhat)\n",
    "    print(y_test)\n",
    "    print(f\"Selected Model: {model_num}\")\n",
    "    sum=0\n",
    "    for loop in range(len(yhat)):\n",
    "        if(y_test[loop] == yhat[loop]):\n",
    "            sum+=1\n",
    "    print('Train Accuracy (%): ',(sum/len(yhat))*100)\n",
    "\n",
    "    nn_test_error =calcul_error(yhat,y_test)\n",
    "\n",
    "\n",
    "    print(f\"Training Set Classification Error: {nn_train_error[model_num-1]:.4f}\")\n",
    "    print(f\"CV Set Classification Error: {nn_cv_error[model_num-1]:.4f}\")\n",
    "    print(f\"Test Set Classification Error: {nn_test_error:.4f}\")"
   ]
  },
  {
   "cell_type": "code",
   "execution_count": 32,
   "metadata": {},
   "outputs": [
    {
     "name": "stdout",
     "output_type": "stream",
     "text": [
      "4/4 [==============================] - 0s 2ms/step\n",
      "[6. 7. 7. 6. 5. 5. 5. 5. 6. 7. 7. 7. 6. 5. 5. 6. 7. 6. 7. 5. 7. 6. 7. 5.\n",
      " 6. 5. 5. 5. 5. 6. 6. 5. 5. 5. 6. 5. 7. 5. 7. 5. 7. 5. 5. 6. 6. 5. 6. 5.\n",
      " 6. 6. 6. 5. 5. 5. 5. 5. 5. 6. 5. 6. 7. 5. 5. 5. 5. 5. 7. 6. 5. 6. 6. 5.\n",
      " 6. 6. 7. 6. 7. 6. 5. 6. 7. 6. 6. 5. 5. 5. 5. 5. 5. 5. 7. 5. 5. 5. 6. 5.\n",
      " 5. 5. 5. 6. 6. 5. 6. 7. 5. 6. 6. 6. 5. 5. 6. 5. 7. 6. 5. 6. 5. 6. 7. 6.\n",
      " 6. 5. 5. 5. 6. 5. 6. 6.]\n",
      "[7 6 6 8 5 6 5 5 6 5 6 7 5 5 5 7 8 6 7 6 7 6 7 4 7 5 6 5 5 7 5 6 6 6 5 6 7\n",
      " 5 6 6 6 5 5 8 6 6 6 6 6 6 7 5 5 5 5 5 6 6 6 5 7 5 5 6 6 5 8 6 6 6 7 5 6 5\n",
      " 8 5 6 7 6 7 7 5 6 6 6 5 5 7 5 5 7 5 5 6 7 5 5 5 5 6 4 5 6 7 5 5 8 7 6 5 6\n",
      " 5 8 6 6 5 5 6 7 6 6 6 5 5 7 6 7 7]\n",
      "Selected Model: 2\n",
      "Train Accuracy (%):  51.5625\n",
      "Training Set Classification Error: 0.2448\n",
      "CV Set Classification Error: 0.2992\n",
      "Test Set Classification Error: 0.3125\n"
     ]
    }
   ],
   "source": [
    "model_num = 2\n",
    "model=nn_models[model_num-1]\n",
    "predict_model(model)\n",
    "\n"
   ]
  },
  {
   "attachments": {},
   "cell_type": "markdown",
   "metadata": {},
   "source": [
    "VISUALISATION TEST DU MODELE CHOISI "
   ]
  },
  {
   "cell_type": "code",
   "execution_count": 20,
   "metadata": {},
   "outputs": [],
   "source": [
    "def plot_predict_model(model):\n",
    "    predictions = model.predict(X_cv)\n",
    "    yhat= np.zeros(len(predictions))\n",
    "\n",
    "    for loop in range(len(predictions)):\n",
    "        yhat[loop]=locateMax(predictions[loop])\n",
    "\n",
    "    print(X_test.shape, y_test.shape,yhat.shape)\n",
    "\n",
    "\n",
    "    m = X_test.shape[0]\n",
    "\n",
    "        # plot predictions and targets versus original features    \n",
    "    fig,ax=plt.subplots(1,nb_feature,figsize=(20, 3),sharey=True)\n",
    "    for i in range(len(ax)):\n",
    "        ax[i].scatter([X_test[:,i]],y_test, label = 'target')\n",
    "        ax[i].set_xlabel(X_features[i])\n",
    "        ax[i].scatter([X_test[:len(yhat),i]],yhat,color=\"orange\", label = 'predict')\n",
    "    ax[0].set_ylabel(\"Quality\"); ax[0].legend()\n",
    "    fig.suptitle(\"target versus prediction using Reseau de Neurones avec Softmax\")\n",
    "    plt.show()"
   ]
  },
  {
   "cell_type": "code",
   "execution_count": 21,
   "metadata": {},
   "outputs": [
    {
     "name": "stdout",
     "output_type": "stream",
     "text": [
      "4/4 [==============================] - 0s 1ms/step\n",
      "(128, 10) (128,) (127,)\n"
     ]
    },
    {
     "data": {
      "image/png": "[encoded data removed]",
      "text/plain": [
       "<Figure size 2000x300 with 10 Axes>"
      ]
     },
     "metadata": {},
     "output_type": "display_data"
    }
   ],
   "source": [
    "model_num = 2\n",
    "model=nn_models[model_num-1]\n",
    "plot_predict_model(model)\n"
   ]
  },
  {
   "attachments": {},
   "cell_type": "markdown",
   "metadata": {},
   "source": [
    "FIXER BIAIS ET VARIANCES:"
   ]
  },
  {
   "attachments": {},
   "cell_type": "markdown",
   "metadata": {},
   "source": [
    "INFLUENCE DE LAMBDA:\n",
    "\n",
    "vu que Jcv (49.1379) est grand par rapport à Jtrain (14.4092), on a une grande variance, on va donc rajouter un parametre de régularisation Lambda en gardant le meme model."
   ]
  },
  {
   "cell_type": "code",
   "execution_count": 22,
   "metadata": {},
   "outputs": [],
   "source": [
    "from tensorflow.keras.regularizers import l2\n",
    "def build_models_Regularized():\n",
    "    lambdas=[0.00,0.01,0.1]\n",
    "    model_1 = Sequential(\n",
    "        [\n",
    "            tf.keras.Input(shape=(nb_feature,)),\n",
    "            Dense(20, activation = 'relu',kernel_regularizer=l2(lambdas[0])),\n",
    "            Dense(12, activation = 'relu',kernel_regularizer=l2(lambdas[0])),\n",
    "            Dense(12, activation = 'relu',kernel_regularizer=l2(lambdas[0])),\n",
    "            Dense(20, activation = 'relu',kernel_regularizer=l2(lambdas[0])),\n",
    "            Dense(9, activation = 'softmax')\n",
    "        ],\n",
    "        name='model_1'\n",
    "    )\n",
    "    model_2 = Sequential(\n",
    "        [\n",
    "            tf.keras.Input(shape=(nb_feature,)),\n",
    "            Dense(20, activation = 'relu',kernel_regularizer=l2(lambdas[1])),\n",
    "            Dense(12, activation = 'relu',kernel_regularizer=l2(lambdas[1])),\n",
    "            Dense(12, activation = 'relu',kernel_regularizer=l2(lambdas[1])),\n",
    "            Dense(20, activation = 'relu',kernel_regularizer=l2(lambdas[1])),\n",
    "            Dense(9, activation = 'softmax')\n",
    "        ],\n",
    "        name='model_2'\n",
    "    )\n",
    "    model_3 = Sequential(\n",
    "        [\n",
    "            tf.keras.Input(shape=(nb_feature,)),\n",
    "            Dense(20, activation = 'relu',kernel_regularizer=l2(lambdas[2])),\n",
    "            Dense(12, activation = 'relu',kernel_regularizer=l2(lambdas[2])),\n",
    "            Dense(12, activation = 'relu',kernel_regularizer=l2(lambdas[2])),\n",
    "            Dense(20, activation = 'relu',kernel_regularizer=l2(lambdas[2])),\n",
    "            Dense(9, activation = 'softmax')\n",
    "        ],\n",
    "        name='model_3'\n",
    "    )\n",
    "    model_list = [model_1, model_2, model_3]\n",
    "    return model_list"
   ]
  },
  {
   "cell_type": "code",
   "execution_count": 23,
   "metadata": {},
   "outputs": [
    {
     "name": "stdout",
     "output_type": "stream",
     "text": [
      "Training model_1...\n",
      "Done!\n",
      "\n",
      "11/11 [==============================] - 0s 3ms/step\n",
      "4/4 [==============================] - 0s 2ms/step\n",
      "Training model_2...\n",
      "Done!\n",
      "\n",
      "11/11 [==============================] - 0s 3ms/step\n",
      "4/4 [==============================] - 0s 3ms/step\n",
      "Training model_3...\n",
      "Done!\n",
      "\n",
      "11/11 [==============================] - 0s 3ms/step\n",
      "4/4 [==============================] - 0s 2ms/step\n",
      "Model 1: Training Set Classification Error: 2.84900, CV Set Classification Error: 64.10256\n",
      "Model 2: Training Set Classification Error: 27.35043, CV Set Classification Error: 45.29915\n",
      "Model 3: Training Set Classification Error: 59.82906, CV Set Classification Error: 76.06838\n"
     ]
    }
   ],
   "source": [
    "from sklearn.metrics import mean_squared_error\n",
    "# Initialize lists that will contain the errors for each model\n",
    "nn_train_error = []\n",
    "nn_cv_error = []\n",
    "\n",
    "\n",
    "# Build the models\n",
    "nn_models_r = build_models_Regularized()\n",
    "\n",
    "# Loop over the the models\n",
    "for model in nn_models_r:\n",
    "    \n",
    "    train_error,cv_error=try_model(model)\n",
    "    nn_train_error.append(train_error)\n",
    "    nn_cv_error.append(cv_error)\n",
    "    \n",
    "# Print the result\n",
    "for model_num in range(len(nn_train_error)):\n",
    "    print(\n",
    "        f\"Model {model_num+1}: Training Set Classification Error: {nn_train_error[model_num]:.5f}, \" +\n",
    "        f\"CV Set Classification Error: {nn_cv_error[model_num]:.5f}\"\n",
    "        )"
   ]
  },
  {
   "cell_type": "code",
   "execution_count": 24,
   "metadata": {},
   "outputs": [
    {
     "name": "stdout",
     "output_type": "stream",
     "text": [
      "4/4 [==============================] - 0s 4ms/step\n",
      "[7. 5. 7. 5. 5. 5. 7. 5. 5. 7. 6. 7. 6. 6. 6. 5. 5. 6. 5. 5. 5. 5. 6. 7.\n",
      " 5. 5. 5. 7. 5. 6. 5. 5. 5. 7. 7. 6. 6. 7. 6. 6. 7. 5. 5. 5. 6. 6. 6. 6.\n",
      " 5. 7. 5. 7. 7. 7. 7. 6. 7. 6. 7. 5. 6. 6. 6. 5. 6. 5. 7. 7. 7. 5. 7. 5.\n",
      " 5. 5. 7. 5. 6. 6. 7. 5. 5. 6. 5. 6. 7. 6. 6. 6. 5. 5. 6. 6. 7. 6. 5. 7.\n",
      " 6. 6. 7. 6. 6. 7. 5. 5. 6. 5. 5. 5. 7. 6. 7. 7. 7. 6. 6. 6. 6. 6.]\n",
      "[6 3 6 5 5 5 6 5 6 6 6 6 5 5 5 5 5 6 5 6 5 6 6 6 5 5 5 6 5 5 5 5 8 6 7 6 6\n",
      " 6 5 5 7 5 5 5 4 5 5 7 5 5 6 8 7 7 7 6 6 5 7 4 6 5 7 4 7 3 5 5 7 5 7 3 4 5\n",
      " 6 5 7 6 6 6 3 6 6 6 5 5 6 6 5 5 5 5 6 6 5 7 6 5 7 5 5 8 5 5 7 5 5 5 6 6 6\n",
      " 5 7 6 6 5 6 5]\n",
      "Selected Model: 2\n",
      "Training Set Classification Error: 27.3504\n",
      "CV Set Classification Error: 45.2991\n",
      "Test Set Classification Error: 50.8475\n"
     ]
    }
   ],
   "source": [
    "# Select the model with the lowest error\n",
    "model_num = 2\n",
    "model=nn_models_r[model_num-1]\n",
    "predict_model(model)\n"
   ]
  },
  {
   "attachments": {},
   "cell_type": "markdown",
   "metadata": {},
   "source": [
    "On a un grand biais, il faut ajouter des features ou des polynomial features (alcohol^2, alcohol*sulfates...)"
   ]
  }
 ],
 "metadata": {
  "kernelspec": {
   "display_name": "base",
   "language": "python",
   "name": "python3"
  },
  "language_info": {
   "codemirror_mode": {
    "name": "ipython",
    "version": 3
   },
   "file_extension": ".py",
   "mimetype": "text/x-python",
   "name": "python",
   "nbconvert_exporter": "python",
   "pygments_lexer": "ipython3",
   "version": "3.8.10"
  },
  "orig_nbformat": 4,
  "vscode": {
   "interpreter": {
    "hash": "e4cce46d6be9934fbd27f9ca0432556941ea5bdf741d4f4d64c6cd7f8dfa8fba"
   }
  }
 },
 "nbformat": 4,
 "nbformat_minor": 2
}
