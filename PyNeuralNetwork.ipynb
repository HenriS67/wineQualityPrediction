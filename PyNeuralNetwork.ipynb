{
 "cells": [
  {
   "cell_type": "code",
   "execution_count": 4,
   "metadata": {},
   "outputs": [],
   "source": [
    "import numpy as np\n",
    "import numpy as np\n",
    "import matplotlib.pyplot as plt\n",
    "import numpy as np\n",
    "import pandas as pd\n",
    "import matplotlib.pyplot as plt\n",
    "import tensorflow as tf\n",
    "import logging\n",
    "logging.getLogger(\"tensorflow\").setLevel(logging.ERROR)\n",
    "tf.autograph.set_verbosity(0)"
   ]
  },
  {
   "cell_type": "code",
   "execution_count": 5,
   "metadata": {},
   "outputs": [],
   "source": [
    "import numpy as np\n",
    "import matplotlib.pyplot as plt\n",
    "df = pd.read_csv('WineQT.csv')\n",
    "d=[df[\"alcohol\"],df[\"quality\"]]\n",
    "x=[]\n",
    "\n",
    "xinit=np.transpose(np.matrix(d))\n",
    "y=[]\n",
    "y_simpl=[]\n",
    "\n",
    "for loop in range(len(xinit)):\n",
    "    if loop%10==0:\n",
    "        x.append([xinit[loop,0],xinit[loop,1]])\n",
    "        \n",
    "        if(xinit[loop,0]<=12 and xinit[loop,1]>5 ):\n",
    "            y.append(1)\n",
    "        else:\n",
    "            y.append(0)\n",
    "\n",
    "x=np.array(x)"
   ]
  },
  {
   "cell_type": "code",
   "execution_count": 6,
   "metadata": {},
   "outputs": [],
   "source": [
    "def plot_data(X, y, ax, pos_label=\"y=1\", neg_label=\"y=0\", s=80, loc='best',idx=0,idy=1 ):\n",
    "    \"\"\" plots logistic data with two axis \"\"\"\n",
    "    # Find Indices of Positive and Negative Examples\n",
    "    pos=[]\n",
    "    neg=[]\n",
    "    idpos=[]\n",
    "    idneg=[]\n",
    "    for loop in range(len(y)):\n",
    "        if(y[loop]==1):\n",
    "            idpos.append(X[loop,idx])\n",
    "            pos.append(X[loop,idy])\n",
    "        else:\n",
    "            idneg.append(X[loop,idx])\n",
    "            neg.append(X[loop,idy])\n",
    "\n",
    "    # Plot examples\n",
    "    ax.scatter(idpos, pos, marker='x', s=s, c = 'red', label=pos_label)\n",
    "    ax.scatter(idneg, neg, marker='o', s=s, label=neg_label, facecolors='none', edgecolors='blue', lw=3)\n",
    "    ax.legend(loc=loc)\n",
    "\n",
    "    ax.figure.canvas.toolbar_visible = False\n",
    "    ax.figure.canvas.header_visible = False\n",
    "    ax.figure.canvas.footer_visible = False"
   ]
  },
  {
   "cell_type": "code",
   "execution_count": 7,
   "metadata": {},
   "outputs": [
    {
     "data": {
      "image/png": "[encoded data removed]",
      "text/plain": [
       "<Figure size 288x288 with 1 Axes>"
      ]
     },
     "metadata": {
      "needs_background": "light"
     },
     "output_type": "display_data"
    }
   ],
   "source": [
    "fig,ax = plt.subplots(1,1,figsize=(4,4))\n",
    "plot_data(x, y, ax)\n",
    "\n",
    "ax.axis([6, 18, 0, 10])\n",
    "ax.set_ylabel('Quality')\n",
    "ax.set_xlabel('Alcohol')\n",
    "\n",
    "plt.show()"
   ]
  },
  {
   "cell_type": "code",
   "execution_count": 8,
   "metadata": {},
   "outputs": [
    {
     "name": "stdout",
     "output_type": "stream",
     "text": [
      "(115, 2) (115, 1)\n"
     ]
    }
   ],
   "source": [
    "x=np.array(x)\n",
    "y=np.array(y).reshape(-1,1)\n",
    "print(x.shape, y.shape)"
   ]
  },
  {
   "cell_type": "code",
   "execution_count": 9,
   "metadata": {},
   "outputs": [
    {
     "name": "stdout",
     "output_type": "stream",
     "text": [
      "alcohol Max, Min pre normalization: 12.90, 9.00\n",
      "quality    Max, Min pre normalization: 8.00, 4.00\n"
     ]
    },
    {
     "name": "stderr",
     "output_type": "stream",
     "text": [
      "2023-04-17 18:43:19.142837: E tensorflow/compiler/xla/stream_executor/cuda/cuda_driver.cc:266] failed call to cuInit: CUDA_ERROR_UNKNOWN: unknown error\n"
     ]
    },
    {
     "name": "stdout",
     "output_type": "stream",
     "text": [
      "alcohol Max, Min post normalization: 2.24, -1.30\n",
      "quality    Max, Min post normalization: 2.62, -1.98\n"
     ]
    }
   ],
   "source": [
    "print(f\"alcohol Max, Min pre normalization: {np.max(x[:,0]):0.2f}, {np.min(x[:,0]):0.2f}\")\n",
    "print(f\"quality    Max, Min pre normalization: {np.max(x[:,1]):0.2f}, {np.min(x[:,1]):0.2f}\")\n",
    "norm_l = tf.keras.layers.Normalization(axis=-1)\n",
    "norm_l.adapt(x)  # learns mean, variance\n",
    "Xn = norm_l(x)\n",
    "print(f\"alcohol Max, Min post normalization: {np.max(Xn[:,0]):0.2f}, {np.min(Xn[:,0]):0.2f}\")\n",
    "print(f\"quality    Max, Min post normalization: {np.max(Xn[:,1]):0.2f}, {np.min(Xn[:,1]):0.2f}\")"
   ]
  },
  {
   "cell_type": "code",
   "execution_count": 10,
   "metadata": {},
   "outputs": [
    {
     "name": "stdout",
     "output_type": "stream",
     "text": [
      "(115000, 2) (115000, 1)\n"
     ]
    }
   ],
   "source": [
    "Xt = np.tile(Xn,(1000,1))\n",
    "Yt= np.tile(y,(1000,1))   \n",
    "print(Xt.shape, Yt.shape) "
   ]
  },
  {
   "attachments": {},
   "cell_type": "markdown",
   "metadata": {},
   "source": [
    "numpy model neural network"
   ]
  },
  {
   "cell_type": "code",
   "execution_count": null,
   "metadata": {},
   "outputs": [],
   "source": []
  }
 ],
 "metadata": {
  "kernelspec": {
   "display_name": "Python 3",
   "language": "python",
   "name": "python3"
  },
  "language_info": {
   "codemirror_mode": {
    "name": "ipython",
    "version": 3
   },
   "file_extension": ".py",
   "mimetype": "text/x-python",
   "name": "python",
   "nbconvert_exporter": "python",
   "pygments_lexer": "ipython3",
   "version": "3.8.10"
  },
  "orig_nbformat": 4
 },
 "nbformat": 4,
 "nbformat_minor": 2
}
