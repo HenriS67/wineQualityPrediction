{
 "cells": [
  {
   "cell_type": "code",
   "execution_count": 3,
   "metadata": {},
   "outputs": [
    {
     "name": "stdout",
     "output_type": "stream",
     "text": [
      "      fixed acidity  volatile acidity  citric acid  residual sugar  chlorides   \n",
      "0               7.4             0.700         0.00             1.9      0.076  \\\n",
      "1               7.8             0.880         0.00             2.6      0.098   \n",
      "2               7.8             0.760         0.04             2.3      0.092   \n",
      "3              11.2             0.280         0.56             1.9      0.075   \n",
      "4               7.4             0.700         0.00             1.9      0.076   \n",
      "...             ...               ...          ...             ...        ...   \n",
      "1138            6.3             0.510         0.13             2.3      0.076   \n",
      "1139            6.8             0.620         0.08             1.9      0.068   \n",
      "1140            6.2             0.600         0.08             2.0      0.090   \n",
      "1141            5.9             0.550         0.10             2.2      0.062   \n",
      "1142            5.9             0.645         0.12             2.0      0.075   \n",
      "\n",
      "      free sulfur dioxide  total sulfur dioxide  density    pH  sulphates   \n",
      "0                    11.0                  34.0  0.99780  3.51       0.56  \\\n",
      "1                    25.0                  67.0  0.99680  3.20       0.68   \n",
      "2                    15.0                  54.0  0.99700  3.26       0.65   \n",
      "3                    17.0                  60.0  0.99800  3.16       0.58   \n",
      "4                    11.0                  34.0  0.99780  3.51       0.56   \n",
      "...                   ...                   ...      ...   ...        ...   \n",
      "1138                 29.0                  40.0  0.99574  3.42       0.75   \n",
      "1139                 28.0                  38.0  0.99651  3.42       0.82   \n",
      "1140                 32.0                  44.0  0.99490  3.45       0.58   \n",
      "1141                 39.0                  51.0  0.99512  3.52       0.76   \n",
      "1142                 32.0                  44.0  0.99547  3.57       0.71   \n",
      "\n",
      "      alcohol  quality    Id  \n",
      "0         9.4        5     0  \n",
      "1         9.8        5     1  \n",
      "2         9.8        5     2  \n",
      "3         9.8        6     3  \n",
      "4         9.4        5     4  \n",
      "...       ...      ...   ...  \n",
      "1138     11.0        6  1592  \n",
      "1139      9.5        6  1593  \n",
      "1140     10.5        5  1594  \n",
      "1141     11.2        6  1595  \n",
      "1142     10.2        5  1597  \n",
      "\n",
      "[1143 rows x 13 columns]\n",
      "[[ 0.93933222 -0.96338181 -0.57365783 -1.36502663]\n",
      " [ 1.94181282 -0.59360107  0.1308811  -1.36502663]\n",
      " [ 1.27349242 -0.59360107 -0.04525363 -1.16156762]\n",
      " ...\n",
      " [ 0.38239855  0.05351522 -0.45623467 -0.9581086 ]\n",
      " [ 0.10393172  0.70063152  0.60057372 -0.8563791 ]\n",
      " [ 0.6330187  -0.22382033  0.30701583 -0.75464959]]\n",
      "[6 5 5 7 7 5 7 5 5 5 7 4 4 5 5 6 5 5 6 5 5 6 4 4 5 6 5 4 6 5 5 5 5 5 6 6 5\n",
      " 5 5 7 5 5 6 6 5 6 4 5 5 6 4 5 5 5 4 6 4 6 5 5 5 5 5 6 5 4 7 6 7 7 5 5 5 5\n",
      " 5 5 6 7 6 5 7 7 6 6 5 5 5 5 5 7 4 5 4 8 6 6 8 7 7 7 6 7 5 7 6 5 5 5 6 6 5\n",
      " 7 5 6 6 7 5 6 7 7 5 7 6 6 6 7 7 5 7 7 5 7 6 7 6 8 5 7 6 5 5 6 7 4 7 6 5 6\n",
      " 5 7 7 7 6 5 7 5 5 8 7 7 5 6 6 7 5 8 5 3 6 6 5 6 5 8 5 7 7 6 8 6 5 8 6 7 7\n",
      " 7 7 7 7 6 7 7 5 6 3 6 5 5 6 6 7 5 6 6 6 6 6 6 6 5 6 6 6 5 6 4 6 5 7 8 5 5\n",
      " 6 6 6 6 5 6 5 5 5 5 6 4 5 5 5 4 7 6 5 5 5 5 7 6 5 6 5 5 5 5 5 5 5 6 5 6 4\n",
      " 4 5 5 5 5 5 5 5 5 6 6 5 5 5 6 5 5 5 6 5 6 6 5 5 6 5 5 7 5 7 7 5 4 5 5 7 7\n",
      " 4 4 7 7 7 5 5 6 7 7 5 4 7 5 6 5 5 6 7 6 7 5 7 7 7 5 6 6 6 6 5 6 5 7 6 4 5\n",
      " 7 5 7 7 7 7 7 7 7 7 7 7 6 7 5 6 6 6 7 5 7 5 5 5 6 5 5 7 5 7 7 7 7 7 5 6 7\n",
      " 6 5 7 6 7 5 7 7 7 6 5 6 5 7 7 5 7 7 6 8 6 7 7 5 7 5 7 7 7 7 7 8 7 6 5 7 5\n",
      " 6 7 6 8 7 7 7 7 5 6 6 7 6 7 7 7 5 7 6 6 4 5 5 5 4 5 7 6 6 7 8 5 7 7 7 7 6\n",
      " 5 7 6 5 4 4 5 6 5 6 5 4 6 6 4 7 6 6 5 6 6 6 3 6 6 5 5 5 5 6 6 6 6 5 6 5 5\n",
      " 5 5 6 6 5 5 5 6 6 5 6 6 5 6 5 5 5 8 6 6 7 6 6 5 5 5 7 4 5 7 5 6 5 6 5 8 7\n",
      " 7 7 5 7 6 4 6 7 4 7 3 6 7 7 3 4 5 5 5 5 6 5 7 3 6 5 6 6 6 5 5 6 6 6 7 7 8\n",
      " 6 5 7 5 5 6 6 6 6 6 5 7 6 6 6 6 6 5 6 5]\n",
      "[[-1.39978919 -0.59360107 -0.45623467  1.48339955]\n",
      " [ 0.93933222 -0.96338181 -0.57365783 -1.36502663]\n",
      " [ 0.71655875 -0.96338181 -0.57365783 -1.36502663]\n",
      " ...\n",
      " [ 0.38239855  0.05351522 -0.45623467 -0.9581086 ]\n",
      " [ 0.10393172  0.70063152  0.60057372 -0.8563791 ]\n",
      " [ 0.6330187  -0.22382033  0.30701583 -0.75464959]]\n"
     ]
    },
    {
     "data": {
      "image/png": "[encoded data removed]",
      "text/plain": [
       "<Figure size 432x288 with 2 Axes>"
      ]
     },
     "metadata": {
      "needs_background": "light"
     },
     "output_type": "display_data"
    }
   ],
   "source": [
    "import numpy as np\n",
    "import pandas as pd\n",
    "import matplotlib.pyplot as plt\n",
    "df = pd.read_csv('WineQT.csv')\n",
    "print(df)\n",
    "import numpy as np\n",
    "import matplotlib.pyplot as plt\n",
    "# load the dataset\n",
    "\n",
    "y_train = df['quality']\n",
    "X_train= [df['volatile acidity'],df['alcohol'],df['sulphates'],df['citric acid']]\n",
    "X_features = ['volatile acidity','alcohol','sulphates','citric acid']\n",
    "X_train=np.transpose(np.asmatrix(X_train))\n",
    "y_train=np.asarray(y_train)\n",
    "\n",
    "\n",
    "def zscore_normalize_features(X):\n",
    "    mu     = np.mean(X, axis=0)                 # mu will have shape (n,)\n",
    "    # find the standard deviation of each column/feature\n",
    "    sigma  = np.std(X, axis=0)                  # sigma will have shape (n,)\n",
    "    # element-wise, subtract mu for that column from each example, divide by std for that column\n",
    "    X_norm = (X - mu) / sigma      \n",
    "\n",
    "    return (X_norm, mu, sigma)\n",
    "\n",
    "X_norm, X_mu, X_sigma = zscore_normalize_features(X_train)\n",
    "print(X_norm)\n",
    "import random\n",
    "fig,ax=plt.subplots(1,2,sharey=True)\n",
    "ax[0].hist(df[\"quality\"], bins='auto',label=\"quality\")\n",
    "ax[0].set_title(\"quality before modif\")\n",
    "supp=[]\n",
    "#on supprime aleatoirement des valeurs de notes 5 et 6 (diviser par 3)\n",
    "for i in range(len(y_train)):\n",
    "    if y_train[i]==5 or y_train[i]==6:\n",
    "        rand=random.random()\n",
    "        if(rand>0.4):\n",
    "            supp.append(i)\n",
    "for j in range(len(supp)):\n",
    "    y_train2=np.delete(y_train,supp)\n",
    "    X_norm2=np.delete(X_norm,supp,0)\n",
    "\n",
    "\n",
    "ax[1].hist(y_train2, bins='auto',label=\"quality\")\n",
    "ax[1].set_title(\"quality after modif\")\n",
    "\n",
    "print(y_train2)\n",
    "print(X_norm2)\n",
    "\n",
    "#from sklearn.model_selection import train_test_split\n",
    "#X_train, X_test, y_train, y_test =train_test_split(wine_df.drop('quality',axis=1), wine_df['quality'], test_size=.3,\n",
    " #                                                  random_state=22)\n",
    "#X_train.shape,X_test.shape"
   ]
  },
  {
   "cell_type": "code",
   "execution_count": 4,
   "metadata": {},
   "outputs": [],
   "source": [
    "def sigmoid(z):\n",
    "    \"\"\"\n",
    "    Compute the sigmoid of z\n",
    "\n",
    "    Args:\n",
    "        z (ndarray): A scalar, numpy array of any size.\n",
    "\n",
    "    Returns:\n",
    "        g (ndarray): sigmoid(z), with the same shape as z\n",
    "         \n",
    "    \"\"\"\n",
    "\n",
    "    g = 1/(1+np.exp(-z))\n",
    "   \n",
    "    return g"
   ]
  },
  {
   "cell_type": "code",
   "execution_count": 33,
   "metadata": {},
   "outputs": [],
   "source": [
    "import copy\n",
    "import math\n",
    "\n",
    "\n",
    "def compute_cost_softmax(X, y, W, B):\n",
    "    m, n = X.shape\n",
    "    #print(\"n\",n)\n",
    "    nb_f=W.shape[0]\n",
    "    #print(\"nf\",nb_f)\n",
    "   \n",
    "    loss_sum = 0 \n",
    "\n",
    "    \n",
    "  # on calcule tous les zj=fwb\n",
    "   # Loop over each training example\n",
    "    for i in range(m): \n",
    "      f_WB=np.zeros(nb_f)\n",
    "      # Loop over each class\n",
    "      for loop in range(nb_f):\n",
    "        z_wb = 0 \n",
    "       # Loop over each feature\n",
    "        for j in range(n): \n",
    "\n",
    "             z_wb_ij = W[loop,j]*X[i,j]\n",
    "             z_wb += z_wb_ij \n",
    "        z_wb += B[loop] \n",
    "\n",
    "        f_WB[loop] = np.exp(z_wb)#=e(Zij), #à diviser par sumezi pour avoir probabilité que y==loop\n",
    "      sumEzi=np.sum(f_WB)\n",
    "      \n",
    "      loss_sum += np.log(f_WB[y[i]]/sumEzi) # on ajoute log(a_i) if y=i\n",
    "\n",
    "    total_cost = -(1 / m) * loss_sum  #cost = -1/m(sum(sum{y==j}log(ezj/sum(ezk))))\n",
    "\n",
    "    return total_cost\n",
    "\n",
    "\n",
    "def compute_gradient_softmax(X, y, W, B): \n",
    "\n",
    "\n",
    "    m, n = X.shape\n",
    "    nb_f=W.shape[0]\n",
    "\n",
    "    dJ_DW = np.zeros((nb_f,n))                           #(n,)\n",
    "    dJ_DB = np.zeros((nb_f))\n",
    "\n",
    "    for i in range(m): \n",
    "      f_WB=np.zeros(nb_f)\n",
    "      # Loop over each class\n",
    "      for loop in range(nb_f):\n",
    "        z_wb = 0 \n",
    "       # Loop over each feature\n",
    "        for j in range(n): \n",
    "\n",
    "             z_wb_ij = W[loop,j]*X[i,j]\n",
    "             z_wb += z_wb_ij \n",
    "        z_wb += B[loop] \n",
    "        f_WB[loop] = np.exp(z_wb)#=e(Zij)\n",
    "\n",
    "      sumEzi=np.sum(f_WB) \n",
    "      f_WB=f_WB/sumEzi # tableau des probabilité que y==loop\n",
    "\n",
    "      #print(\"somme des f_WB : \",sum(f_WB))\n",
    "      #on calcule la dérivé\n",
    "      for loop in range(nb_f):\n",
    "        err_loop  = f_WB[loop]  - (loop==y[i])         #scalar, proba que y = loop  - (1 ou 0)(si y ==loop)\n",
    "        for j in range(n):\n",
    "            dJ_DW[loop,j] = dJ_DW[loop,j] + err_loop * X[i,j]      #scalar\n",
    "        #print(\"dJ_DW[loop,j]\",dJ_DW[loop,j])\n",
    "        dJ_DB[loop] = dJ_DB[loop] + err_loop\n",
    "        #if(i==50):\n",
    "        #  print(\"\\n\")\n",
    "        #  print(\"y_i\",y[i])\n",
    "        #  print(\"y_loop\",loop)\n",
    "        #  print(\"fb\",f_WB[loop])\n",
    "        #  print(\"(loop==y[i]) \",(loop==y[i]) )\n",
    "        #  print(\"err_loop\",err_loop)\n",
    "        #  print(\"dJ_DW[loop,j]\",dJ_DW[loop,j])\n",
    "    dJ_DW = dJ_DW/m                                   #(n,)\n",
    "    dJ_DB = dJ_DB/m                                   #scalar\n",
    "        \n",
    "    return dJ_DB, dJ_DW \n",
    "\n",
    "def gradient_descent_softmax(X, y, W_in, B_in, alpha, num_iters): \n",
    "\n",
    "    # An array to store cost J and w's at each iteration primarily for graphing later\n",
    "    J_history = []\n",
    "    W = copy.deepcopy(W_in)  #avoid modifying global w within function\n",
    "    B = B_in\n",
    "    m, n = X.shape\n",
    "    nb_f=W.shape[0]\n",
    "    \n",
    "    for i in range(num_iters):\n",
    "        # Calculate the gradient and update the parameters\n",
    "        dJ_DB, dJ_DW = compute_gradient_softmax(X, y, W, B)   \n",
    "\n",
    "        # Update Parameters using w, b, alpha and gradient\n",
    "        W = W - alpha * dJ_DW               \n",
    "        B = B - alpha * dJ_DB               \n",
    "      \n",
    "        # Save cost J at each iteration\n",
    "        if i<100000:      # prevent resource exhaustion \n",
    "            J_history.append( compute_cost_softmax(X, y, W, B) )\n",
    "\n",
    "        # Print cost every at intervals 10 times or as many iterations if < 10\n",
    "        if i% math.ceil(num_iters / 10) == 0:\n",
    "            \n",
    "            print(f\"Iteration {i:4d}: Cost {J_history[-1]}   \")\n",
    "            #print(\"W : \",W,\" B : \",B)\n",
    "            #x_test = X_train[50]   # example\n",
    "            #print(x_test)\n",
    "            #tabProbas=np.dot(W,x_test)+B\n",
    "            #print(tabProbas)\n",
    "            \n",
    "    return W, B, J_history         #return final w,b and J history for graphing "
   ]
  },
  {
   "cell_type": "code",
   "execution_count": 29,
   "metadata": {},
   "outputs": [],
   "source": [
    "def map_feature(X1, X2):\n",
    "    X1 = np.atleast_1d(X1)\n",
    "    X2 = np.atleast_1d(X2)\n",
    "    degree = 6\n",
    "    out = []\n",
    "    for i in range(1, degree+1):\n",
    "        for j in range(i + 1):\n",
    "            out.append((X1**(i-j) * (X2**j)))\n",
    "    return np.stack(out, axis=1)"
   ]
  },
  {
   "attachments": {},
   "cell_type": "markdown",
   "metadata": {},
   "source": [
    "test cout"
   ]
  },
  {
   "cell_type": "code",
   "execution_count": 30,
   "metadata": {},
   "outputs": [
    {
     "name": "stdout",
     "output_type": "stream",
     "text": [
      "4\n",
      "[6 5 5 7 7 5 7 5 5 5 7 4 4 5 5 6 5 5 6 5 5 6 4 4 5 6 5 4 6 5 5 5 5 5 6 6 5\n",
      " 5 5 7 5 5 6 6 5 6 4 5 5 6 4 5 5 5 4 6 4 6 5 5 5 5 5 6 5 4 7 6 7 7 5 5 5 5\n",
      " 5 5 6 7 6 5 7 7 6 6 5 5 5 5 5 7 4 5 4 8 6 6 8 7 7 7 6 7 5 7 6 5 5 5 6 6 5\n",
      " 7 5 6 6 7 5 6 7 7 5 7 6 6 6 7 7 5 7 7 5 7 6 7 6 8 5 7 6 5 5 6 7 4 7 6 5 6\n",
      " 5 7 7 7 6 5 7 5 5 8 7 7 5 6 6 7 5 8 5 3 6 6 5 6 5 8 5 7 7 6 8 6 5 8 6 7 7\n",
      " 7 7 7 7 6 7 7 5 6 3 6 5 5 6 6 7 5 6 6 6 6 6 6 6 5 6 6 6 5 6 4 6 5 7 8 5 5\n",
      " 6 6 6 6 5 6 5 5 5 5 6 4 5 5 5 4 7 6 5 5 5 5 7 6 5 6 5 5 5 5 5 5 5 6 5 6 4\n",
      " 4 5 5 5 5 5 5 5 5 6 6 5 5 5 6 5 5 5 6 5 6 6 5 5 6 5 5 7 5 7 7 5 4 5 5 7 7\n",
      " 4 4 7 7 7 5 5 6 7 7 5 4 7 5 6 5 5 6 7 6 7 5 7 7 7 5 6 6 6 6 5 6 5 7 6 4 5\n",
      " 7 5 7 7 7 7 7 7 7 7 7 7 6 7 5 6 6 6 7 5 7 5 5 5 6 5 5 7 5 7 7 7 7 7 5 6 7\n",
      " 6 5 7 6 7 5 7 7 7 6 5 6 5 7 7 5 7 7 6 8 6 7 7 5 7 5 7 7 7 7 7 8 7 6 5 7 5\n",
      " 6 7 6 8 7 7 7 7 5 6 6 7 6 7 7 7 5 7 6 6 4 5 5 5 4 5 7 6 6 7 8 5 7 7 7 7 6\n",
      " 5 7 6 5 4 4 5 6 5 6 5 4 6 6 4 7 6 6 5 6 6 6 3 6 6 5 5 5 5 6 6 6 6 5 6 5 5\n",
      " 5 5 6 6 5 5 5 6 6 5 6 6 5 6 5 5 5 8 6 6 7 6 6 5 5 5 7 4 5 7 5 6 5 6 5 8 7\n",
      " 7 7 5 7 6 4 6 7 4 7 3 6 7 7 3 4 5 5 5 5 6 5 7 3 6 5 6 6 6 5 5 6 6 6 7 7 8\n",
      " 6 5 7 5 5 6 6 6 6 6 5 7 6 6 6 6 6 5 6 5]\n",
      "[[-0.082978    0.22032449 -0.49988563 -0.19766743]\n",
      " [-0.35324411 -0.40766141 -0.31373979 -0.15443927]\n",
      " [-0.10323253  0.03881673 -0.08080549  0.1852195 ]\n",
      " [-0.29554775  0.37811744 -0.47261241  0.17046751]\n",
      " [-0.0826952   0.05868983 -0.35961306 -0.30189851]\n",
      " [ 0.30074457  0.46826158 -0.18657582  0.19232262]\n",
      " [ 0.37638915  0.39460666 -0.41495579 -0.46094522]\n",
      " [-0.33016958  0.3781425  -0.40165317 -0.07889237]\n",
      " [ 0.45788953  0.03316528  0.19187711 -0.18448437]]\n",
      "[0.5 0.5 0.5 0.5 0.5 0.5 0.5 0.5 0.5]\n",
      " cost : 2.2958296879183835\n"
     ]
    }
   ],
   "source": [
    "#[df['volatile acidity'],df['alcohol'],df['sulphates'],df['citric acid']]\n",
    "X_train=np.copy(X_norm2)\n",
    "y_train=np.copy(y_train2)\n",
    "nbClasses=9\n",
    "print(X_train.shape[1])\n",
    "print(y_train)\n",
    "np.random.seed(1)\n",
    "initial_W = np.random.rand(nbClasses,X_train.shape[1]) - 0.5\n",
    "print(initial_W)\n",
    "initial_B = np.ones(nbClasses)*0.5\n",
    "print(initial_B)\n",
    "cost = compute_cost_softmax(X_train, y_train, initial_W, initial_B)\n",
    "\n",
    "print(\" cost :\", cost)"
   ]
  },
  {
   "attachments": {},
   "cell_type": "markdown",
   "metadata": {},
   "source": [
    "test gradient"
   ]
  },
  {
   "cell_type": "code",
   "execution_count": 34,
   "metadata": {},
   "outputs": [
    {
     "name": "stdout",
     "output_type": "stream",
     "text": [
      "[[-1.39978919 -0.59360107 -0.45623467  1.48339955]\n",
      " [ 0.93933222 -0.96338181 -0.57365783 -1.36502663]\n",
      " [ 0.71655875 -0.96338181 -0.57365783 -1.36502663]\n",
      " ...\n",
      " [ 0.38239855  0.05351522 -0.45623467 -0.9581086 ]\n",
      " [ 0.10393172  0.70063152  0.60057372 -0.8563791 ]\n",
      " [ 0.6330187  -0.22382033  0.30701583 -0.75464959]]\n",
      "initial_W :\n",
      " [[-0.082978    0.22032449 -0.49988563 -0.19766743]\n",
      " [-0.35324411 -0.40766141 -0.31373979 -0.15443927]\n",
      " [-0.10323253  0.03881673 -0.08080549  0.1852195 ]\n",
      " [-0.29554775  0.37811744 -0.47261241  0.17046751]\n",
      " [-0.0826952   0.05868983 -0.35961306 -0.30189851]\n",
      " [ 0.30074457  0.46826158 -0.18657582  0.19232262]\n",
      " [ 0.37638915  0.39460666 -0.41495579 -0.46094522]\n",
      " [-0.33016958  0.3781425  -0.40165317 -0.07889237]\n",
      " [ 0.45788953  0.03316528  0.19187711 -0.18448437]]\n",
      "[0.5 0.5 0.5 0.5 0.5 0.5 0.5 0.5 0.5]\n",
      "dj_db: [ 0.10053138  0.11168011  0.11162693  0.11080569  0.04171365 -0.25365681\n",
      " -0.1730494  -0.13557655  0.085925  ]\n",
      "First few elements of dj_dw:\n",
      " [[-0.00841148  0.01187825 -0.0121209  -0.00278637]\n",
      " [-0.02611759 -0.03626509 -0.0018777   0.01268622]\n",
      " [-0.03985801  0.0067639   0.04224147  0.05271342]\n",
      " [-0.08193773  0.05885719  0.01504468  0.05968138]\n",
      " [-0.05608555  0.0067301  -0.00183722  0.01889326]\n",
      " [-0.1039018   0.24142682  0.10178914  0.05943478]\n",
      " [ 0.12201701 -0.0452893  -0.06752414 -0.05032043]\n",
      " [ 0.1418522  -0.19242271 -0.11716883 -0.12021212]\n",
      " [ 0.05244296 -0.05167917  0.0414535  -0.03009014]]\n"
     ]
    }
   ],
   "source": [
    "print(X_train)\n",
    "\n",
    "np.random.seed(1)\n",
    "initial_W = np.random.rand(nbClasses,X_train.shape[1]) - 0.5\n",
    "print(\"initial_W :\\n\",initial_W)\n",
    "initial_B = np.ones(nbClasses)*0.5\n",
    "print(initial_B)\n",
    " \n",
    "lambda_ = 0.5\n",
    "dJ_DB, dJ_DW = compute_gradient_softmax(X_train, y_train, initial_W, initial_B)\n",
    "\n",
    "print(f\"dj_db: {dJ_DB}\", )\n",
    "print(f\"First few elements of dj_dw:\\n {dJ_DW}\", )"
   ]
  },
  {
   "attachments": {},
   "cell_type": "markdown",
   "metadata": {},
   "source": [
    "GRADIENT DESCENT APPLICATION"
   ]
  },
  {
   "cell_type": "code",
   "execution_count": 45,
   "metadata": {},
   "outputs": [
    {
     "name": "stdout",
     "output_type": "stream",
     "text": [
      "initial_W :\n",
      " [[-0.082978    0.22032449 -0.49988563 -0.19766743]\n",
      " [-0.35324411 -0.40766141 -0.31373979 -0.15443927]\n",
      " [-0.10323253  0.03881673 -0.08080549  0.1852195 ]\n",
      " [-0.29554775  0.37811744 -0.47261241  0.17046751]\n",
      " [-0.0826952   0.05868983 -0.35961306 -0.30189851]\n",
      " [ 0.30074457  0.46826158 -0.18657582  0.19232262]\n",
      " [ 0.37638915  0.39460666 -0.41495579 -0.46094522]\n",
      " [-0.33016958  0.3781425  -0.40165317 -0.07889237]\n",
      " [ 0.45788953  0.03316528  0.19187711 -0.18448437]]\n",
      "[0.5 0.5 0.5 0.5 0.5 0.5 0.5 0.5 0.5]\n",
      "Iteration    0: Cost 2.2918757371213268   \n",
      "Iteration  100: Cost 1.9615941805029462   \n"
     ]
    },
    {
     "ename": "KeyboardInterrupt",
     "evalue": "",
     "output_type": "error",
     "traceback": [
      "\u001b[0;31m---------------------------------------------------------------------------\u001b[0m",
      "\u001b[0;31mKeyboardInterrupt\u001b[0m                         Traceback (most recent call last)",
      "\u001b[1;32m/home/henri/ZZZ2/wineQualityPrediction/3.5Softmax.ipynb Cell 10\u001b[0m in \u001b[0;36m<cell line: 11>\u001b[0;34m()\u001b[0m\n\u001b[1;32m      <a href='vscode-notebook-cell:/home/henri/ZZZ2/wineQualityPrediction/3.5Softmax.ipynb#X12sZmlsZQ%3D%3D?line=7'>8</a>\u001b[0m iterations \u001b[39m=\u001b[39m \u001b[39m1000\u001b[39m\n\u001b[1;32m      <a href='vscode-notebook-cell:/home/henri/ZZZ2/wineQualityPrediction/3.5Softmax.ipynb#X12sZmlsZQ%3D%3D?line=8'>9</a>\u001b[0m alpha \u001b[39m=\u001b[39m \u001b[39m0.01\u001b[39m\n\u001b[0;32m---> <a href='vscode-notebook-cell:/home/henri/ZZZ2/wineQualityPrediction/3.5Softmax.ipynb#X12sZmlsZQ%3D%3D?line=10'>11</a>\u001b[0m W,B, J_history \u001b[39m=\u001b[39m gradient_descent_softmax(X_train, y_train, initial_W, initial_B, alpha, iterations)\n",
      "\u001b[1;32m/home/henri/ZZZ2/wineQualityPrediction/3.5Softmax.ipynb Cell 10\u001b[0m in \u001b[0;36mgradient_descent_softmax\u001b[0;34m(X, y, W_in, B_in, alpha, num_iters)\u001b[0m\n\u001b[1;32m     <a href='vscode-notebook-cell:/home/henri/ZZZ2/wineQualityPrediction/3.5Softmax.ipynb#X12sZmlsZQ%3D%3D?line=90'>91</a>\u001b[0m nb_f\u001b[39m=\u001b[39mW\u001b[39m.\u001b[39mshape[\u001b[39m0\u001b[39m]\n\u001b[1;32m     <a href='vscode-notebook-cell:/home/henri/ZZZ2/wineQualityPrediction/3.5Softmax.ipynb#X12sZmlsZQ%3D%3D?line=92'>93</a>\u001b[0m \u001b[39mfor\u001b[39;00m i \u001b[39min\u001b[39;00m \u001b[39mrange\u001b[39m(num_iters):\n\u001b[1;32m     <a href='vscode-notebook-cell:/home/henri/ZZZ2/wineQualityPrediction/3.5Softmax.ipynb#X12sZmlsZQ%3D%3D?line=93'>94</a>\u001b[0m     \u001b[39m# Calculate the gradient and update the parameters\u001b[39;00m\n\u001b[0;32m---> <a href='vscode-notebook-cell:/home/henri/ZZZ2/wineQualityPrediction/3.5Softmax.ipynb#X12sZmlsZQ%3D%3D?line=94'>95</a>\u001b[0m     dJ_DB, dJ_DW \u001b[39m=\u001b[39m compute_gradient_softmax(X, y, W, B)   \n\u001b[1;32m     <a href='vscode-notebook-cell:/home/henri/ZZZ2/wineQualityPrediction/3.5Softmax.ipynb#X12sZmlsZQ%3D%3D?line=96'>97</a>\u001b[0m     \u001b[39m# Update Parameters using w, b, alpha and gradient\u001b[39;00m\n\u001b[1;32m     <a href='vscode-notebook-cell:/home/henri/ZZZ2/wineQualityPrediction/3.5Softmax.ipynb#X12sZmlsZQ%3D%3D?line=97'>98</a>\u001b[0m     W \u001b[39m=\u001b[39m W \u001b[39m-\u001b[39m alpha \u001b[39m*\u001b[39m dJ_DW               \n",
      "\u001b[1;32m/home/henri/ZZZ2/wineQualityPrediction/3.5Softmax.ipynb Cell 10\u001b[0m in \u001b[0;36mcompute_gradient_softmax\u001b[0;34m(X, y, W, B)\u001b[0m\n\u001b[1;32m     <a href='vscode-notebook-cell:/home/henri/ZZZ2/wineQualityPrediction/3.5Softmax.ipynb#X12sZmlsZQ%3D%3D?line=62'>63</a>\u001b[0m \u001b[39m#print(\"somme des f_WB : \",sum(f_WB))\u001b[39;00m\n\u001b[1;32m     <a href='vscode-notebook-cell:/home/henri/ZZZ2/wineQualityPrediction/3.5Softmax.ipynb#X12sZmlsZQ%3D%3D?line=63'>64</a>\u001b[0m \u001b[39m#on calcule la dérivé\u001b[39;00m\n\u001b[1;32m     <a href='vscode-notebook-cell:/home/henri/ZZZ2/wineQualityPrediction/3.5Softmax.ipynb#X12sZmlsZQ%3D%3D?line=64'>65</a>\u001b[0m \u001b[39mfor\u001b[39;00m loop \u001b[39min\u001b[39;00m \u001b[39mrange\u001b[39m(nb_f):\n\u001b[0;32m---> <a href='vscode-notebook-cell:/home/henri/ZZZ2/wineQualityPrediction/3.5Softmax.ipynb#X12sZmlsZQ%3D%3D?line=65'>66</a>\u001b[0m   err_loop  \u001b[39m=\u001b[39m f_WB[loop]  \u001b[39m-\u001b[39;49m (loop\u001b[39m==\u001b[39;49my[i])         \u001b[39m#scalar, proba que y = loop  - (1 ou 0)(si y ==loop)\u001b[39;00m\n\u001b[1;32m     <a href='vscode-notebook-cell:/home/henri/ZZZ2/wineQualityPrediction/3.5Softmax.ipynb#X12sZmlsZQ%3D%3D?line=66'>67</a>\u001b[0m   \u001b[39mfor\u001b[39;00m j \u001b[39min\u001b[39;00m \u001b[39mrange\u001b[39m(n):\n\u001b[1;32m     <a href='vscode-notebook-cell:/home/henri/ZZZ2/wineQualityPrediction/3.5Softmax.ipynb#X12sZmlsZQ%3D%3D?line=67'>68</a>\u001b[0m       dJ_DW[loop,j] \u001b[39m=\u001b[39m dJ_DW[loop,j] \u001b[39m+\u001b[39m err_loop \u001b[39m*\u001b[39m X[i,j]      \u001b[39m#scalar\u001b[39;00m\n",
      "\u001b[0;31mKeyboardInterrupt\u001b[0m: "
     ]
    }
   ],
   "source": [
    "np.random.seed(1)\n",
    "initial_W = np.random.rand(nbClasses,X_train.shape[1]) - 0.5\n",
    "print(\"initial_W :\\n\",initial_W)\n",
    "initial_B = np.ones(nbClasses)*0.5\n",
    "print(initial_B)\n",
    "\n",
    "# Some gradient descent settings\n",
    "iterations = 1000\n",
    "alpha = 1\n",
    "\n",
    "W,B, J_history = gradient_descent_softmax(X_train, y_train, initial_W, initial_B, alpha, iterations)"
   ]
  },
  {
   "attachments": {},
   "cell_type": "markdown",
   "metadata": {},
   "source": [
    "test du résultat"
   ]
  },
  {
   "cell_type": "code",
   "execution_count": 41,
   "metadata": {},
   "outputs": [],
   "source": [
    "def locateMax(tab):\n",
    "    max=0\n",
    "    for loop in range(len(tab)):\n",
    "        if tab[loop]>tab[max]:\n",
    "            max=loop\n",
    "    return max"
   ]
  },
  {
   "cell_type": "code",
   "execution_count": 42,
   "metadata": {},
   "outputs": [
    {
     "name": "stdout",
     "output_type": "stream",
     "text": [
      "[ 0.82794549 -1.14827218  2.4793442  -1.26329712]\n",
      "1.0000000000000002\n",
      "[0.01061367 0.01230264 0.01137825 0.04507805 0.23775258 0.24500645\n",
      " 0.24195474 0.17980566 0.01610797]\n",
      "largest value 0.24500645341879046 smallest value 0.010613672830921657\n",
      "position du max :  5\n",
      "valeur réelle:  4\n"
     ]
    }
   ],
   "source": [
    "x_test = X_train[50]   # negative example\n",
    "print(x_test)\n",
    "\n",
    "tabProbas=np.dot(W,x_test)+B\n",
    "tabProbas=sigmoid(tabProbas)\n",
    "tabProbas=tabProbas/np.sum(tabProbas)\n",
    "print(np.sum(tabProbas))\n",
    "print(tabProbas)\n",
    "\n",
    "print(\"largest value\", np.max(tabProbas), \"smallest value\", np.min(tabProbas))\n",
    "print(\"position du max : \",locateMax(tabProbas))\n",
    "print(\"valeur réelle: \",y_train[50])"
   ]
  },
  {
   "cell_type": "code",
   "execution_count": 43,
   "metadata": {},
   "outputs": [
    {
     "data": {
      "image/png": "[encoded data removed]",
      "text/plain": [
       "<Figure size 864x216 with 4 Axes>"
      ]
     },
     "metadata": {
      "needs_background": "light"
     },
     "output_type": "display_data"
    },
    {
     "name": "stdout",
     "output_type": "stream",
     "text": [
      "[5. 5. 5. 5. 5. 5. 7. 5. 5. 5. 5. 5. 7. 5. 5. 5. 5. 5. 5. 5. 5. 6. 5. 5.\n",
      " 5. 7. 5. 5. 5. 5. 5. 5. 5. 5. 5. 5. 5. 5. 4. 6. 5. 5. 7. 7. 5. 5. 7. 5.\n",
      " 6. 5. 5. 5. 5. 5. 5. 5. 5. 5. 5. 5. 5. 5. 5. 5. 5. 4. 7. 5. 7. 7. 5. 6.\n",
      " 5. 5. 5. 5. 6. 6. 6. 5. 5. 5. 6. 5. 5. 5. 5. 5. 5. 7. 5. 5. 5. 7. 6. 6.\n",
      " 7. 6. 7. 6. 5. 6. 5. 6. 5. 5. 5. 5. 5. 5. 5. 6. 5. 5. 5. 7. 7. 5. 6. 7.\n",
      " 6. 7. 5. 5. 7. 7. 7. 5. 5. 5. 5. 7. 7. 7. 5. 6. 5. 7. 5. 5. 5. 6. 7. 5.\n",
      " 7. 7. 5. 6. 5. 6. 7. 6. 5. 5. 7. 5. 5. 5. 5. 7. 7. 7. 5. 7. 7. 7. 5. 5.\n",
      " 7. 5. 7. 6. 5. 7. 5. 7. 7. 7. 7. 5. 7. 7. 6. 7. 7. 7. 7. 7. 7. 5. 7. 7.\n",
      " 5. 7. 5. 7. 5. 5. 5. 5. 7. 7. 7. 6. 5. 7. 6. 5. 6. 5. 7. 6. 7. 6. 7. 5.\n",
      " 5. 5. 5. 7. 5. 5. 5. 5. 5. 7. 5. 5. 5. 5. 5. 5. 6. 5. 5. 5. 5. 5. 6. 6.\n",
      " 5. 5. 5. 5. 5. 5. 5. 5. 5. 5. 5. 5. 5. 5. 5. 5. 5. 5. 5. 5. 5. 5. 5. 7.\n",
      " 5. 5. 5. 5. 5. 5. 5. 5. 5. 5. 5. 5. 5. 5. 5. 6. 5. 5. 5. 5. 5. 6. 7. 5.\n",
      " 7. 7. 6. 6. 5. 5. 7. 7. 6. 5. 7. 7. 7. 5. 5. 7. 7. 7. 5. 6. 7. 5. 5. 5.\n",
      " 5. 5. 7. 6. 7. 7. 6. 6. 6. 6. 6. 7. 7. 6. 6. 6. 6. 7. 6. 5. 6. 7. 6. 7.\n",
      " 5. 7. 7. 7. 7. 7. 7. 7. 7. 7. 6. 5. 6. 7. 7. 7. 5. 6. 5. 5. 5. 6. 5. 5.\n",
      " 7. 6. 7. 7. 7. 7. 7. 5. 6. 7. 7. 6. 6. 7. 6. 5. 6. 7. 7. 7. 6. 6. 5. 7.\n",
      " 7. 5. 7. 7. 7. 7. 7. 7. 7. 5. 7. 7. 7. 7. 7. 5. 5. 7. 7. 5. 5. 7. 5. 6.\n",
      " 7. 7. 7. 7. 7. 6. 7. 5. 5. 7. 7. 7. 7. 7. 7. 5. 7. 7. 5. 5. 6. 6. 6. 5.\n",
      " 5. 7. 7. 5. 7. 7. 5. 7. 7. 7. 7. 7. 5. 7. 7. 5. 5. 6. 5. 6. 5. 6. 5. 4.\n",
      " 7. 5. 7. 7. 6. 5. 6. 6. 7. 6. 3. 6. 7. 5. 5. 5. 5. 5. 6. 6. 6. 5. 5. 5.\n",
      " 5. 5. 5. 6. 5. 5. 6. 6. 6. 6. 5. 6. 5. 5. 7. 5. 5. 5. 6. 6. 7. 7. 6. 6.\n",
      " 6. 5. 5. 7. 6. 7. 6. 5. 6. 6. 5. 5. 7. 7. 7. 6. 5. 7. 6. 5. 6. 5. 5. 5.\n",
      " 5. 7. 7. 7. 5. 5. 7. 5. 6. 6. 7. 5. 6. 5. 7. 7. 6. 5. 6. 5. 6. 5. 6. 6.\n",
      " 6. 7. 7. 6. 5. 6. 5. 5. 6. 7. 6. 6. 7. 6. 7. 6. 6. 6. 6. 5. 6. 6. 5.]\n"
     ]
    }
   ],
   "source": [
    "#predict target using normalized features\n",
    "m = X_train.shape[0]\n",
    "yp = np.zeros(m)\n",
    "for loop in range(len(X_train)):\n",
    "    tabProbas=np.dot(W,X_train[loop])+B\n",
    "    tabProbas=sigmoid(tabProbas)\n",
    "    tabProbas=tabProbas/np.sum(tabProbas)\n",
    "    yp[loop]=locateMax(tabProbas)\n",
    "\n",
    "    # plot predictions and targets versus original features    \n",
    "fig,ax=plt.subplots(1,4,figsize=(12, 3),sharey=True)\n",
    "for i in range(len(ax)):\n",
    "    ax[i].scatter([X_train[:,i]],y_train, label = 'target')\n",
    "    ax[i].set_xlabel(X_features[i])\n",
    "    ax[i].scatter([X_train[:,i]],yp,color=\"orange\", label = 'predict')\n",
    "ax[0].set_ylabel(\"Quality\"); ax[0].legend()\n",
    "fig.suptitle(\"target versus prediction using Softmax model\")\n",
    "plt.show()\n",
    "print(yp)"
   ]
  },
  {
   "cell_type": "code",
   "execution_count": 44,
   "metadata": {},
   "outputs": [
    {
     "name": "stdout",
     "output_type": "stream",
     "text": [
      "Train Accuracy:  57.73381294964028\n"
     ]
    }
   ],
   "source": [
    "sum=0\n",
    "for loop in range(556):\n",
    "    if(yp[loop] == y_train[loop]):\n",
    "        sum+=1\n",
    "print('Train Accuracy: ',(sum/556)*100)"
   ]
  }
 ],
 "metadata": {
  "kernelspec": {
   "display_name": "Python 3",
   "language": "python",
   "name": "python3"
  },
  "language_info": {
   "codemirror_mode": {
    "name": "ipython",
    "version": 3
   },
   "file_extension": ".py",
   "mimetype": "text/x-python",
   "name": "python",
   "nbconvert_exporter": "python",
   "pygments_lexer": "ipython3",
   "version": "3.8.10"
  },
  "orig_nbformat": 4
 },
 "nbformat": 4,
 "nbformat_minor": 2
}
