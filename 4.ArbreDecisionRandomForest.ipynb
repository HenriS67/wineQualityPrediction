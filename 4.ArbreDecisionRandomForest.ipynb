{
 "cells": [
  {
   "attachments": {},
   "cell_type": "markdown",
   "metadata": {},
   "source": [
    "<b><font color='red' size=\"10\">4) Les Arbres de Décision </font> </b>"
   ]
  },
  {
   "attachments": {},
   "cell_type": "markdown",
   "metadata": {},
   "source": [
    "<b><font color='black' size=\"5\">Nous allons tester maintenant les arbres de décision. Dans ces arbres chaque noeud divise les observations en 2 branches en fonction d'une condition (par exemple alcohol<=12) et chaque feuille de l'arbre correspond à une qualité égale à la moyenne de la qualité des observations présentes dans la feuille.\n",
    "Une nouvelle observation x n'aura qu'à suivre le chemin de l'arbre en fonction des conditions des noeuds pour atterir dans une feuille. La prédiction sera alors la qualité de la feuille.</font> </b>"
   ]
  },
  {
   "attachments": {},
   "cell_type": "markdown",
   "metadata": {},
   "source": [
    "<b><font color='blue' size=\"6\">a) Préparation des données (comme précédemment)</font> </b>"
   ]
  },
  {
   "cell_type": "code",
   "execution_count": 46,
   "metadata": {},
   "outputs": [
    {
     "name": "stderr",
     "output_type": "stream",
     "text": [
      "/home/henri/.local/lib/python3.8/site-packages/pandas/core/series.py:726: RuntimeWarning: invalid value encountered in log\n",
      "  result = getattr(ufunc, method)(*inputs, **kwargs)\n"
     ]
    },
    {
     "name": "stdout",
     "output_type": "stream",
     "text": [
      "(1074, 10)\n",
      "(1074,)\n"
     ]
    },
    {
     "data": {
      "image/png": "[encoded data removed]",
      "text/plain": [
       "<Figure size 640x480 with 2 Axes>"
      ]
     },
     "metadata": {},
     "output_type": "display_data"
    }
   ],
   "source": [
    "import numpy as np\n",
    "import pandas as pd\n",
    "import matplotlib.pyplot as plt\n",
    "import random\n",
    "df = pd.read_csv('WineQT.csv')\n",
    "import numpy as np\n",
    "import matplotlib.pyplot as plt\n",
    "\n",
    "def plot_hists(df):\n",
    "    fig, ax = plt.subplots(nrows=3, ncols=4, figsize=(20, 15))\n",
    "    for n in range(12):\n",
    "        i = n % 3\n",
    "        j = n % 4\n",
    "        ax[i, j].hist(df.iloc[:, n], bins='auto')\n",
    "        ax[i, j].set_xlabel(df.columns[n])\n",
    "\n",
    "#On normalise : mettre entre 0 et 1\n",
    "def normalize(df, property, parameter):\n",
    "    df[property] = np.log(df[property] + parameter)\n",
    "\n",
    "\n",
    "normalize(df, \"fixed acidity\", -2.3)\n",
    "normalize(df, \"sulphates\", -0.24)\n",
    "normalize(df, \"total sulfur dioxide\", 5)\n",
    "normalize(df, \"residual sugar\", -1.1)\n",
    "normalize(df, \"chlorides\", -0.005)\n",
    "normalize(df, \"volatile acidity\", 2)\n",
    "normalize(df, \"free sulfur dioxide\", 2)\n",
    "#plot_hists(df)\n",
    "\n",
    "standardized = (df - df.mean()) / df.std()\n",
    "standardized = standardized[(np.abs(standardized) < 3).all(axis=1)]\n",
    "rows = np.setdiff1d(list(df.index), list(standardized.index))\n",
    "df.drop(index=rows, inplace=True)\n",
    "#plot_hists(df)\n",
    "\n",
    "import numpy as np\n",
    "import matplotlib.pyplot as plt\n",
    "\n",
    "#Préparation des données\n",
    "y = df['quality']\n",
    "X= [df['fixed acidity'],  df['volatile acidity']  ,df['citric acid']  ,df['residual sugar'],  df['chlorides'],df['free sulfur dioxide']  ,df['total sulfur dioxide'],  df['density']    ,df['pH'],  df['sulphates']]\n",
    "X=np.transpose(np.array(X))\n",
    "y=np.asarray(y)\n",
    "print(X.shape)\n",
    "print(y.shape)\n",
    "X_features = ['fixed acidity',  'volatile acidity'  ,'citric acid'  ,'residual sugar',  'chlorides','free sulfur dioxide'  ,'total sulfur dioxide',  'density'    ,'pH',  'sulphates']\n",
    "nb_feature=len(X_features)\n",
    "\n",
    "\n",
    "#on supprime aleatoirement des valeurs de notes 5 et 6 (diviser par 2)\n",
    "supp=[]\n",
    "for i in range(len(y)):\n",
    "    if y[i]==5 or y[i]==6:\n",
    "        rand=random.random()\n",
    "        if(rand>0.5):\n",
    "            supp.append(i)\n",
    "y2=np.delete(y,supp)\n",
    "\n",
    "X2=np.delete(X,supp,0)\n",
    "\n",
    "#Plot des modifications\n",
    "fig,ax=plt.subplots(1,2,sharey=True)\n",
    "ax[0].hist(y, bins='auto',label=\"quality\")\n",
    "ax[0].set_title(\"quality avant modification\")\n",
    "\n",
    "ax[1].hist(y2, bins='auto',label=\"quality\")\n",
    "ax[1].set_title(\"quality après modification\")\n",
    "\n",
    "#on créé les jeux de données\n",
    "from sklearn.model_selection import train_test_split\n",
    "X_train, X_tmp, y_train, y_tmp = train_test_split(X2, y2, test_size=0.4, random_state=42)\n",
    "X_cv, X_test, y_cv, y_test = train_test_split(X_tmp, y_tmp, test_size=0.5, random_state=42)\n",
    "\n",
    "def zscore_normalize_features(X):\n",
    "    mu     = np.mean(X, axis=0)                 # mu will have shape (n,)\n",
    "    # find the standard deviation of each column/feature\n",
    "    sigma  = np.std(X, axis=0)                  # sigma will have shape (n,)\n",
    "    # element-wise, subtract mu for that column from each example, divide by std for that column\n",
    "    X_norm = (X - mu) / sigma      \n",
    "\n",
    "    return (X_norm, mu, sigma)\n",
    "\n",
    " # normalize the original features\n",
    "X_train, X_mu, X_sigma = zscore_normalize_features(X_train)\n",
    "X_cv, X_mu, X_sigma = zscore_normalize_features(X_cv)\n",
    "X_test, X_mu, X_sigma = zscore_normalize_features(X_test)"
   ]
  },
  {
   "attachments": {},
   "cell_type": "markdown",
   "metadata": {},
   "source": [
    "<b><font color='blue' size=\"6\">b) Mise en place d'un arbre de décision</font> </b>"
   ]
  },
  {
   "attachments": {},
   "cell_type": "markdown",
   "metadata": {},
   "source": [
    "<b><font color='black' size=\"5\">On va commencer par mettre en place un arbre de décision. Pour cela :<br>\n",
    "\n",
    "- on commence à la racine avec tout le dataset qu'on veut split.<br>\n",
    "- on teste les splits sur toutes les caractéristiques du vin avec un certain nombre de valeurs (ex: sulfate <= valeurn°12).<br>\n",
    "- on décide le split choisi en calculant l'utilité = le gain d'information qui dépend de la pureté des noeuds résultant du split.<br>\n",
    "- on sépare le dataset en fonction du meilleur split et on refait récursivement la même chose sur les 2 nouveaux noeuds.<br>\n",
    "- on s'arrête lorsque un noeud est totalement pure (=tous les vins de même qualité), ou lorsqu'on atteint une certaine profondeur.</font> </b>"
   ]
  },
  {
   "attachments": {},
   "cell_type": "markdown",
   "metadata": {},
   "source": [
    "<b><font color='orange' size=\"5\">Codes de la structure de l'arbre pour la prédiction du vin:</font> </b>\n"
   ]
  },
  {
   "cell_type": "code",
   "execution_count": 98,
   "metadata": {},
   "outputs": [],
   "source": [
    "class ArbreBinaireVin:\n",
    "    def __init__(self):\n",
    "        self.qualite = 0\n",
    "        self.split=0\n",
    "        self.carac=0\n",
    "        self.enfant_gauche = None\n",
    "        self.enfant_droit = None\n",
    "\n",
    "\n",
    "    def insert_gauche(self):\n",
    "        self.enfant_gauche = ArbreBinaireVin()\n",
    "\n",
    "    def insert_droit(self):\n",
    "        self.enfant_droit = ArbreBinaireVin()\n",
    "\n",
    "    def get_valeur(self):\n",
    "        return self.valeur\n",
    "\n",
    "    def get_gauche(self):\n",
    "        return self.enfant_gauche\n",
    "\n",
    "    def get_droit(self):\n",
    "        return self.enfant_droit\n",
    "\n",
    "    \n",
    "    def get_predictionVin(self,x):\n",
    "\n",
    "        if(x[self.carac]<=self.split):\n",
    "            if(self.enfant_gauche==None):\n",
    "                return self.qualite\n",
    "            else:\n",
    "                return self.enfant_gauche.get_predictionVin(x)\n",
    "        else:\n",
    "            if(self.enfant_droit==None):\n",
    "                return self.qualite\n",
    "            else:\n",
    "                return self.enfant_droit.get_predictionVin(x)\n",
    "\n",
    "    def affiche(self):\n",
    "        print(self.carac,X_features[self.carac],self.split,self.qualite)\n",
    "        if(self.enfant_gauche!=None):\n",
    "            self.enfant_gauche.affiche()\n",
    "        if(self.enfant_droit!=None):\n",
    "            self.enfant_droit.affiche()"
   ]
  },
  {
   "attachments": {},
   "cell_type": "markdown",
   "metadata": {},
   "source": [
    "<b><font color='orange' size=\"5\">Codes de la construction de l'arbre avec le dataset d'entrainement:</font> </b>"
   ]
  },
  {
   "cell_type": "code",
   "execution_count": 103,
   "metadata": {},
   "outputs": [],
   "source": [
    "#calcul de l'impureté d'un noeuf, pour savoir à quel point le noeud est pur (=les vins qui s'y trouvent ont la même qualité)\n",
    "def gini_Impurity(y):\n",
    "\n",
    "    #on calcul le nombre de valeur par note de vin (0 à 8)\n",
    "    tab_value=np.zeros(9)\n",
    "    for loop in range(len(y)):\n",
    "        tab_value[y[loop]]+=1\n",
    "    #calcul de l'impureté\n",
    "    impurity=1\n",
    "    for loop in range(len(tab_value)):\n",
    "        impurity-=(tab_value[loop]/sum(tab_value))**2\n",
    "    return impurity\n",
    "     \n",
    "#split du noeud pour des valeurs continues (ex:split en fonction de la condition {X_alcohol<=12.355?})\n",
    "def split_dataset_continue(X, node_indices, feature,t):\n",
    "\n",
    "    left_indices = []\n",
    "    right_indices = []\n",
    "    for i in node_indices:\n",
    "        if X[i,feature] <= t:\n",
    "            left_indices.append(i)\n",
    "        else:\n",
    "            right_indices.append(i)\n",
    "        \n",
    "    return left_indices, right_indices \n",
    "\n",
    "#calcul du gain d'information = utilité d'un split, permet de choisir sur quelle condition on va split le noeud\n",
    "def compute_information_gain_continue(X, y, node_indices, feature, t):\n",
    "    \n",
    "    left_indices, right_indices = split_dataset_continue(X, node_indices, feature,t)\n",
    "    \n",
    "    X_node, y_node = X[node_indices], y[node_indices]\n",
    "    X_left, y_left = X[left_indices], y[left_indices]\n",
    "    X_right, y_right = X[right_indices], y[right_indices]\n",
    "    \n",
    "    information_gain = 0\n",
    "    \n",
    "    node_entropy = gini_Impurity(y_node)\n",
    "    left_entropy = gini_Impurity(y_left)\n",
    "    right_entropy = gini_Impurity(y_right)\n",
    "    w_left = len(X_left) / len(X_node)\n",
    "    w_right = len(X_right) / len(X_node)\n",
    "    weighted_entropy = w_left * left_entropy + w_right * right_entropy\n",
    "    information_gain = node_entropy - weighted_entropy\n",
    "    \n",
    "    return information_gain\n",
    "\n",
    "#garder la meilleur condition pour le meilleur split\n",
    "def get_best_split_continue(X, y, node_indices):   \n",
    "    num_features = X.shape[1]\n",
    "    \n",
    "    best_feature = -1\n",
    "\n",
    "    max_info_gain = 0\n",
    "    tmax=0\n",
    "\n",
    "    tab_max_feature=np.zeros(num_features)\n",
    "    tab_min_feature=np.zeros(num_features)\n",
    "    for loop in range(num_features):\n",
    "        tab_max_feature[loop]=np.max(np.transpose(X)[loop])\n",
    "        tab_min_feature[loop]=np.min(np.transpose(X)[loop])\n",
    "    \n",
    "    for feature in range(num_features):\n",
    "        tab_t_feature=np.linspace(tab_min_feature[feature], tab_max_feature[feature], len(X)-1)\n",
    "        \n",
    "        for t in range(len(tab_t_feature)):\n",
    "            info_gain = compute_information_gain_continue(X, y, node_indices, feature,tab_t_feature[t])\n",
    "\n",
    "            if info_gain > max_info_gain:\n",
    "                max_info_gain = info_gain\n",
    "                best_feature = feature\n",
    "                tmax=tab_t_feature[t]\n",
    "   \n",
    "    return best_feature,tmax,max_info_gain\n",
    "\n",
    "#construction recursive de l'arbre de décision:\n",
    "#on commence à la racine avec tout le dataset\n",
    "#on teste les splits sur toutes les caractéristiques du vin avec un certain nombre de valeurs (ex: sulfate <= valeurn°12)\n",
    "#on décide la condition choisie en calculant l'utilité = le gain d'information qui dépend de la pureté des noeuds résultant du split\n",
    "#on sépare le dataset en deux et on refait récursivement la même chose sur les 2 nouveaux noeuds.\n",
    "#on s'arrête lorsque un noeud est totalement pure (=tous les vins de meme qualité), ou à une certaine profondeur\n",
    "def build_tree_recursive_continue(X, y, node_indices, branch_name, max_depth, current_depth, tree, arbreVin):\n",
    "\n",
    "    if current_depth == max_depth:\n",
    "        qualite_node=np.mean(y[node_indices])\n",
    "        formatting = \" \"*current_depth + \"-\"*current_depth\n",
    "        print(formatting, \"%s leaf node with indices\" % branch_name, node_indices)\n",
    "        print(formatting,\"note moyenne attribuée à la feuille :\",qualite_node,\"(\",round(np.mean(y[node_indices])),\")\")\n",
    "\n",
    "        arbreVin.qualite=round(qualite_node)\n",
    "\n",
    "        return 0\n",
    "   \n",
    "    \n",
    "    best_feature,tmax,max_info = get_best_split_continue(X, y, node_indices) \n",
    "    arbreVin.carac=best_feature\n",
    "    arbreVin.split=tmax\n",
    "\n",
    "    formatting = \"-\"*current_depth\n",
    "    print(\"%s Depth %d, %s: Split on feature: %s <= %s, pour un gain de %s\" % (formatting, current_depth, branch_name, X_features[best_feature], tmax,max_info))\n",
    "\n",
    "    left_indices, right_indices = split_dataset_continue(X, node_indices, best_feature,tmax)\n",
    "    tree.append((left_indices, right_indices, best_feature,tmax))\n",
    "    \n",
    "    if(len(left_indices)>1):\n",
    "        arbreVin.insert_gauche()\n",
    "        build_tree_recursive_continue(X, y, left_indices, \"Left\", max_depth, current_depth+1, tree,arbreVin.enfant_gauche)\n",
    "    if(len(right_indices)>1):\n",
    "        arbreVin.insert_droit()\n",
    "        build_tree_recursive_continue(X, y, right_indices, \"Right\", max_depth, current_depth+1, tree,arbreVin.enfant_droit)\n",
    "    return tree"
   ]
  },
  {
   "attachments": {},
   "cell_type": "markdown",
   "metadata": {},
   "source": [
    "<b><font color='black' size=\"5\">Test de l'arbre de décision avec une profondeur maximale de 4:</font> </b>"
   ]
  },
  {
   "cell_type": "code",
   "execution_count": 107,
   "metadata": {},
   "outputs": [
    {
     "name": "stderr",
     "output_type": "stream",
     "text": [
      "/tmp/ipykernel_42683/506145069.py:13: RuntimeWarning: invalid value encountered in double_scalars\n",
      "  impurity-=(tab_value[loop]/sum(tab_value))**2\n"
     ]
    },
    {
     "name": "stdout",
     "output_type": "stream",
     "text": [
      " Depth 0, Root: Split on feature: sulphates <= -0.09272595611982037, pour un gain de 0.052469323042744875\n",
      "- Depth 1, Left: Split on feature: total sulfur dioxide <= 0.853198588681813, pour un gain de 0.04485148373737924\n",
      "-- Depth 2, Left: Split on feature: density <= 0.41867845114657687, pour un gain de 0.04332317923273732\n",
      "--- Depth 3, Left: Split on feature: residual sugar <= 1.1300734780067812, pour un gain de 0.05027147181483804\n",
      "    ---- Left leaf node with indices [2, 6, 13, 16, 17, 27, 33, 35, 37, 39, 43, 44, 46, 49, 56, 59, 63, 64, 70, 71, 73, 74, 76, 78, 79, 88, 93, 97, 103, 105, 110, 113, 118, 119, 120, 121, 125, 130, 136, 143, 150, 163, 164, 169, 173, 177, 179, 182, 183, 187, 188, 191, 194, 200, 209, 210, 215, 216, 219, 222, 225, 226, 228, 235, 236, 241, 243, 244, 248, 252, 255, 256, 260, 264, 266, 271, 272, 281, 283, 284, 286, 290, 291, 295, 306, 311, 314, 316, 320, 332, 335, 337, 344, 345, 355, 356, 365, 369, 374]\n",
      "    ---- note moyenne attribuée à la feuille : 5.636363636363637 ( 6 )\n",
      "    ---- Right leaf node with indices [42, 81, 92, 192, 279, 310, 324, 351]\n",
      "    ---- note moyenne attribuée à la feuille : 5.875 ( 6 )\n",
      "--- Depth 3, Right: Split on feature: total sulfur dioxide <= 0.5224497635627086, pour un gain de 0.052743342516069824\n",
      "    ---- Left leaf node with indices [11, 22, 26, 29, 30, 55, 67, 91, 109, 111, 114, 124, 148, 158, 174, 178, 186, 190, 201, 229, 233, 238, 242, 245, 246, 247, 251, 262, 267, 285, 298, 307, 318, 339, 348, 366]\n",
      "    ---- note moyenne attribuée à la feuille : 5.166666666666667 ( 5 )\n",
      "    ---- Right leaf node with indices [53, 112, 153, 185, 224, 278, 349, 353]\n",
      "    ---- note moyenne attribuée à la feuille : 5.625 ( 6 )\n",
      "-- Depth 2, Right: Split on feature: fixed acidity <= -2.8656468717590577, pour un gain de 0.036946019743751335\n",
      "--- Depth 3, Right: Split on feature: free sulfur dioxide <= 0.6597548370368371, pour un gain de 0.03752486629679613\n",
      "    ---- Left leaf node with indices [4, 5, 9, 57, 68, 80, 87, 123, 128, 217, 232, 240, 249, 265, 277, 303, 338, 357, 367]\n",
      "    ---- note moyenne attribuée à la feuille : 5.315789473684211 ( 5 )\n",
      "    ---- Right leaf node with indices [12, 47, 62, 65, 69, 104, 106, 116, 134, 137, 140, 146, 152, 154, 168, 176, 193, 206, 214, 254, 287, 299, 301, 333, 336, 362]\n",
      "    ---- note moyenne attribuée à la feuille : 5.038461538461538 ( 5 )\n",
      "- Depth 1, Right: Split on feature: citric acid <= 0.15676519921971788, pour un gain de 0.061485402736593864\n",
      "-- Depth 2, Left: Split on feature: pH <= 0.3387519339878331, pour un gain de 0.05154936838208535\n",
      "--- Depth 3, Left: Split on feature: density <= 0.6547929676033211, pour un gain de 0.1570550931430834\n",
      "    ---- Left leaf node with indices [0, 19, 32, 51, 52, 58, 61, 66, 115, 122, 138, 159, 160, 184, 258, 261, 276, 315, 317, 325, 327, 329, 330, 375]\n",
      "    ---- note moyenne attribuée à la feuille : 5.625 ( 6 )\n",
      "    ---- Right leaf node with indices [25, 86, 94, 142, 151]\n",
      "    ---- note moyenne attribuée à la feuille : 6.0 ( 6 )\n",
      "--- Depth 3, Right: Split on feature: fixed acidity <= -2.350583798240976, pour un gain de 0.1004821389436773\n",
      "    ---- Left leaf node with indices [135, 141, 308]\n",
      "    ---- note moyenne attribuée à la feuille : 7.0 ( 7 )\n",
      "    ---- Right leaf node with indices [10, 20, 21, 24, 40, 45, 101, 102, 107, 132, 133, 144, 157, 165, 172, 203, 208, 213, 218, 220, 223, 227, 250, 274, 288, 289, 300, 309, 321, 334, 340, 347, 350, 364, 372, 373]\n",
      "    ---- note moyenne attribuée à la feuille : 5.75 ( 6 )\n",
      "-- Depth 2, Right: Split on feature: total sulfur dioxide <= 0.7429489803087783, pour un gain de 0.027252765090602815\n",
      "--- Depth 3, Left: Split on feature: density <= 0.4029374833827939, pour un gain de 0.03418658363713323\n",
      "    ---- Left leaf node with indices [1, 3, 7, 8, 15, 18, 23, 28, 34, 38, 48, 50, 54, 60, 75, 77, 83, 85, 89, 98, 99, 100, 117, 126, 129, 147, 155, 161, 162, 166, 180, 199, 202, 204, 207, 230, 231, 253, 263, 268, 270, 280, 296, 304, 322, 323, 326, 328, 341, 342, 343, 346, 370, 371]\n",
      "    ---- note moyenne attribuée à la feuille : 6.888888888888889 ( 7 )\n",
      "    ---- Right leaf node with indices [14, 36, 41, 72, 96, 127, 145, 149, 156, 171, 175, 181, 196, 197, 198, 211, 212, 221, 234, 237, 257, 259, 269, 275, 293, 294, 302, 312, 313, 319, 352, 354, 359, 360, 361, 363, 368]\n",
      "    ---- note moyenne attribuée à la feuille : 6.486486486486487 ( 6 )\n",
      "--- Depth 3, Right: Split on feature: total sulfur dioxide <= 1.245197196230381, pour un gain de 0.13250000000000017\n",
      "    ---- Left leaf node with indices [82, 84, 90, 95, 139, 167, 189, 195, 205, 282, 305, 331]\n",
      "    ---- note moyenne attribuée à la feuille : 5.916666666666667 ( 6 )\n",
      "    ---- Right leaf node with indices [31, 108, 131, 170, 239, 292, 297, 358]\n",
      "    ---- note moyenne attribuée à la feuille : 6.25 ( 6 )\n"
     ]
    }
   ],
   "source": [
    "tree = []\n",
    "arbre = ArbreBinaireVin()\n",
    "root_indices=list(range(0, len(X_train)))\n",
    "build_tree_recursive_continue(X_train, y_train,root_indices, \"Root\", max_depth=4, current_depth=0, tree = tree, arbreVin=arbre);"
   ]
  },
  {
   "cell_type": "code",
   "execution_count": 109,
   "metadata": {},
   "outputs": [
    {
     "name": "stdout",
     "output_type": "stream",
     "text": [
      "vecteur x [ 1.65989152 -0.56212655  1.29038469 -1.73235125  0.93061168  0.88161709\n",
      "  0.30550152  0.39591505 -1.94880838  0.87331486]\n",
      "note prédite: 7\n",
      "vraie note : 7\n"
     ]
    }
   ],
   "source": [
    "x=X_train[50]\n",
    "print(\"vecteur x\",x)\n",
    "print(\"note prédite:\",arbre.get_predictionVin(x))\n",
    "print(\"vraie note :\",y_train[50])"
   ]
  },
  {
   "attachments": {},
   "cell_type": "markdown",
   "metadata": {},
   "source": [
    "<b><font color='black' size=\"5\">On a construit l'arbre de profondeur max 4, il ne reste plus qu'à faire passer notre jeu de test dedans.</font> </b>\n"
   ]
  },
  {
   "cell_type": "code",
   "execution_count": 113,
   "metadata": {},
   "outputs": [],
   "source": [
    "def calcul_error(yhat,y_test):\n",
    "   \n",
    "    cost = 0.0\n",
    "    m=len(y_test)\n",
    "    for i in range(m):                                \n",
    "        cost = cost + (y_test[i] - yhat[i])**2   #scalar\n",
    "    cost = cost / (2 * m)                 #scalar    \n",
    "    return cost\n",
    "\n",
    "def predict_model(arbre,X,y):\n",
    "    yhat=[]\n",
    "    for loop in range(len(X)):\n",
    "        yhat.append(arbre.get_predictionVin(X[loop]))\n",
    "\n",
    "    sum=0\n",
    "    for loop in range(len(yhat)):\n",
    "        if(y[loop] == yhat[loop]):\n",
    "            sum+=1\n",
    "    print('Train Accuracy (%): ',(sum/len(yhat))*100)\n",
    "\n",
    "    nn_test_error =calcul_error(yhat,y)\n",
    "\n",
    "    print(f\"Set Classification Error: {nn_test_error:.4f}\")"
   ]
  },
  {
   "cell_type": "code",
   "execution_count": 116,
   "metadata": {},
   "outputs": [
    {
     "name": "stdout",
     "output_type": "stream",
     "text": [
      "Train Accuracy (%):  53.96825396825397\n",
      "Set Classification Error: 0.3135\n"
     ]
    }
   ],
   "source": [
    "predict_model(arbre,X_test,y_test)"
   ]
  },
  {
   "attachments": {},
   "cell_type": "markdown",
   "metadata": {},
   "source": [
    "<b><font color='black' size=\"5\">Nous obtenons 53% de prédictions exactes sur le jeu de test.\n",
    "Pour améliorer ce résultat, nous allons utiliser une version évoluée de l'arbre de décision : la Random Forest.\n",
    "</font> </b>"
   ]
  },
  {
   "attachments": {},
   "cell_type": "markdown",
   "metadata": {},
   "source": [
    "<b><font color='blue' size=\"6\">c) Forêt d'arbres décisionnels pour la qualité du vin </font> </b>"
   ]
  },
  {
   "attachments": {},
   "cell_type": "markdown",
   "metadata": {},
   "source": [
    "<b><font color='black' size=\"5\">Nous allons enfin mettre en place une random forest ou forêt d'arbres décisionnels à l'aide la bibliothèque sklearn et xgboost.\n",
    "Random forest va créer une multitude d'arbres de décision de ce type avec une part d'aléatoire dans le choix des splits et choisir l'arbre final grâce à un système de votes.</font> </b>"
   ]
  },
  {
   "cell_type": "code",
   "execution_count": 41,
   "metadata": {},
   "outputs": [],
   "source": [
    "import numpy as np\n",
    "import pandas as pd\n",
    "from sklearn.tree import DecisionTreeClassifier\n",
    "from sklearn.ensemble import RandomForestClassifier\n",
    "from sklearn.model_selection import train_test_split\n",
    "from sklearn.metrics import accuracy_score\n",
    "from xgboost import XGBClassifier\n",
    "import matplotlib.pyplot as plt\n",
    "plt.style.use('./deeplearning.mplstyle')\n",
    "\n",
    "RANDOM_STATE = 55 ## We will pass it to every sklearn call so we ensure reproducibility\n",
    "\n",
    "from sklearn.preprocessing import LabelEncoder\n",
    "le = LabelEncoder()\n",
    "y_train = le.fit_transform(y_train)\n",
    "y_test=le.fit_transform(y_test)"
   ]
  },
  {
   "cell_type": "code",
   "execution_count": 42,
   "metadata": {},
   "outputs": [
    {
     "name": "stdout",
     "output_type": "stream",
     "text": [
      "[0]\tvalidation_0-mlogloss:1.76413\n",
      "[1]\tvalidation_0-mlogloss:1.74212\n",
      "[2]\tvalidation_0-mlogloss:1.74340\n",
      "[3]\tvalidation_0-mlogloss:1.72256\n"
     ]
    },
    {
     "name": "stderr",
     "output_type": "stream",
     "text": [
      "/home/henri/.local/lib/python3.8/site-packages/xgboost/sklearn.py:835: UserWarning: `early_stopping_rounds` in `fit` method is deprecated for better compatibility with scikit-learn, use `early_stopping_rounds` in constructor or`set_params` instead.\n",
      "  warnings.warn(\n"
     ]
    },
    {
     "name": "stdout",
     "output_type": "stream",
     "text": [
      "[4]\tvalidation_0-mlogloss:1.72616\n",
      "[5]\tvalidation_0-mlogloss:1.69494\n",
      "[6]\tvalidation_0-mlogloss:1.69315\n",
      "[7]\tvalidation_0-mlogloss:1.69298\n",
      "[8]\tvalidation_0-mlogloss:1.70397\n",
      "[9]\tvalidation_0-mlogloss:1.72146\n",
      "[10]\tvalidation_0-mlogloss:1.72980\n",
      "[11]\tvalidation_0-mlogloss:1.74967\n",
      "[12]\tvalidation_0-mlogloss:1.76279\n",
      "[13]\tvalidation_0-mlogloss:1.77983\n",
      "[14]\tvalidation_0-mlogloss:1.78464\n",
      "[15]\tvalidation_0-mlogloss:1.79472\n",
      "[16]\tvalidation_0-mlogloss:1.79150\n"
     ]
    },
    {
     "data": {
      "text/html": [
       "<style>#sk-container-id-2 {color: black;background-color: white;}#sk-container-id-2 pre{padding: 0;}#sk-container-id-2 div.sk-toggleable {background-color: white;}#sk-container-id-2 label.sk-toggleable__label {cursor: pointer;display: block;width: 100%;margin-bottom: 0;padding: 0.3em;box-sizing: border-box;text-align: center;}#sk-container-id-2 label.sk-toggleable__label-arrow:before {content: \"▸\";float: left;margin-right: 0.25em;color: #696969;}#sk-container-id-2 label.sk-toggleable__label-arrow:hover:before {color: black;}#sk-container-id-2 div.sk-estimator:hover label.sk-toggleable__label-arrow:before {color: black;}#sk-container-id-2 div.sk-toggleable__content {max-height: 0;max-width: 0;overflow: hidden;text-align: left;background-color: #f0f8ff;}#sk-container-id-2 div.sk-toggleable__content pre {margin: 0.2em;color: black;border-radius: 0.25em;background-color: #f0f8ff;}#sk-container-id-2 input.sk-toggleable__control:checked~div.sk-toggleable__content {max-height: 200px;max-width: 100%;overflow: auto;}#sk-container-id-2 input.sk-toggleable__control:checked~label.sk-toggleable__label-arrow:before {content: \"▾\";}#sk-container-id-2 div.sk-estimator input.sk-toggleable__control:checked~label.sk-toggleable__label {background-color: #d4ebff;}#sk-container-id-2 div.sk-label input.sk-toggleable__control:checked~label.sk-toggleable__label {background-color: #d4ebff;}#sk-container-id-2 input.sk-hidden--visually {border: 0;clip: rect(1px 1px 1px 1px);clip: rect(1px, 1px, 1px, 1px);height: 1px;margin: -1px;overflow: hidden;padding: 0;position: absolute;width: 1px;}#sk-container-id-2 div.sk-estimator {font-family: monospace;background-color: #f0f8ff;border: 1px dotted black;border-radius: 0.25em;box-sizing: border-box;margin-bottom: 0.5em;}#sk-container-id-2 div.sk-estimator:hover {background-color: #d4ebff;}#sk-container-id-2 div.sk-parallel-item::after {content: \"\";width: 100%;border-bottom: 1px solid gray;flex-grow: 1;}#sk-container-id-2 div.sk-label:hover label.sk-toggleable__label {background-color: #d4ebff;}#sk-container-id-2 div.sk-serial::before {content: \"\";position: absolute;border-left: 1px solid gray;box-sizing: border-box;top: 0;bottom: 0;left: 50%;z-index: 0;}#sk-container-id-2 div.sk-serial {display: flex;flex-direction: column;align-items: center;background-color: white;padding-right: 0.2em;padding-left: 0.2em;position: relative;}#sk-container-id-2 div.sk-item {position: relative;z-index: 1;}#sk-container-id-2 div.sk-parallel {display: flex;align-items: stretch;justify-content: center;background-color: white;position: relative;}#sk-container-id-2 div.sk-item::before, #sk-container-id-2 div.sk-parallel-item::before {content: \"\";position: absolute;border-left: 1px solid gray;box-sizing: border-box;top: 0;bottom: 0;left: 50%;z-index: -1;}#sk-container-id-2 div.sk-parallel-item {display: flex;flex-direction: column;z-index: 1;position: relative;background-color: white;}#sk-container-id-2 div.sk-parallel-item:first-child::after {align-self: flex-end;width: 50%;}#sk-container-id-2 div.sk-parallel-item:last-child::after {align-self: flex-start;width: 50%;}#sk-container-id-2 div.sk-parallel-item:only-child::after {width: 0;}#sk-container-id-2 div.sk-dashed-wrapped {border: 1px dashed gray;margin: 0 0.4em 0.5em 0.4em;box-sizing: border-box;padding-bottom: 0.4em;background-color: white;}#sk-container-id-2 div.sk-label label {font-family: monospace;font-weight: bold;display: inline-block;line-height: 1.2em;}#sk-container-id-2 div.sk-label-container {text-align: center;}#sk-container-id-2 div.sk-container {/* jupyter's `normalize.less` sets `[hidden] { display: none; }` but bootstrap.min.css set `[hidden] { display: none !important; }` so we also need the `!important` here to be able to override the default hidden behavior on the sphinx rendered scikit-learn.org. See: https://github.com/scikit-learn/scikit-learn/issues/21755 */display: inline-block !important;position: relative;}#sk-container-id-2 div.sk-text-repr-fallback {display: none;}</style><div id=\"sk-container-id-2\" class=\"sk-top-container\"><div class=\"sk-text-repr-fallback\"><pre>XGBClassifier(base_score=None, booster=None, callbacks=None,\n",
       "              colsample_bylevel=None, colsample_bynode=None,\n",
       "              colsample_bytree=None, early_stopping_rounds=None,\n",
       "              enable_categorical=False, eval_metric=None, feature_types=None,\n",
       "              gamma=None, gpu_id=None, grow_policy=None, importance_type=None,\n",
       "              interaction_constraints=None, learning_rate=0.1, max_bin=None,\n",
       "              max_cat_threshold=None, max_cat_to_onehot=None,\n",
       "              max_delta_step=None, max_depth=None, max_leaves=None,\n",
       "              min_child_weight=None, missing=nan, monotone_constraints=None,\n",
       "              n_estimators=500, n_jobs=None, num_parallel_tree=None,\n",
       "              objective=&#x27;multi:softprob&#x27;, predictor=None, ...)</pre><b>In a Jupyter environment, please rerun this cell to show the HTML representation or trust the notebook. <br />On GitHub, the HTML representation is unable to render, please try loading this page with nbviewer.org.</b></div><div class=\"sk-container\" hidden><div class=\"sk-item\"><div class=\"sk-estimator sk-toggleable\"><input class=\"sk-toggleable__control sk-hidden--visually\" id=\"sk-estimator-id-2\" type=\"checkbox\" checked><label for=\"sk-estimator-id-2\" class=\"sk-toggleable__label sk-toggleable__label-arrow\">XGBClassifier</label><div class=\"sk-toggleable__content\"><pre>XGBClassifier(base_score=None, booster=None, callbacks=None,\n",
       "              colsample_bylevel=None, colsample_bynode=None,\n",
       "              colsample_bytree=None, early_stopping_rounds=None,\n",
       "              enable_categorical=False, eval_metric=None, feature_types=None,\n",
       "              gamma=None, gpu_id=None, grow_policy=None, importance_type=None,\n",
       "              interaction_constraints=None, learning_rate=0.1, max_bin=None,\n",
       "              max_cat_threshold=None, max_cat_to_onehot=None,\n",
       "              max_delta_step=None, max_depth=None, max_leaves=None,\n",
       "              min_child_weight=None, missing=nan, monotone_constraints=None,\n",
       "              n_estimators=500, n_jobs=None, num_parallel_tree=None,\n",
       "              objective=&#x27;multi:softprob&#x27;, predictor=None, ...)</pre></div></div></div></div></div>"
      ],
      "text/plain": [
       "XGBClassifier(base_score=None, booster=None, callbacks=None,\n",
       "              colsample_bylevel=None, colsample_bynode=None,\n",
       "              colsample_bytree=None, early_stopping_rounds=None,\n",
       "              enable_categorical=False, eval_metric=None, feature_types=None,\n",
       "              gamma=None, gpu_id=None, grow_policy=None, importance_type=None,\n",
       "              interaction_constraints=None, learning_rate=0.1, max_bin=None,\n",
       "              max_cat_threshold=None, max_cat_to_onehot=None,\n",
       "              max_delta_step=None, max_depth=None, max_leaves=None,\n",
       "              min_child_weight=None, missing=nan, monotone_constraints=None,\n",
       "              n_estimators=500, n_jobs=None, num_parallel_tree=None,\n",
       "              objective='multi:softprob', predictor=None, ...)"
      ]
     },
     "execution_count": 42,
     "metadata": {},
     "output_type": "execute_result"
    }
   ],
   "source": [
    "xgb_model = XGBClassifier(n_estimators = 500, learning_rate = 0.1,verbosity = 1, random_state = RANDOM_STATE)\n",
    "xgb_model.fit(X_train,y_train, eval_set = [(X_test,y_test)], early_stopping_rounds = 10)"
   ]
  },
  {
   "cell_type": "code",
   "execution_count": 43,
   "metadata": {},
   "outputs": [
    {
     "data": {
      "text/plain": [
       "7"
      ]
     },
     "execution_count": 43,
     "metadata": {},
     "output_type": "execute_result"
    }
   ],
   "source": [
    "xgb_model.best_iteration"
   ]
  },
  {
   "cell_type": "code",
   "execution_count": 44,
   "metadata": {},
   "outputs": [
    {
     "name": "stdout",
     "output_type": "stream",
     "text": [
      "Metrics train:\n",
      "\tAccuracy score: 0.8093\n",
      "Metrics test:\n",
      "\tAccuracy score: 0.8093\n",
      "[0 1 2 3 4 5]\n"
     ]
    }
   ],
   "source": [
    "print(f\"Metrics train:\\n\\tAccuracy score: {accuracy_score(xgb_model.predict(X_train),y_train):.4f}\\nMetrics test:\\n\\tAccuracy score: {accuracy_score(xgb_model.predict(X_train),y_train):.4f}\")\n",
    "\n",
    "print(xgb_model.classes_)\n",
    "#print(xgb_model.classes_)"
   ]
  },
  {
   "attachments": {},
   "cell_type": "markdown",
   "metadata": {},
   "source": [
    "<b><font color='black' size=\"5\">Le modèle random Forest nous permet d'obtenir sur le jeu de test 80% de précision, c'est le meilleur score obtenu. On choisit donc cette méthode</font> </b>"
   ]
  }
 ],
 "metadata": {
  "kernelspec": {
   "display_name": "Python 3",
   "language": "python",
   "name": "python3"
  },
  "language_info": {
   "codemirror_mode": {
    "name": "ipython",
    "version": 3
   },
   "file_extension": ".py",
   "mimetype": "text/x-python",
   "name": "python",
   "nbconvert_exporter": "python",
   "pygments_lexer": "ipython3",
   "version": "3.8.10"
  },
  "orig_nbformat": 4
 },
 "nbformat": 4,
 "nbformat_minor": 2
}
