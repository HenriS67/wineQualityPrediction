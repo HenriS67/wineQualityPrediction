{
 "cells": [
  {
   "attachments": {},
   "cell_type": "markdown",
   "metadata": {},
   "source": [
    "2 MULTI-CLASSIFICATION avec Softmax"
   ]
  },
  {
   "attachments": {},
   "cell_type": "markdown",
   "metadata": {},
   "source": [
    "PREPARATION DES DONNEES:"
   ]
  },
  {
   "cell_type": "code",
   "execution_count": 1,
   "metadata": {},
   "outputs": [
    {
     "name": "stderr",
     "output_type": "stream",
     "text": [
      "/home/henri/.local/lib/python3.8/site-packages/pandas/core/series.py:726: RuntimeWarning: invalid value encountered in log\n",
      "  result = getattr(ufunc, method)(*inputs, **kwargs)\n"
     ]
    },
    {
     "name": "stdout",
     "output_type": "stream",
     "text": [
      "(1074, 10)\n",
      "(1074,)\n"
     ]
    },
    {
     "data": {
      "image/png": "[encoded data removed]",
      "text/plain": [
       "<Figure size 640x480 with 2 Axes>"
      ]
     },
     "metadata": {},
     "output_type": "display_data"
    }
   ],
   "source": [
    "import numpy as np\n",
    "import pandas as pd\n",
    "import matplotlib.pyplot as plt\n",
    "import random\n",
    "df = pd.read_csv('WineQT.csv')\n",
    "import numpy as np\n",
    "import matplotlib.pyplot as plt\n",
    "\n",
    "def plot_hists(df):\n",
    "    fig, ax = plt.subplots(nrows=3, ncols=4, figsize=(20, 15))\n",
    "    for n in range(12):\n",
    "        i = n % 3\n",
    "        j = n % 4\n",
    "        ax[i, j].hist(df.iloc[:, n], bins='auto')\n",
    "        ax[i, j].set_xlabel(df.columns[n])\n",
    "\n",
    "#On normalise : mettre entre 0 et 1\n",
    "def normalize(df, property, parameter):\n",
    "    df[property] = np.log(df[property] + parameter)\n",
    "\n",
    "\n",
    "normalize(df, \"fixed acidity\", -2.3)\n",
    "normalize(df, \"sulphates\", -0.24)\n",
    "normalize(df, \"total sulfur dioxide\", 5)\n",
    "normalize(df, \"residual sugar\", -1.1)\n",
    "normalize(df, \"chlorides\", -0.005)\n",
    "normalize(df, \"volatile acidity\", 2)\n",
    "normalize(df, \"free sulfur dioxide\", 2)\n",
    "#plot_hists(df)\n",
    "\n",
    "standardized = (df - df.mean()) / df.std()\n",
    "standardized = standardized[(np.abs(standardized) < 3).all(axis=1)]\n",
    "rows = np.setdiff1d(list(df.index), list(standardized.index))\n",
    "df.drop(index=rows, inplace=True)\n",
    "#plot_hists(df)\n",
    "\n",
    "import numpy as np\n",
    "import matplotlib.pyplot as plt\n",
    "\n",
    "#Préparation des données\n",
    "y = df['quality']\n",
    "X= [df['fixed acidity'],  df['volatile acidity']  ,df['citric acid']  ,df['residual sugar'],  df['chlorides'],df['free sulfur dioxide']  ,df['total sulfur dioxide'],  df['density']    ,df['pH'],  df['sulphates']]\n",
    "X=np.transpose(np.array(X))\n",
    "y=np.asarray(y)\n",
    "print(X.shape)\n",
    "print(y.shape)\n",
    "X_features = ['fixed acidity',  'volatile acidity'  ,'citric acid'  ,'residual sugar',  'chlorides','free sulfur dioxide'  ,'total sulfur dioxide',  'density'    ,'pH',  'sulphates']\n",
    "nb_feature=len(X_features)\n",
    "\n",
    "\n",
    "#on supprime aleatoirement des valeurs de notes 5 et 6 (diviser par 2)\n",
    "supp=[]\n",
    "for i in range(len(y)):\n",
    "    if y[i]==5 or y[i]==6:\n",
    "        rand=random.random()\n",
    "        if(rand>0.5):\n",
    "            supp.append(i)\n",
    "y2=np.delete(y,supp)\n",
    "\n",
    "X2=np.delete(X,supp,0)\n",
    "\n",
    "#Plot des modifications\n",
    "fig,ax=plt.subplots(1,2,sharey=True)\n",
    "ax[0].hist(y, bins='auto',label=\"quality\")\n",
    "ax[0].set_title(\"quality avant modification\")\n",
    "\n",
    "ax[1].hist(y2, bins='auto',label=\"quality\")\n",
    "ax[1].set_title(\"quality après modification\")\n",
    "\n",
    "#on créé les jeux de données\n",
    "from sklearn.model_selection import train_test_split\n",
    "X_train, X_tmp, y_train, y_tmp = train_test_split(X2, y2, test_size=0.4, random_state=42)\n",
    "X_cv, X_test, y_cv, y_test = train_test_split(X_tmp, y_tmp, test_size=0.5, random_state=42)\n",
    "\n",
    "def zscore_normalize_features(X):\n",
    "    mu     = np.mean(X, axis=0)                 # mu will have shape (n,)\n",
    "    # find the standard deviation of each column/feature\n",
    "    sigma  = np.std(X, axis=0)                  # sigma will have shape (n,)\n",
    "    # element-wise, subtract mu for that column from each example, divide by std for that column\n",
    "    X_norm = (X - mu) / sigma      \n",
    "\n",
    "    return (X_norm, mu, sigma)\n",
    "\n",
    " # normalize the original features\n",
    "X_train, X_mu, X_sigma = zscore_normalize_features(X_train)\n",
    "X_cv, X_mu, X_sigma = zscore_normalize_features(X_cv)\n",
    "X_test, X_mu, X_sigma = zscore_normalize_features(X_test)\n"
   ]
  },
  {
   "attachments": {},
   "cell_type": "markdown",
   "metadata": {},
   "source": [
    "METHODE : Nous allons cette fois utiliser une descente de gradient, mais à la place de trouver des coefficients d'une régression linéaire prédisant une valeur de qualité continue, nous allons trouver les coefficients de 9 fonctions pour chaque valeur de qualité ( entre 0 et 8 ). Ces fonctions donnent pour une observation une probabilité d'appartenir à cette qualité. Une prédiction d'une observation X est donc la probabilité maximale d'appartenance à une classe de qualité. L'erreur correspond à la proportion d'observations X mal classées."
   ]
  },
  {
   "attachments": {},
   "cell_type": "markdown",
   "metadata": {},
   "source": [
    "CODE :"
   ]
  },
  {
   "cell_type": "code",
   "execution_count": 2,
   "metadata": {},
   "outputs": [],
   "source": [
    "import copy\n",
    "import math\n",
    "\n",
    "def sigmoid(z):\n",
    "    \"\"\"\n",
    "    Compute the sigmoid of z\n",
    "\n",
    "    Args:\n",
    "        z (ndarray): A scalar, numpy array of any size.\n",
    "\n",
    "    Returns:\n",
    "        g (ndarray): sigmoid(z), with the same shape as z\n",
    "         \n",
    "    \"\"\"\n",
    "\n",
    "    g = 1/(1+np.exp(-z))\n",
    "   \n",
    "    return g\n",
    "    \n",
    "def compute_cost_softmax(X, y, W, B):\n",
    "    m, n = X.shape\n",
    "    #print(\"n\",n)\n",
    "    nb_f=W.shape[0]\n",
    "    #print(\"nf\",nb_f)\n",
    "   \n",
    "    loss_sum = 0 \n",
    "\n",
    "    \n",
    "  # on calcule tous les zj=fwb\n",
    "   # Loop over each training example\n",
    "    for i in range(m): \n",
    "      f_WB=np.zeros(nb_f)\n",
    "      # Loop over each class\n",
    "      for loop in range(nb_f):\n",
    "        z_wb = 0 \n",
    "       # Loop over each feature\n",
    "        for j in range(n): \n",
    "\n",
    "             z_wb_ij = W[loop,j]*X[i,j]\n",
    "             z_wb += z_wb_ij \n",
    "        z_wb += B[loop] \n",
    "\n",
    "        f_WB[loop] = np.exp(z_wb)#=e(Zij), #à diviser par sumezi pour avoir probabilité que y==loop\n",
    "      sumEzi=np.sum(f_WB)\n",
    "      #print(sumEzi)\n",
    "      loss_sum += np.log(f_WB[y[i]]/sumEzi) # on ajoute log(a_i) if y=i\n",
    "      \n",
    "    total_cost = -(1 / m) * loss_sum  #cost = -1/m(sum(sum{y==j}log(ezj/sum(ezk))))\n",
    "\n",
    "    return total_cost\n",
    "\n",
    "\n",
    "def compute_gradient_softmax(X, y, W, B): \n",
    "\n",
    "\n",
    "    m, n = X.shape\n",
    "    nb_f=W.shape[0]\n",
    "\n",
    "    dJ_DW = np.zeros((nb_f,n))                           #(n,)\n",
    "    dJ_DB = np.zeros((nb_f))\n",
    "\n",
    "    for i in range(m): \n",
    "      f_WB=np.zeros(nb_f)\n",
    "      # Loop over each class\n",
    "      for loop in range(nb_f):\n",
    "        z_wb = 0 \n",
    "       # Loop over each feature\n",
    "        for j in range(n): \n",
    "\n",
    "             z_wb_ij = W[loop,j]*X[i,j]\n",
    "             z_wb += z_wb_ij \n",
    "        z_wb += B[loop] \n",
    "        f_WB[loop] = np.exp(z_wb)#=e(Zij)\n",
    "\n",
    "      sumEzi=np.sum(f_WB) \n",
    "      f_WB=f_WB/sumEzi # tableau des probabilité que y==loop\n",
    "\n",
    "      #print(\"somme des f_WB : \",sum(f_WB))\n",
    "      #on calcule la dérivé\n",
    "      for loop in range(nb_f):\n",
    "        err_loop  = f_WB[loop]  - (loop==y[i])         #scalar, proba que y = loop  - (1 ou 0)(si y ==loop)\n",
    "        for j in range(n):\n",
    "            dJ_DW[loop,j] = dJ_DW[loop,j] + err_loop * X[i,j]      #scalar\n",
    "        #print(\"dJ_DW[loop,j]\",dJ_DW[loop,j])\n",
    "        dJ_DB[loop] = dJ_DB[loop] + err_loop\n",
    "    dJ_DW = dJ_DW/m                                   #(n,)\n",
    "    dJ_DB = dJ_DB/m                                   #scalar\n",
    "        \n",
    "    return dJ_DB, dJ_DW \n",
    "\n",
    "def gradient_descent_softmax(X, y, W_in, B_in, alpha, num_iters): \n",
    "\n",
    "    # An array to store cost J and w's at each iteration primarily for graphing later\n",
    "    J_history = []\n",
    "    W = copy.deepcopy(W_in)  #avoid modifying global w within function\n",
    "    B = B_in\n",
    "    m, n = X.shape\n",
    "    nb_f=W.shape[0]\n",
    "    \n",
    "    for i in range(num_iters):\n",
    "        # Calculate the gradient and update the parameters\n",
    "        dJ_DB, dJ_DW = compute_gradient_softmax(X, y, W, B)   \n",
    "\n",
    "        # Update Parameters using w, b, alpha and gradient\n",
    "        W = W - alpha * dJ_DW               \n",
    "        B = B - alpha * dJ_DB               \n",
    "      \n",
    "        # Save cost J at each iteration\n",
    "        if i<100000:      # prevent resource exhaustion \n",
    "            J_history.append( compute_cost_softmax(X, y, W, B) )\n",
    "\n",
    "        # Print cost every at intervals 10 times or as many iterations if < 10\n",
    "        if i% math.ceil(num_iters / 5) == 0:\n",
    "            \n",
    "            print(f\"Iteration {i:4d}: Cost {J_history[-1]}   \")\n",
    "            \n",
    "    return W, B, J_history         #return final w,b and J history for graphing "
   ]
  },
  {
   "attachments": {},
   "cell_type": "markdown",
   "metadata": {},
   "source": [
    "APPLICATION :"
   ]
  },
  {
   "attachments": {},
   "cell_type": "markdown",
   "metadata": {},
   "source": [
    "Choix de l'hyperparametre alpha entre alpha = {0.01;0.1;1}\n",
    "On va utiliser pour cela la cross validation en entraîant sur X_train et en testant sur X_cv"
   ]
  },
  {
   "cell_type": "code",
   "execution_count": 7,
   "metadata": {},
   "outputs": [
    {
     "name": "stdout",
     "output_type": "stream",
     "text": [
      "Iteration    0: Cost 2.4843163758563644   \n",
      "Iteration  400: Cost 1.482174029511714   \n",
      "Iteration  800: Cost 1.2462442035892285   \n",
      "Iteration 1200: Cost 1.1548402069288954   \n",
      "Iteration 1600: Cost 1.1062944170077342   \n",
      "Iteration    0: Cost 2.4424552264414383   \n",
      "Iteration  400: Cost 1.0132889702077512   \n",
      "Iteration  800: Cost 0.9799682121423916   \n",
      "Iteration 1200: Cost 0.9677841634503018   \n",
      "Iteration 1600: Cost 0.9610437941954085   \n",
      "Iteration    0: Cost 2.058860649278224   \n",
      "Iteration  400: Cost 0.9469709960508422   \n",
      "Iteration  800: Cost 0.9413999775927384   \n",
      "Iteration 1200: Cost 0.939231105787295   \n",
      "Iteration 1600: Cost 0.938045379404537   \n",
      "W_alpha1 =  [[ 0.02998063  0.10615956 -0.27880275  0.01191312 -0.20539767 -0.13033644\n",
      "  -0.00589727 -0.00680416 -0.13958837  0.11790825]\n",
      " [-0.0752136   0.08986021 -0.20726222  0.23527053 -0.36334896  0.12962421\n",
      "  -0.06058096  0.04655931 -0.28206452 -0.08989226]\n",
      " [ 0.21215108  0.34631873 -0.17588541  0.16862195  0.075031    0.33727115\n",
      "  -0.31604683 -0.42120519 -0.18556885  0.23705742]\n",
      " [-0.56942101  0.05038511  0.18223207 -0.01428231 -0.01487042 -0.15372565\n",
      "   0.16076516  0.16375792 -0.2578703   0.09667047]\n",
      " [ 0.37534696  0.62931389 -0.45612083  0.08019775 -0.22403765 -0.15982986\n",
      "   0.05808658 -0.15949401  0.22062599 -0.24626982]\n",
      " [-0.3684185   0.21206631 -0.14708188 -0.14942879  0.15328915 -0.39395392\n",
      "   0.7804783   0.48367137 -0.15798598 -0.79083042]\n",
      " [-0.08081785 -0.0630514  -0.14401434  0.01260092 -0.12410903 -0.01777083\n",
      "  -0.06192403  0.19103638  0.00387618  0.22932694]\n",
      " [ 0.44649759 -0.53941087  0.07600616  0.45218083 -0.30879808 -0.14384291\n",
      "  -0.02700534 -0.77456891  0.24567032  0.86485245]\n",
      " [ 0.1624731   0.06547575  0.20350059 -0.26584119 -0.43299122  0.10388554\n",
      "  -0.15065792  0.02281605  0.01410786  0.21041769]]  B_alpha1 =  [-0.36748835 -0.35140557 -0.39928249 -0.3608933   0.29936278  2.18958284\n",
      "  2.38823494  1.25979759 -0.15790843]\n",
      "W_alpha2 =  [[ 0.01510583  0.06097955 -0.2369113   0.10630067 -0.16159161 -0.05445503\n",
      "   0.11292355  0.01668015 -0.09922444  0.04643061]\n",
      " [-0.09378544  0.05457945 -0.19433084  0.19653329 -0.25153438  0.10289609\n",
      "   0.00427415  0.06406208 -0.20450693 -0.04607336]\n",
      " [ 0.17485552  0.24716067 -0.16020414  0.21222004 -0.03512559  0.2765797\n",
      "  -0.19422548 -0.30834113 -0.11048566  0.1304683 ]\n",
      " [-0.51549836  0.07327962  0.10011824  0.05009513 -0.06221172 -0.12360759\n",
      "   0.17936366  0.18403602 -0.2212413  -0.00592128]\n",
      " [ 0.67097739  0.75108231 -0.56895399 -0.14873161 -0.00094841  0.16430225\n",
      "  -0.44677964  0.12966539  0.72357938 -0.29466421]\n",
      " [-0.68222409 -0.00648584 -0.30689758 -0.19025547  0.15631307 -0.53000152\n",
      "   0.88017965  0.90805858 -0.16840504 -0.92400869]\n",
      " [ 0.00969503 -0.18201188 -0.42952734  0.11494872 -0.08194413  0.00162115\n",
      "  -0.00639572  0.22466186 -0.00288281  0.10743068]\n",
      " [ 0.56728021 -0.17619186  0.13699939  0.55291493 -0.33454617  0.29816396\n",
      "  -0.45710155 -0.85833694  0.32227907  0.84714251]\n",
      " [-0.0138277   0.07472525  0.71227894 -0.36279291 -0.67364398 -0.56417772\n",
      "   0.30497906 -0.81471725 -0.77790993  0.76843616]]  B_alpha2 =  [-1.31244763 -1.31202985 -1.37668858 -1.3193119   1.10125174  3.36285142\n",
      "  3.63804677  2.47330418 -0.75497615]\n",
      "W_alpha3 =  [[-0.0103913   0.07123477 -0.29026112  0.16582515 -0.12683126 -0.01926057\n",
      "   0.1418642   0.07888062 -0.0250145  -0.03040879]\n",
      " [-0.11549964  0.07369954 -0.26080427  0.20193258 -0.17466495  0.09778729\n",
      "   0.03444067  0.13027729 -0.10748591 -0.06442457]\n",
      " [ 0.13168631  0.22294922 -0.23163413  0.24511116 -0.07038447  0.24446732\n",
      "  -0.11166054 -0.1654924  -0.01630578  0.04247053]\n",
      " [-0.46572684  0.10048862 -0.0225807   0.10928403 -0.07350257 -0.07960552\n",
      "   0.16703763  0.25101324 -0.1521749  -0.08019175]\n",
      " [ 0.72770037  0.67610124 -0.84561544 -0.05967186 -0.0432796   0.60447819\n",
      "  -0.87621714  0.36857034  0.79706862 -0.33697228]\n",
      " [-0.73856126 -0.02452797 -0.55662509 -0.11660403  0.12650055 -0.24612763\n",
      "   0.60328084  1.16179792 -0.14763159 -0.95095395]\n",
      " [-0.05337179 -0.18890036 -0.66932189  0.18494277 -0.10381407  0.26930492\n",
      "  -0.26483673  0.47838094  0.01602179  0.06465259]\n",
      " [ 0.47180776 -0.16837761 -0.09514937  0.60752761 -0.35020233  0.54615706\n",
      "  -0.69790061 -0.58939086  0.31499444  0.79124431]\n",
      " [ 0.18493478  0.13444982  2.02456339 -0.80711461 -0.62905418 -1.84587977\n",
      "   1.38120935 -2.16826833 -1.21826983  1.19382463]]  B_alpha3 =  [-2.2987201  -2.30067213 -2.35730711 -2.32077955  2.58999208  4.80910958\n",
      "  5.0768996   3.9462791  -2.64480147]\n"
     ]
    }
   ],
   "source": [
    "nbClasses=9\n",
    "np.random.seed(1)\n",
    "initial_W = np.random.rand(nbClasses,X_train.shape[1]) - 0.5\n",
    "initial_B = np.ones(nbClasses)*0.5\n",
    "\n",
    "# Gradient descent settings\n",
    "iterations = 2000\n",
    "alpha1 = 0.01 ; alpha2=0.1 ; alpha3=1\n",
    "\n",
    "W,B, J_history = gradient_descent_softmax(X_train, y_train, initial_W, initial_B, alpha1, iterations)\n",
    "W2,B2, J_history2 = gradient_descent_softmax(X_train, y_train, initial_W, initial_B, alpha2, iterations)\n",
    "W3,B3, J_history3 = gradient_descent_softmax(X_train, y_train, initial_W, initial_B, alpha3, iterations)\n",
    "\n",
    "print(\"W_alpha1 = \",W, \" B_alpha1 = \",B)\n",
    "print(\"W_alpha2 = \",W2, \" B_alpha2 = \",B2)\n",
    "print(\"W_alpha3 = \",W3, \" B_alpha3 = \",B3)"
   ]
  },
  {
   "cell_type": "code",
   "execution_count": 4,
   "metadata": {},
   "outputs": [],
   "source": [
    "def locateMax(tab):\n",
    "    max=0\n",
    "    for loop in range(len(tab)):\n",
    "        if tab[loop]>tab[max]:\n",
    "            max=loop\n",
    "    return max"
   ]
  },
  {
   "cell_type": "code",
   "execution_count": 8,
   "metadata": {},
   "outputs": [],
   "source": [
    "def predict_accuracy(X,y,W,B):\n",
    "    yp = np.zeros(len(X))\n",
    "    for loop in range(len(X)):\n",
    "        tabProbas=np.dot(W,X[loop])+B\n",
    "        tabProbas=sigmoid(tabProbas)\n",
    "        tabProbas=tabProbas/np.sum(tabProbas)\n",
    "        yp[loop]=locateMax(tabProbas)\n",
    "    \n",
    "    sum=0\n",
    "    for loop in range(len(yp)):\n",
    "        if(yp[loop] == y[loop]):\n",
    "            sum+=1\n",
    "    print('Train Accuracy (%) : ',(sum/len(yp))*100)\n",
    "    "
   ]
  },
  {
   "cell_type": "code",
   "execution_count": 10,
   "metadata": {},
   "outputs": [
    {
     "name": "stdout",
     "output_type": "stream",
     "text": [
      "predictions sur le jeu d'entrainemnt\n",
      "Train Accuracy (%) :  57.67195767195767\n",
      "Train Accuracy (%) :  56.87830687830689\n",
      "Train Accuracy (%) :  57.14285714285714\n",
      "predictions sur le jeu cv\n",
      "Train Accuracy (%) :  50.79365079365079\n",
      "Train Accuracy (%) :  50.79365079365079\n",
      "Train Accuracy (%) :  50.79365079365079\n",
      "predictions sur le jeu de test\n",
      "Train Accuracy (%) :  53.96825396825397\n",
      "Train Accuracy (%) :  53.96825396825397\n",
      "Train Accuracy (%) :  52.38095238095239\n"
     ]
    }
   ],
   "source": [
    "print(\"predictions sur le jeu d'entrainemnt\")\n",
    "predict_accuracy(X_train,y_train,W,B)\n",
    "predict_accuracy(X_train,y_train,W2,B2)\n",
    "predict_accuracy(X_train,y_train,W3,B3)\n",
    "\n",
    "print(\"predictions sur le jeu cv\")\n",
    "predict_accuracy(X_cv,y_cv,W,B)\n",
    "predict_accuracy(X_cv,y_cv,W2,B2)\n",
    "predict_accuracy(X_cv,y_cv,W3,B3)\n",
    "\n",
    "print(\"predictions sur le jeu de test\")\n",
    "predict_accuracy(X_test,y_test,W,B)\n",
    "predict_accuracy(X_test,y_test,W2,B2)\n",
    "predict_accuracy(X_test,y_test,W3,B3)"
   ]
  },
  {
   "attachments": {},
   "cell_type": "markdown",
   "metadata": {},
   "source": [
    "On ne prédit parfaitement la note que pour 49% des observations pour notre meilleur alpha.\n",
    "Calculons l'erreur du modèle sur la note.  "
   ]
  },
  {
   "cell_type": "code",
   "execution_count": 12,
   "metadata": {},
   "outputs": [],
   "source": [
    "def compute_cost(X,y,W,B):\n",
    "    m=len(X)\n",
    "    yp = np.zeros(m)\n",
    "    for loop in range(m):\n",
    "        tabProbas=np.dot(W,X[loop])+B\n",
    "        tabProbas=sigmoid(tabProbas)\n",
    "        tabProbas=tabProbas/np.sum(tabProbas)\n",
    "        yp[loop]=locateMax(tabProbas)\n",
    "    \n",
    "    cost = 0.0\n",
    "    for i in range(m):                                \n",
    "        cost = cost + (y[i] - yp[i])**2        #scalar\n",
    "    cost = cost / (2 * len(X))                 #scalar    \n",
    "    return cost\n"
   ]
  },
  {
   "cell_type": "code",
   "execution_count": 13,
   "metadata": {},
   "outputs": [
    {
     "data": {
      "text/plain": [
       "0.2896825396825397"
      ]
     },
     "execution_count": 13,
     "metadata": {},
     "output_type": "execute_result"
    }
   ],
   "source": [
    "compute_cost(X_test, y_test, W, B)"
   ]
  },
  {
   "attachments": {},
   "cell_type": "markdown",
   "metadata": {},
   "source": [
    "Le côut est plus élevé que pour la Regression linéaire. Un problème avec la méthode softmax est qu'elle ne fait que de la multi-classification. Pour la qualité du vin, l'importance de l'erreur sur la note doit être prise en compte. C'est le cas dans la regression polynômiale mais pas dans le Softmax (il faudrait changer la méthode de calcul du cout et du gradient). "
   ]
  },
  {
   "attachments": {},
   "cell_type": "markdown",
   "metadata": {},
   "source": [
    "Visualisation du résultat sur le jeu de test"
   ]
  },
  {
   "cell_type": "code",
   "execution_count": 14,
   "metadata": {},
   "outputs": [
    {
     "name": "stdout",
     "output_type": "stream",
     "text": [
      "[-0.26543644  0.22331012 -0.91343632  0.37202347  1.61392296  0.21672234\n",
      "  0.44556875  0.28921786 -0.62551511  0.17755786]\n",
      "1.0\n",
      "[0.08282363 0.07814757 0.09684344 0.09359955 0.10951211 0.19090459\n",
      " 0.18345746 0.11763434 0.04707732]\n",
      "largest value 0.19090458944201769 smallest value 0.047077316978753544\n",
      "position du max :  5\n",
      "valeur réelle:  6\n"
     ]
    }
   ],
   "source": [
    "x_test = X_test[50]  \n",
    "print(x_test)\n",
    "\n",
    "tabProbas=np.dot(W,x_test)+B\n",
    "tabProbas=sigmoid(tabProbas)\n",
    "tabProbas=tabProbas/np.sum(tabProbas)\n",
    "print(np.sum(tabProbas))\n",
    "print(tabProbas)\n",
    "\n",
    "print(\"largest value\", np.max(tabProbas), \"smallest value\", np.min(tabProbas))\n",
    "print(\"position du max : \",locateMax(tabProbas))\n",
    "print(\"valeur réelle: \",y_test[50])\n"
   ]
  },
  {
   "cell_type": "code",
   "execution_count": 15,
   "metadata": {},
   "outputs": [
    {
     "data": {
      "image/png": "[encoded data removed]",
      "text/plain": [
       "<Figure size 2000x300 with 10 Axes>"
      ]
     },
     "metadata": {},
     "output_type": "display_data"
    },
    {
     "name": "stdout",
     "output_type": "stream",
     "text": [
      "[5. 7. 5. 6. 6. 6. 7. 5. 5. 5. 5. 6. 6. 7. 5. 6. 5. 5. 5. 7. 5. 7. 6. 7.\n",
      " 5. 5. 7. 7. 5. 6. 5. 5. 5. 6. 5. 6. 7. 6. 6. 7. 7. 5. 5. 6. 6. 4. 5. 5.\n",
      " 5. 5. 5. 7. 5. 6. 6. 6. 6. 7. 7. 5. 7. 5. 5. 5. 7. 6. 5. 7. 5. 5. 7. 5.\n",
      " 6. 7. 7. 6. 6. 6. 6. 6. 6. 5. 7. 7. 5. 5. 5. 5. 5. 6. 5. 5. 5. 5. 6. 7.\n",
      " 6. 7. 5. 7. 7. 5. 5. 5. 5. 5. 5. 6. 6. 6. 5. 7. 7. 6. 5. 6. 7. 7. 6. 5.\n",
      " 5. 5. 7. 5. 6. 5.]\n",
      "[5 5 5 5 5 6 6 5 6 6 6 7 7 7 6 5 5 6 5 7 5 7 6 7 5 6 7 6 6 6 6 5 6 7 7 5 7\n",
      " 6 7 7 6 6 5 5 6 4 5 5 5 6 6 7 6 5 5 6 6 7 7 4 7 5 5 5 7 6 5 6 5 4 7 5 6 5\n",
      " 6 5 7 6 5 7 5 5 6 7 6 5 5 5 5 5 5 5 5 5 6 6 5 7 5 8 8 6 5 6 5 6 5 6 6 7 7\n",
      " 6 7 5 5 6 8 7 4 5 5 5 6 5 7 6]\n"
     ]
    }
   ],
   "source": [
    "#predict target using normalized features\n",
    "m = X_test.shape[0]\n",
    "yp = np.zeros(m)\n",
    "for loop in range(len(X_test)):\n",
    "    tabProbas=np.dot(W,X_test[loop])+B\n",
    "    tabProbas=sigmoid(tabProbas)\n",
    "    tabProbas=tabProbas/np.sum(tabProbas)\n",
    "    yp[loop]=locateMax(tabProbas)\n",
    "\n",
    "    # plot predictions and targets versus original features    \n",
    "fig,ax=plt.subplots(1,nb_feature,figsize=(20, 3),sharey=True)\n",
    "for i in range(len(ax)):\n",
    "    ax[i].scatter([X_test[:,i]],y_test, label = 'target')\n",
    "    ax[i].set_xlabel(X_features[i])\n",
    "    ax[i].scatter([X_test[:,i]],yp,color=\"orange\", label = 'predict')\n",
    "ax[0].set_ylabel(\"Quality\"); ax[0].legend()\n",
    "fig.suptitle(\"target versus prediction using Softmax model\")\n",
    "plt.show()\n",
    "print(yp)\n",
    "print(y_test)\n"
   ]
  },
  {
   "attachments": {},
   "cell_type": "markdown",
   "metadata": {},
   "source": [
    "On a aussi du mal a prédire les notes hautes et basses.\n",
    "Pour avoir une autre approche que la régression ou la multiclassification, nous allons utiliser un réseau de Neurones. Le réseau de neurones va calculer comme pour Softmax une probabilité d'appartenance à une qualité en fonction de l'observation X, mais après plusieurs couches de transformation des données. "
   ]
  }
 ],
 "metadata": {
  "kernelspec": {
   "display_name": "base",
   "language": "python",
   "name": "python3"
  },
  "language_info": {
   "codemirror_mode": {
    "name": "ipython",
    "version": 3
   },
   "file_extension": ".py",
   "mimetype": "text/x-python",
   "name": "python",
   "nbconvert_exporter": "python",
   "pygments_lexer": "ipython3",
   "version": "3.8.10"
  },
  "orig_nbformat": 4,
  "vscode": {
   "interpreter": {
    "hash": "e4cce46d6be9934fbd27f9ca0432556941ea5bdf741d4f4d64c6cd7f8dfa8fba"
   }
  }
 },
 "nbformat": 4,
 "nbformat_minor": 2
}
