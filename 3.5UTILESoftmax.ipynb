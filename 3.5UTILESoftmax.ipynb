{
 "cells": [
  {
   "attachments": {},
   "cell_type": "markdown",
   "metadata": {},
   "source": [
    "2 MULTI-CLASSIFICATION avec Softmax"
   ]
  },
  {
   "attachments": {},
   "cell_type": "markdown",
   "metadata": {},
   "source": [
    "PREPARATION DES DONNEES:"
   ]
  },
  {
   "cell_type": "code",
   "execution_count": 41,
   "metadata": {},
   "outputs": [
    {
     "name": "stderr",
     "output_type": "stream",
     "text": [
      "/home/henri/.local/lib/python3.8/site-packages/pandas/core/series.py:726: RuntimeWarning: invalid value encountered in log\n",
      "  result = getattr(ufunc, method)(*inputs, **kwargs)\n"
     ]
    },
    {
     "name": "stdout",
     "output_type": "stream",
     "text": [
      "(1074, 10)\n",
      "(1074,)\n"
     ]
    },
    {
     "data": {
      "image/png": "[encoded data removed]",
      "text/plain": [
       "<Figure size 640x480 with 2 Axes>"
      ]
     },
     "metadata": {},
     "output_type": "display_data"
    }
   ],
   "source": [
    "import numpy as np\n",
    "import pandas as pd\n",
    "import matplotlib.pyplot as plt\n",
    "import random\n",
    "df = pd.read_csv('WineQT.csv')\n",
    "import numpy as np\n",
    "import matplotlib.pyplot as plt\n",
    "\n",
    "def plot_hists(df):\n",
    "    fig, ax = plt.subplots(nrows=3, ncols=4, figsize=(20, 15))\n",
    "    for n in range(12):\n",
    "        i = n % 3\n",
    "        j = n % 4\n",
    "        ax[i, j].hist(df.iloc[:, n], bins='auto')\n",
    "        ax[i, j].set_xlabel(df.columns[n])\n",
    "\n",
    "#On normalise : mettre entre 0 et 1\n",
    "def normalize(df, property, parameter):\n",
    "    df[property] = np.log(df[property] + parameter)\n",
    "\n",
    "\n",
    "normalize(df, \"fixed acidity\", -2.3)\n",
    "normalize(df, \"sulphates\", -0.24)\n",
    "normalize(df, \"total sulfur dioxide\", 5)\n",
    "normalize(df, \"residual sugar\", -1.1)\n",
    "normalize(df, \"chlorides\", -0.005)\n",
    "normalize(df, \"volatile acidity\", 2)\n",
    "normalize(df, \"free sulfur dioxide\", 2)\n",
    "#plot_hists(df)\n",
    "\n",
    "standardized = (df - df.mean()) / df.std()\n",
    "standardized = standardized[(np.abs(standardized) < 3).all(axis=1)]\n",
    "rows = np.setdiff1d(list(df.index), list(standardized.index))\n",
    "df.drop(index=rows, inplace=True)\n",
    "#plot_hists(df)\n",
    "\n",
    "import numpy as np\n",
    "import matplotlib.pyplot as plt\n",
    "\n",
    "#Préparation des données\n",
    "y = df['quality']\n",
    "X= [df['fixed acidity'],  df['volatile acidity']  ,df['citric acid']  ,df['residual sugar'],  df['chlorides'],df['free sulfur dioxide']  ,df['total sulfur dioxide'],  df['density']    ,df['pH'],  df['sulphates']]\n",
    "X=np.transpose(np.array(X))\n",
    "y=np.asarray(y)\n",
    "print(X.shape)\n",
    "print(y.shape)\n",
    "X_features = ['fixed acidity',  'volatile acidity'  ,'citric acid'  ,'residual sugar',  'chlorides','free sulfur dioxide'  ,'total sulfur dioxide',  'density'    ,'pH',  'sulphates']\n",
    "nb_feature=len(X_features)\n",
    "\n",
    "\n",
    "#on supprime aleatoirement des valeurs de notes 5 et 6 (diviser par 2)\n",
    "supp=[]\n",
    "for i in range(len(y)):\n",
    "    if y[i]==5 or y[i]==6:\n",
    "        rand=random.random()\n",
    "        if(rand>0.5):\n",
    "            supp.append(i)\n",
    "y2=np.delete(y,supp)\n",
    "\n",
    "X2=np.delete(X,supp,0)\n",
    "\n",
    "#Plot des modifications\n",
    "fig,ax=plt.subplots(1,2,sharey=True)\n",
    "ax[0].hist(y, bins='auto',label=\"quality\")\n",
    "ax[0].set_title(\"quality avant modification\")\n",
    "\n",
    "ax[1].hist(y2, bins='auto',label=\"quality\")\n",
    "ax[1].set_title(\"quality après modification\")\n",
    "\n",
    "#on créé les jeux de données\n",
    "from sklearn.model_selection import train_test_split\n",
    "X_train, X_tmp, y_train, y_tmp = train_test_split(X2, y2, test_size=0.4, random_state=42)\n",
    "X_cv, X_test, y_cv, y_test = train_test_split(X_tmp, y_tmp, test_size=0.5, random_state=42)\n"
   ]
  },
  {
   "attachments": {},
   "cell_type": "markdown",
   "metadata": {},
   "source": [
    "METHODE : Nous allons cette fois utiliser une descente de gradient, mais à la place de trouver des coefficients d'une régression linéaire prédisant une valeur de qualité continue, nous allons trouver les coefficients de 9 fonctions pour chaque valeur de qualité ( entre 0 et 8 ). Ces fonctions donnent pour une observation une probabilité d'appartenir à cette qualité. Une prédiction d'une observation X est donc la probabilité maximale d'appartenance à une classe de qualité. L'erreur correspond à la proportion d'observations X mal classées."
   ]
  },
  {
   "attachments": {},
   "cell_type": "markdown",
   "metadata": {},
   "source": [
    "CODE :"
   ]
  },
  {
   "cell_type": "code",
   "execution_count": 42,
   "metadata": {},
   "outputs": [],
   "source": [
    "import copy\n",
    "import math\n",
    "\n",
    "def sigmoid(z):\n",
    "    \"\"\"\n",
    "    Compute the sigmoid of z\n",
    "\n",
    "    Args:\n",
    "        z (ndarray): A scalar, numpy array of any size.\n",
    "\n",
    "    Returns:\n",
    "        g (ndarray): sigmoid(z), with the same shape as z\n",
    "         \n",
    "    \"\"\"\n",
    "\n",
    "    g = 1/(1+np.exp(-z))\n",
    "   \n",
    "    return g\n",
    "    \n",
    "def compute_cost_softmax(X, y, W, B):\n",
    "    m, n = X.shape\n",
    "    #print(\"n\",n)\n",
    "    nb_f=W.shape[0]\n",
    "    #print(\"nf\",nb_f)\n",
    "   \n",
    "    loss_sum = 0 \n",
    "\n",
    "    \n",
    "  # on calcule tous les zj=fwb\n",
    "   # Loop over each training example\n",
    "    for i in range(m): \n",
    "      f_WB=np.zeros(nb_f)\n",
    "      # Loop over each class\n",
    "      for loop in range(nb_f):\n",
    "        z_wb = 0 \n",
    "       # Loop over each feature\n",
    "        for j in range(n): \n",
    "\n",
    "             z_wb_ij = W[loop,j]*X[i,j]\n",
    "             z_wb += z_wb_ij \n",
    "        z_wb += B[loop] \n",
    "\n",
    "        f_WB[loop] = np.exp(z_wb)#=e(Zij), #à diviser par sumezi pour avoir probabilité que y==loop\n",
    "      sumEzi=np.sum(f_WB)\n",
    "      #print(sumEzi)\n",
    "      loss_sum += np.log(f_WB[y[i]]/sumEzi) # on ajoute log(a_i) if y=i\n",
    "      \n",
    "    total_cost = -(1 / m) * loss_sum  #cost = -1/m(sum(sum{y==j}log(ezj/sum(ezk))))\n",
    "\n",
    "    return total_cost\n",
    "\n",
    "\n",
    "def compute_gradient_softmax(X, y, W, B): \n",
    "\n",
    "\n",
    "    m, n = X.shape\n",
    "    nb_f=W.shape[0]\n",
    "\n",
    "    dJ_DW = np.zeros((nb_f,n))                           #(n,)\n",
    "    dJ_DB = np.zeros((nb_f))\n",
    "\n",
    "    for i in range(m): \n",
    "      f_WB=np.zeros(nb_f)\n",
    "      # Loop over each class\n",
    "      for loop in range(nb_f):\n",
    "        z_wb = 0 \n",
    "       # Loop over each feature\n",
    "        for j in range(n): \n",
    "\n",
    "             z_wb_ij = W[loop,j]*X[i,j]\n",
    "             z_wb += z_wb_ij \n",
    "        z_wb += B[loop] \n",
    "        f_WB[loop] = np.exp(z_wb)#=e(Zij)\n",
    "\n",
    "      sumEzi=np.sum(f_WB) \n",
    "      f_WB=f_WB/sumEzi # tableau des probabilité que y==loop\n",
    "\n",
    "      #print(\"somme des f_WB : \",sum(f_WB))\n",
    "      #on calcule la dérivé\n",
    "      for loop in range(nb_f):\n",
    "        err_loop  = f_WB[loop]  - (loop==y[i])         #scalar, proba que y = loop  - (1 ou 0)(si y ==loop)\n",
    "        for j in range(n):\n",
    "            dJ_DW[loop,j] = dJ_DW[loop,j] + err_loop * X[i,j]      #scalar\n",
    "        #print(\"dJ_DW[loop,j]\",dJ_DW[loop,j])\n",
    "        dJ_DB[loop] = dJ_DB[loop] + err_loop\n",
    "    dJ_DW = dJ_DW/m                                   #(n,)\n",
    "    dJ_DB = dJ_DB/m                                   #scalar\n",
    "        \n",
    "    return dJ_DB, dJ_DW \n",
    "\n",
    "def gradient_descent_softmax(X, y, W_in, B_in, alpha, num_iters): \n",
    "\n",
    "    # An array to store cost J and w's at each iteration primarily for graphing later\n",
    "    J_history = []\n",
    "    W = copy.deepcopy(W_in)  #avoid modifying global w within function\n",
    "    B = B_in\n",
    "    m, n = X.shape\n",
    "    nb_f=W.shape[0]\n",
    "    \n",
    "    for i in range(num_iters):\n",
    "        # Calculate the gradient and update the parameters\n",
    "        dJ_DB, dJ_DW = compute_gradient_softmax(X, y, W, B)   \n",
    "\n",
    "        # Update Parameters using w, b, alpha and gradient\n",
    "        W = W - alpha * dJ_DW               \n",
    "        B = B - alpha * dJ_DB               \n",
    "      \n",
    "        # Save cost J at each iteration\n",
    "        if i<100000:      # prevent resource exhaustion \n",
    "            J_history.append( compute_cost_softmax(X, y, W, B) )\n",
    "\n",
    "        # Print cost every at intervals 10 times or as many iterations if < 10\n",
    "        if i% math.ceil(num_iters / 5) == 0:\n",
    "            \n",
    "            print(f\"Iteration {i:4d}: Cost {J_history[-1]}   \")\n",
    "            \n",
    "    return W, B, J_history         #return final w,b and J history for graphing "
   ]
  },
  {
   "attachments": {},
   "cell_type": "markdown",
   "metadata": {},
   "source": [
    "APPLICATION :"
   ]
  },
  {
   "attachments": {},
   "cell_type": "markdown",
   "metadata": {},
   "source": [
    "Choix de l'hyperparametre alpha entre alpha = {0.01;0.1;1}\n",
    "On va utiliser pour cela la cross validation en entraîant sur X_train et en testant sur X_cv"
   ]
  },
  {
   "cell_type": "code",
   "execution_count": 43,
   "metadata": {},
   "outputs": [
    {
     "name": "stdout",
     "output_type": "stream",
     "text": [
      "Iteration    0: Cost 3.1443088540994824   \n",
      "Iteration  200: Cost 1.3223472497414896   \n",
      "Iteration  400: Cost 1.29823940121728   \n",
      "Iteration  600: Cost 1.279311585627913   \n",
      "Iteration  800: Cost 1.2633577938613385   \n",
      "Iteration    0: Cost 2.225247824388585   \n",
      "Iteration  200: Cost 1.1994820534689488   \n",
      "Iteration  400: Cost 1.147482084101223   \n",
      "Iteration  600: Cost 1.1209691041472316   \n",
      "Iteration  800: Cost 1.1050734627826262   \n",
      "Iteration    0: Cost 4.941225185729022   \n",
      "Iteration  200: Cost 9.17072779537021   \n",
      "Iteration  400: Cost 11.161707528548545   \n",
      "Iteration  600: Cost 8.5663276066102   \n",
      "Iteration  800: Cost 8.393041334648622   \n",
      "W_alpha1 =  [[-0.11163247  0.20549396 -0.50405812 -0.19771849 -0.31077309 -0.44679241\n",
      "  -0.36810467 -0.17051287 -0.15651844  0.05414941]\n",
      " [-0.18060057  0.13363465 -0.31088544  0.36559674 -0.32628283  0.02356858\n",
      "  -0.28203405  0.00291552 -0.54442089 -0.24779178]\n",
      " [ 0.28130074  0.45856514 -0.18984079  0.19030976  0.40369106  0.36663601\n",
      "  -0.45267508 -0.47151244 -0.36497671  0.38759445]\n",
      " [-0.41947554 -0.08785621  0.45484929  0.03182827  0.21734465 -0.21020802\n",
      "   0.15118286  0.32483461 -0.51400408  0.25896134]\n",
      " [ 0.33593823  0.26707912 -0.32632955  0.14012797 -0.37330596 -0.12159695\n",
      "   0.2370337  -0.23427177 -0.23028615 -0.43481439]\n",
      " [-0.2705079   0.31775603 -0.2959308  -0.04253707  0.01950729 -0.2018683\n",
      "   0.84287143 -0.26495173  0.34145824 -0.28522302]\n",
      " [-0.28108773 -0.05033818  0.14399283 -0.08206731 -0.45759215  0.14638674\n",
      "   0.17148347  0.04674012  0.50859184  0.04699172]\n",
      " [ 0.46376814 -0.42212996 -0.19492348  0.30856192 -0.46101069 -0.20048395\n",
      "   0.3387848  -0.107382    0.43257421  0.63244692]\n",
      " [ 0.31487549  0.07491272  0.27569744 -0.18286898 -0.15681117  0.21567959\n",
      "  -0.26132478  0.41990932 -0.01121567  0.21692608]]  B_alpha1 =  [0.48386917 0.44403941 0.48939964 0.49017723 0.47235339 0.58624737\n",
      " 0.53148043 0.54726538 0.45516799]\n",
      "W_alpha2 =  [[-0.15744355  0.1816948  -0.51059039 -0.19676798 -0.2425188  -0.50786585\n",
      "  -0.45332834 -0.19630933 -0.24210594  0.07883208]\n",
      " [-0.24186538  0.10206608 -0.32023371  0.35941173 -0.23644717 -0.06209437\n",
      "  -0.39927555 -0.03129643 -0.65773957 -0.21452902]\n",
      " [ 0.24500757  0.44041167 -0.19583743  0.187414    0.45492234  0.31568079\n",
      "  -0.5216597  -0.49131    -0.43023017  0.40540598]\n",
      " [-0.45387339 -0.10519242  0.44907404  0.03003829  0.26676348 -0.25863194\n",
      "   0.08455515  0.30587631 -0.57658036  0.2760562 ]\n",
      " [-0.25174616  0.58550215 -0.90550427 -0.21234807 -0.50648354  0.08854385\n",
      "   0.0348294  -0.27134651  0.13742389 -0.98652855]\n",
      " [-0.03162718  0.56836032 -0.43438485  0.03708311  1.06396293 -0.82320917\n",
      "   1.87867504 -0.25155455  0.24164704 -1.50559026]\n",
      " [ 0.24021515  0.05825973 -0.24920761  0.04909505 -0.22098631  0.39102763\n",
      "   0.19281913  0.12860639  0.42384207 -0.04145469]\n",
      " [ 0.2825641  -0.99431155  0.60228448  0.55068456 -1.39745798  0.44273193\n",
      "  -0.29605577 -0.11277845  0.65031322  2.0101727 ]\n",
      " [ 0.50134726  0.0603265   0.61697113 -0.27337791 -0.62698784 -0.01486158\n",
      "  -0.14334167  0.46588132 -0.08536785  0.60687627]]  B_alpha2 =  [0.45797876 0.40970987 0.46953802 0.47115574 0.43560975 0.58436112\n",
      " 0.61022911 0.55804388 0.50337374]\n",
      "W_alpha3 =  [[-1.25351293e-01  1.98905186e-01 -5.06826329e-01 -1.98097960e-01\n",
      "  -2.89264025e-01 -4.63506178e-01 -3.90824673e-01 -1.78161140e-01\n",
      "  -1.81912964e-01  5.85828736e-02]\n",
      " [-2.02116159e-01  1.23338966e-01 -3.15492734e-01  3.63026970e-01\n",
      "  -2.91614480e-01 -2.29306757e-03 -3.16942861e-01 -9.20420673e-03\n",
      "  -5.84903690e-01 -2.41836791e-01]\n",
      " [ 2.71556787e-01  4.54086765e-01 -1.91962346e-01  1.89411618e-01\n",
      "   4.18052608e-01  3.54550097e-01 -4.68704817e-01 -4.76732901e-01\n",
      "  -3.82171256e-01  3.90407405e-01]\n",
      " [-4.28115001e-01 -9.18605496e-02  4.52965948e-01  3.12703265e-02\n",
      "   2.30364012e-01 -2.20948647e-01  1.36983701e-01  3.20143363e-01\n",
      "  -5.29508785e-01  2.61452585e-01]\n",
      " [-2.13486190e+00  2.93202923e+00 -3.84061904e+00 -5.96151029e-01\n",
      "   1.03200593e+00 -2.23102327e-01 -4.06042823e-01 -9.75017753e-01\n",
      "   3.52628052e-01 -5.05302501e+00]\n",
      " [-1.31767136e+00  2.54277911e+00 -2.40979733e+00 -5.67008200e-01\n",
      "   9.24910337e+00 -7.31981107e+00  9.96927636e+00 -5.71256899e-01\n",
      "  -9.80587466e-01 -9.30512344e+00]\n",
      " [ 3.40089145e+00  8.89144809e-01 -4.13753399e+00 -9.65486504e-01\n",
      "  -1.13426688e+00  5.60900689e+00 -4.13601190e+00  1.15245557e+00\n",
      "   1.60874589e+00  9.30792118e-01]\n",
      " [-6.27183675e-02 -6.25631310e+00  7.35304141e+00  3.02746736e+00\n",
      "  -7.99478902e+00  3.51551712e+00 -4.71523068e+00 -2.94693604e-01\n",
      "   1.63184417e+00  1.17979881e+01]\n",
      " [ 7.30964246e-01  1.05006865e-01  2.64879579e+00 -7.53199787e-01\n",
      "  -2.66482441e+00 -1.67809152e+00  7.04715369e-01  5.78236325e-01\n",
      "  -1.47293161e+00  1.79000283e+00]]  B_alpha3 =  [ 0.47618772  0.43186413  0.48415832  0.48546653 -0.28891571  0.13251978\n",
      "  1.62399456  0.51881409  0.63591058]\n"
     ]
    }
   ],
   "source": [
    "nbClasses=9\n",
    "np.random.seed(1)\n",
    "initial_W = np.random.rand(nbClasses,X_train.shape[1]) - 0.5\n",
    "initial_B = np.ones(nbClasses)*0.5\n",
    "\n",
    "# Gradient descent settings\n",
    "iterations = 1000\n",
    "alpha1 = 0.01 ; alpha2=0.1 ; alpha3=1\n",
    "\n",
    "W,B, J_history = gradient_descent_softmax(X_train, y_train, initial_W, initial_B, alpha1, iterations)\n",
    "W2,B2, J_history2 = gradient_descent_softmax(X_train, y_train, initial_W, initial_B, alpha2, iterations)\n",
    "W3,B3, J_history3 = gradient_descent_softmax(X_train, y_train, initial_W, initial_B, alpha3, iterations)\n",
    "\n",
    "print(\"W_alpha1 = \",W, \" B_alpha1 = \",B)\n",
    "print(\"W_alpha2 = \",W2, \" B_alpha2 = \",B2)\n",
    "print(\"W_alpha3 = \",W3, \" B_alpha3 = \",B3)"
   ]
  },
  {
   "cell_type": "code",
   "execution_count": 44,
   "metadata": {},
   "outputs": [],
   "source": [
    "def locateMax(tab):\n",
    "    max=0\n",
    "    for loop in range(len(tab)):\n",
    "        if tab[loop]>tab[max]:\n",
    "            max=loop\n",
    "    return max"
   ]
  },
  {
   "cell_type": "code",
   "execution_count": 51,
   "metadata": {},
   "outputs": [],
   "source": [
    "def predict_accuracy(X,y,W,B):\n",
    "    yp = np.zeros(len(X))\n",
    "    for loop in range(len(X)):\n",
    "        tabProbas=np.dot(W,X[loop])+B\n",
    "        tabProbas=sigmoid(tabProbas)\n",
    "        tabProbas=tabProbas/np.sum(tabProbas)\n",
    "        yp[loop]=locateMax(tabProbas)\n",
    "    \n",
    "    sum=0\n",
    "    for loop in range(len(yp)):\n",
    "        if(yp[loop] == y[loop]):\n",
    "            sum+=1\n",
    "    print('Train Accuracy (%) : ',(sum/len(yp))*100)\n",
    "    "
   ]
  },
  {
   "cell_type": "code",
   "execution_count": 52,
   "metadata": {},
   "outputs": [
    {
     "name": "stdout",
     "output_type": "stream",
     "text": [
      "predictions sur le jeu d'entrainemnt\n",
      "Train Accuracy (%) :  48.35164835164835\n",
      "Train Accuracy (%) :  55.769230769230774\n",
      "Train Accuracy (%) :  35.16483516483517\n",
      "predictions sur le jeu cv\n",
      "Train Accuracy (%) :  49.586776859504134\n",
      "Train Accuracy (%) :  50.413223140495866\n",
      "Train Accuracy (%) :  41.32231404958678\n",
      "predictions sur le jeu de test\n",
      "Train Accuracy (%) :  49.18032786885246\n",
      "Train Accuracy (%) :  49.18032786885246\n",
      "Train Accuracy (%) :  40.98360655737705\n"
     ]
    }
   ],
   "source": [
    "print(\"predictions sur le jeu d'entrainemnt\")\n",
    "predict_accuracy(X_train,y_train,W,B)\n",
    "predict_accuracy(X_train,y_train,W2,B2)\n",
    "predict_accuracy(X_train,y_train,W3,B3)\n",
    "\n",
    "print(\"predictions sur le jeu cv\")\n",
    "predict_accuracy(X_cv,y_cv,W,B)\n",
    "predict_accuracy(X_cv,y_cv,W2,B2)\n",
    "predict_accuracy(X_cv,y_cv,W3,B3)\n",
    "\n",
    "print(\"predictions sur le jeu de test\")\n",
    "predict_accuracy(X_test,y_test,W,B)\n",
    "predict_accuracy(X_test,y_test,W2,B2)\n",
    "predict_accuracy(X_test,y_test,W3,B3)"
   ]
  },
  {
   "attachments": {},
   "cell_type": "markdown",
   "metadata": {},
   "source": [
    "On ne prédit parfaitement la note que pour 49% des observations pour notre meilleur alpha.\n",
    "Calculons l'erreur du modèle sur la note.  "
   ]
  },
  {
   "cell_type": "code",
   "execution_count": 53,
   "metadata": {},
   "outputs": [],
   "source": [
    "def compute_cost(X,y,W,B):\n",
    "    m=len(X)\n",
    "    yp = np.zeros(m)\n",
    "    for loop in range(m):\n",
    "        tabProbas=np.dot(W,X[loop])+B\n",
    "        tabProbas=sigmoid(tabProbas)\n",
    "        tabProbas=tabProbas/np.sum(tabProbas)\n",
    "        yp[loop]=locateMax(tabProbas)\n",
    "    \n",
    "    cost = 0.0\n",
    "    for i in range(m):                                \n",
    "        cost = cost + (y[i] - yp[i])**2        #scalar\n",
    "    cost = cost / (2 * len(X))                 #scalar    \n",
    "    return cost\n"
   ]
  },
  {
   "cell_type": "code",
   "execution_count": 56,
   "metadata": {},
   "outputs": [
    {
     "data": {
      "text/plain": [
       "0.3483606557377049"
      ]
     },
     "execution_count": 56,
     "metadata": {},
     "output_type": "execute_result"
    }
   ],
   "source": [
    "compute_cost(X_test, y_test, W, B)"
   ]
  },
  {
   "attachments": {},
   "cell_type": "markdown",
   "metadata": {},
   "source": [
    "Le côut est plus élevé que pour la Regression linéaire. Un problème avec la méthode softmax est qu'elle ne fait que de la multi-classification. Pour la qualité du vin, l'importance de l'erreur sur la note doit être prise en compte. C'est le cas dans la regression polynômiale mais pas dans le Softmax (il faudrait changer la méthode de calcul du cout et du gradient). "
   ]
  },
  {
   "attachments": {},
   "cell_type": "markdown",
   "metadata": {},
   "source": [
    "Visualisation du résultat sur le jeu de test"
   ]
  },
  {
   "cell_type": "code",
   "execution_count": 58,
   "metadata": {},
   "outputs": [
    {
     "name": "stdout",
     "output_type": "stream",
     "text": [
      "[ 1.74046617  0.89608802  0.23        0.09531018 -2.41911891  2.89037176\n",
      "  3.52636052  0.9962      3.21       -1.38629436]\n",
      "1.0\n",
      "[0.01886567 0.04138494 0.01752345 0.0150036  0.17839946 0.19323648\n",
      " 0.19272179 0.18862756 0.15423706]\n",
      "largest value 0.19323647919778866 smallest value 0.015003596778588256\n",
      "position du max :  5\n",
      "valeur réelle:  6\n"
     ]
    }
   ],
   "source": [
    "x_test = X_test[50]  \n",
    "print(x_test)\n",
    "\n",
    "tabProbas=np.dot(W,x_test)+B\n",
    "tabProbas=sigmoid(tabProbas)\n",
    "tabProbas=tabProbas/np.sum(tabProbas)\n",
    "print(np.sum(tabProbas))\n",
    "print(tabProbas)\n",
    "\n",
    "print(\"largest value\", np.max(tabProbas), \"smallest value\", np.min(tabProbas))\n",
    "print(\"position du max : \",locateMax(tabProbas))\n",
    "print(\"valeur réelle: \",y_test[50])\n"
   ]
  },
  {
   "cell_type": "code",
   "execution_count": 57,
   "metadata": {},
   "outputs": [
    {
     "data": {
      "image/png": "[encoded data removed]",
      "text/plain": [
       "<Figure size 2000x300 with 10 Axes>"
      ]
     },
     "metadata": {},
     "output_type": "display_data"
    },
    {
     "name": "stdout",
     "output_type": "stream",
     "text": [
      "[7. 5. 6. 5. 5. 7. 5. 5. 5. 6. 5. 5. 6. 5. 7. 6. 5. 7. 7. 5. 5. 6. 5. 5.\n",
      " 5. 6. 5. 7. 6. 5. 5. 7. 7. 6. 7. 7. 5. 5. 5. 5. 5. 5. 6. 6. 6. 6. 5. 7.\n",
      " 5. 6. 5. 5. 6. 5. 5. 7. 6. 5. 6. 5. 5. 7. 5. 5. 5. 6. 5. 6. 5. 5. 7. 6.\n",
      " 6. 6. 6. 6. 5. 5. 5. 6. 6. 6. 6. 6. 5. 5. 6. 6. 5. 6. 5. 7. 5. 5. 5. 5.\n",
      " 7. 5. 7. 6. 6. 6. 5. 6. 5. 6. 5. 6. 5. 6. 7. 5. 5. 5. 5. 7. 6. 7. 5. 5.\n",
      " 6. 7.]\n",
      "[6 5 7 5 5 8 6 5 4 6 5 5 6 5 5 5 5 7 6 5 6 5 5 6 6 6 7 7 7 6 5 7 6 6 7 4 5\n",
      " 6 6 5 4 5 6 5 6 7 5 6 5 8 6 6 6 6 4 7 5 5 7 5 4 7 5 5 7 7 5 6 5 6 7 7 6 6\n",
      " 7 6 6 6 5 6 6 5 5 6 5 4 6 5 5 6 5 6 5 5 6 6 6 6 6 7 7 6 7 5 6 7 5 5 6 5 7\n",
      " 5 6 5 5 7 5 7 6 6 6 6]\n"
     ]
    }
   ],
   "source": [
    "#predict target using normalized features\n",
    "m = X_test.shape[0]\n",
    "yp = np.zeros(m)\n",
    "for loop in range(len(X_test)):\n",
    "    tabProbas=np.dot(W,X_test[loop])+B\n",
    "    tabProbas=sigmoid(tabProbas)\n",
    "    tabProbas=tabProbas/np.sum(tabProbas)\n",
    "    yp[loop]=locateMax(tabProbas)\n",
    "\n",
    "    # plot predictions and targets versus original features    \n",
    "fig,ax=plt.subplots(1,nb_feature,figsize=(20, 3),sharey=True)\n",
    "for i in range(len(ax)):\n",
    "    ax[i].scatter([X_test[:,i]],y_test, label = 'target')\n",
    "    ax[i].set_xlabel(X_features[i])\n",
    "    ax[i].scatter([X_test[:,i]],yp,color=\"orange\", label = 'predict')\n",
    "ax[0].set_ylabel(\"Quality\"); ax[0].legend()\n",
    "fig.suptitle(\"target versus prediction using Softmax model\")\n",
    "plt.show()\n",
    "print(yp)\n",
    "print(y_test)\n"
   ]
  },
  {
   "attachments": {},
   "cell_type": "markdown",
   "metadata": {},
   "source": [
    "On a aussi du mal a prédire les notes hautes et basses.\n",
    "Pour avoir une autre approche que la régression ou la multiclassification, nous allons utiliser un réseau de Neurones. Le réseau de neurones va calculer comme pour Softmax une probabilité d'appartenance à une qualité en fonction de l'observation X, mais après plusieurs couches de transformation des données. "
   ]
  }
 ],
 "metadata": {
  "kernelspec": {
   "display_name": "base",
   "language": "python",
   "name": "python3"
  },
  "language_info": {
   "codemirror_mode": {
    "name": "ipython",
    "version": 3
   },
   "file_extension": ".py",
   "mimetype": "text/x-python",
   "name": "python",
   "nbconvert_exporter": "python",
   "pygments_lexer": "ipython3",
   "version": "3.8.10"
  },
  "orig_nbformat": 4,
  "vscode": {
   "interpreter": {
    "hash": "e4cce46d6be9934fbd27f9ca0432556941ea5bdf741d4f4d64c6cd7f8dfa8fba"
   }
  }
 },
 "nbformat": 4,
 "nbformat_minor": 2
}
