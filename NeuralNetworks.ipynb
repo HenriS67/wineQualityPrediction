{
 "cells": [
  {
   "cell_type": "code",
   "execution_count": 46,
   "metadata": {},
   "outputs": [],
   "source": [
    "import numpy as np\n",
    "import matplotlib.pyplot as plt\n",
    "import numpy as np\n",
    "import pandas as pd\n",
    "import tensorflow as tf\n",
    "from tensorflow.keras.models import Sequential\n",
    "from tensorflow.keras.layers import Dense\n",
    "import logging\n",
    "logging.getLogger(\"tensorflow\").setLevel(logging.ERROR)\n",
    "tf.autograph.set_verbosity(0)"
   ]
  },
  {
   "attachments": {},
   "cell_type": "markdown",
   "metadata": {},
   "source": [
    "prep data"
   ]
  },
  {
   "cell_type": "code",
   "execution_count": 58,
   "metadata": {},
   "outputs": [],
   "source": [
    "import numpy as np\n",
    "import matplotlib.pyplot as plt\n",
    "df = pd.read_csv('WineQT.csv')\n",
    "d=[df[\"alcohol\"],df[\"quality\"]]\n",
    "x=[]\n",
    "\n",
    "xinit=np.transpose(np.matrix(d))\n",
    "y=[]\n",
    "y_simpl=[]\n",
    "\n",
    "for loop in range(len(xinit)):\n",
    "    if loop%10==0:\n",
    "        x.append([xinit[loop,0],xinit[loop,1]])\n",
    "        \n",
    "        if(xinit[loop,0]<=12 and xinit[loop,1]>5 ):\n",
    "            y.append(1)\n",
    "        else:\n",
    "            y.append(0)\n",
    "\n",
    "x=np.array(x)\n"
   ]
  },
  {
   "cell_type": "code",
   "execution_count": 48,
   "metadata": {},
   "outputs": [],
   "source": [
    "def plot_data(X, y, ax, pos_label=\"y=1\", neg_label=\"y=0\", s=80, loc='best',idx=0,idy=1 ):\n",
    "    \"\"\" plots logistic data with two axis \"\"\"\n",
    "    # Find Indices of Positive and Negative Examples\n",
    "    pos=[]\n",
    "    neg=[]\n",
    "    idpos=[]\n",
    "    idneg=[]\n",
    "    for loop in range(len(y)):\n",
    "        if(y[loop]==1):\n",
    "            idpos.append(X[loop,idx])\n",
    "            pos.append(X[loop,idy])\n",
    "        else:\n",
    "            idneg.append(X[loop,idx])\n",
    "            neg.append(X[loop,idy])\n",
    "\n",
    "    # Plot examples\n",
    "    ax.scatter(idpos, pos, marker='x', s=s, c = 'red', label=pos_label)\n",
    "    ax.scatter(idneg, neg, marker='o', s=s, label=neg_label, facecolors='none', edgecolors='blue', lw=3)\n",
    "    ax.legend(loc=loc)\n",
    "\n",
    "    ax.figure.canvas.toolbar_visible = False\n",
    "    ax.figure.canvas.header_visible = False\n",
    "    ax.figure.canvas.footer_visible = False"
   ]
  },
  {
   "cell_type": "code",
   "execution_count": 59,
   "metadata": {},
   "outputs": [
    {
     "data": {
      "image/png": "[encoded data removed]",
      "text/plain": [
       "<Figure size 288x288 with 1 Axes>"
      ]
     },
     "metadata": {
      "needs_background": "light"
     },
     "output_type": "display_data"
    }
   ],
   "source": [
    "fig,ax = plt.subplots(1,1,figsize=(4,4))\n",
    "plot_data(x, y, ax)\n",
    "\n",
    "ax.axis([6, 18, 0, 10])\n",
    "ax.set_ylabel('Quality')\n",
    "ax.set_xlabel('Alcohol')\n",
    "\n",
    "plt.show()"
   ]
  },
  {
   "cell_type": "code",
   "execution_count": 60,
   "metadata": {},
   "outputs": [
    {
     "name": "stdout",
     "output_type": "stream",
     "text": [
      "(115, 2) (115, 1)\n"
     ]
    }
   ],
   "source": [
    "x=np.array(x)\n",
    "y=np.array(y).reshape(-1,1)\n",
    "print(x.shape, y.shape)"
   ]
  },
  {
   "attachments": {},
   "cell_type": "markdown",
   "metadata": {},
   "source": [
    "NORMALIZE DATA"
   ]
  },
  {
   "cell_type": "code",
   "execution_count": 64,
   "metadata": {},
   "outputs": [
    {
     "name": "stdout",
     "output_type": "stream",
     "text": [
      "alcohol Max, Min pre normalization: 12.90, 9.00\n",
      "quality    Max, Min pre normalization: 8.00, 4.00\n",
      "alcohol Max, Min post normalization: 2.24, -1.30\n",
      "quality    Max, Min post normalization: 2.62, -1.98\n"
     ]
    }
   ],
   "source": [
    "print(f\"alcohol Max, Min pre normalization: {np.max(x[:,0]):0.2f}, {np.min(x[:,0]):0.2f}\")\n",
    "print(f\"quality    Max, Min pre normalization: {np.max(x[:,1]):0.2f}, {np.min(x[:,1]):0.2f}\")\n",
    "norm_l = tf.keras.layers.Normalization(axis=-1)\n",
    "norm_l.adapt(x)  # learns mean, variance\n",
    "Xn = norm_l(x)\n",
    "print(f\"alcohol Max, Min post normalization: {np.max(Xn[:,0]):0.2f}, {np.min(Xn[:,0]):0.2f}\")\n",
    "print(f\"quality    Max, Min post normalization: {np.max(Xn[:,1]):0.2f}, {np.min(Xn[:,1]):0.2f}\")"
   ]
  },
  {
   "cell_type": "code",
   "execution_count": 65,
   "metadata": {},
   "outputs": [
    {
     "name": "stdout",
     "output_type": "stream",
     "text": [
      "(115000, 2) (115000, 1)\n"
     ]
    }
   ],
   "source": [
    "Xt = np.tile(Xn,(1000,1))\n",
    "Yt= np.tile(y,(1000,1))   \n",
    "print(Xt.shape, Yt.shape)   "
   ]
  },
  {
   "attachments": {},
   "cell_type": "markdown",
   "metadata": {},
   "source": [
    "Tensorflow Model"
   ]
  },
  {
   "cell_type": "code",
   "execution_count": 66,
   "metadata": {},
   "outputs": [],
   "source": [
    "tf.random.set_seed(1234)  # applied to achieve consistent results\n",
    "model = Sequential(\n",
    "    [\n",
    "        tf.keras.Input(shape=(2,)),\n",
    "        Dense(3, activation='sigmoid', name = 'layer1'),\n",
    "        Dense(1, activation='sigmoid', name = 'layer2')\n",
    "     ]\n",
    ")"
   ]
  },
  {
   "cell_type": "code",
   "execution_count": 67,
   "metadata": {},
   "outputs": [
    {
     "name": "stdout",
     "output_type": "stream",
     "text": [
      "Model: \"sequential_1\"\n",
      "_________________________________________________________________\n",
      " Layer (type)                Output Shape              Param #   \n",
      "=================================================================\n",
      " layer1 (Dense)              (None, 3)                 9         \n",
      "                                                                 \n",
      " layer2 (Dense)              (None, 1)                 4         \n",
      "                                                                 \n",
      "=================================================================\n",
      "Total params: 13\n",
      "Trainable params: 13\n",
      "Non-trainable params: 0\n",
      "_________________________________________________________________\n"
     ]
    }
   ],
   "source": [
    "model.summary()"
   ]
  },
  {
   "cell_type": "code",
   "execution_count": 68,
   "metadata": {},
   "outputs": [
    {
     "name": "stdout",
     "output_type": "stream",
     "text": [
      "L1 params =  9 , L2 params =  4\n"
     ]
    }
   ],
   "source": [
    "L1_num_params = 2 * 3 + 3   # W1 parameters  + b1 parameters\n",
    "L2_num_params = 3 * 1 + 1   # W2 parameters  + b2 parameters\n",
    "print(\"L1 params = \", L1_num_params, \", L2 params = \", L2_num_params  )"
   ]
  },
  {
   "cell_type": "code",
   "execution_count": 69,
   "metadata": {},
   "outputs": [
    {
     "name": "stdout",
     "output_type": "stream",
     "text": [
      "W1(2, 3):\n",
      " [[-0.342371   -0.47176337 -0.59338033]\n",
      " [ 0.43076217  0.04380083 -0.11589175]] \n",
      "b1(3,): [0. 0. 0.]\n",
      "W2(3, 1):\n",
      " [[ 1.1449751]\n",
      " [ 1.0613333]\n",
      " [-0.6032051]] \n",
      "b2(1,): [0.]\n"
     ]
    }
   ],
   "source": [
    "W1, b1 = model.get_layer(\"layer1\").get_weights()\n",
    "W2, b2 = model.get_layer(\"layer2\").get_weights()\n",
    "print(f\"W1{W1.shape}:\\n\", W1, f\"\\nb1{b1.shape}:\", b1)\n",
    "print(f\"W2{W2.shape}:\\n\", W2, f\"\\nb2{b2.shape}:\", b2)"
   ]
  },
  {
   "cell_type": "code",
   "execution_count": 70,
   "metadata": {},
   "outputs": [
    {
     "name": "stdout",
     "output_type": "stream",
     "text": [
      "Epoch 1/10\n",
      "3594/3594 [==============================] - 13s 3ms/step - loss: 0.1156\n",
      "Epoch 2/10\n",
      "3594/3594 [==============================] - 12s 3ms/step - loss: 0.0067\n",
      "Epoch 3/10\n",
      "3594/3594 [==============================] - 12s 3ms/step - loss: 0.0015\n",
      "Epoch 4/10\n",
      "3594/3594 [==============================] - 12s 3ms/step - loss: 4.1984e-04\n",
      "Epoch 5/10\n",
      "3594/3594 [==============================] - 12s 3ms/step - loss: 1.2687e-04\n",
      "Epoch 6/10\n",
      "3594/3594 [==============================] - 12s 3ms/step - loss: 3.7942e-05\n",
      "Epoch 7/10\n",
      "3594/3594 [==============================] - 12s 3ms/step - loss: 1.0924e-05\n",
      "Epoch 8/10\n",
      "3594/3594 [==============================] - 13s 4ms/step - loss: 2.9893e-06\n",
      "Epoch 9/10\n",
      "3594/3594 [==============================] - 12s 3ms/step - loss: 8.1307e-07\n",
      "Epoch 10/10\n",
      "3594/3594 [==============================] - 12s 3ms/step - loss: 2.3821e-07\n"
     ]
    },
    {
     "data": {
      "text/plain": [
       "<keras.callbacks.History at 0x7f8eeaaedee0>"
      ]
     },
     "execution_count": 70,
     "metadata": {},
     "output_type": "execute_result"
    }
   ],
   "source": [
    "model.compile(\n",
    "    loss = tf.keras.losses.BinaryCrossentropy(),\n",
    "    optimizer = tf.keras.optimizers.Adam(learning_rate=0.01),\n",
    ")\n",
    "\n",
    "model.fit(\n",
    "    Xt,Yt,            \n",
    "    epochs=10,\n",
    ")"
   ]
  },
  {
   "attachments": {},
   "cell_type": "markdown",
   "metadata": {},
   "source": [
    "results"
   ]
  },
  {
   "cell_type": "code",
   "execution_count": 71,
   "metadata": {},
   "outputs": [
    {
     "name": "stdout",
     "output_type": "stream",
     "text": [
      "W1:\n",
      " [[ -6.773945   -10.374419    -3.3800576 ]\n",
      " [ 14.603253     0.28381065 -10.952009  ]] \n",
      "b1: [ 4.4896116 14.281558  -2.5798912]\n",
      "W2:\n",
      " [[  7.3675413]\n",
      " [ 51.017693 ]\n",
      " [-47.4583   ]] \n",
      "b2: [-24.841784]\n"
     ]
    }
   ],
   "source": [
    "W1, b1 = model.get_layer(\"layer1\").get_weights()\n",
    "W2, b2 = model.get_layer(\"layer2\").get_weights()\n",
    "print(\"W1:\\n\", W1, \"\\nb1:\", b1)\n",
    "print(\"W2:\\n\", W2, \"\\nb2:\", b2)"
   ]
  },
  {
   "attachments": {},
   "cell_type": "markdown",
   "metadata": {},
   "source": [
    "Test prediction"
   ]
  },
  {
   "cell_type": "code",
   "execution_count": 72,
   "metadata": {},
   "outputs": [
    {
     "name": "stdout",
     "output_type": "stream",
     "text": [
      "1/1 [==============================] - 0s 133ms/step\n",
      "predictions = \n",
      " [[1.0000000e+00]\n",
      " [2.5910083e-08]]\n"
     ]
    }
   ],
   "source": [
    "X_test = np.array([\n",
    "    [10,6],  # postive example\n",
    "    [13,8]])   # negative example\n",
    "X_testn = norm_l(X_test)\n",
    "predictions = model.predict(X_testn)\n",
    "print(\"predictions = \\n\", predictions)"
   ]
  },
  {
   "cell_type": "code",
   "execution_count": 73,
   "metadata": {},
   "outputs": [
    {
     "name": "stdout",
     "output_type": "stream",
     "text": [
      "decisions = \n",
      "[[1.]\n",
      " [0.]]\n"
     ]
    }
   ],
   "source": [
    "yhat = np.zeros_like(predictions)\n",
    "for i in range(len(predictions)):\n",
    "    if predictions[i] >= 0.5:\n",
    "        yhat[i] = 1\n",
    "    else:\n",
    "        yhat[i] = 0\n",
    "print(f\"decisions = \\n{yhat}\")"
   ]
  },
  {
   "attachments": {},
   "cell_type": "markdown",
   "metadata": {},
   "source": [
    "GRAPH"
   ]
  },
  {
   "cell_type": "code",
   "execution_count": 89,
   "metadata": {},
   "outputs": [],
   "source": [
    "def plot_data_model(model, X, ax, pos_label=\"y=1\", neg_label=\"y=0\", s=80, loc='best',idx=0,idy=1 ):\n",
    "    \"\"\" plots logistic data with two axis \"\"\"\n",
    "    # Find Indices of Positive and Negative Examples\n",
    "    \n",
    "    yhat = np.zeros_like(model)\n",
    "    for i in range(len(model)):\n",
    "        if model[i] >= 0.5:\n",
    "            yhat[i] = 1\n",
    "        else:\n",
    "            yhat[i] = 0\n",
    "    y=yhat  \n",
    "    print(y)  \n",
    "    pos=[]\n",
    "    neg=[]\n",
    "    idpos=[]\n",
    "    idneg=[]\n",
    "    for loop in range(len(y)):\n",
    "        if(y[loop]==1):\n",
    "            idpos.append(X[loop,idx])\n",
    "            pos.append(X[loop,idy])\n",
    "        else:\n",
    "            idneg.append(X[loop,idx])\n",
    "            neg.append(X[loop,idy])\n",
    "\n",
    "    # Plot examples\n",
    "    ax.scatter(idpos, pos, marker='x', s=s, c = 'red', label=pos_label)\n",
    "    ax.scatter(idneg, neg, marker='o', s=s, label=neg_label, facecolors='none', edgecolors='blue', lw=3)\n",
    "    ax.legend(loc=loc)\n",
    "\n",
    "    ax.figure.canvas.toolbar_visible = False\n",
    "    ax.figure.canvas.header_visible = False\n",
    "    ax.figure.canvas.footer_visible = False"
   ]
  },
  {
   "cell_type": "code",
   "execution_count": 90,
   "metadata": {},
   "outputs": [
    {
     "name": "stdout",
     "output_type": "stream",
     "text": [
      "4/4 [==============================] - 0s 3ms/step\n",
      "[[2.8417808e-09]\n",
      " [6.3669020e-10]\n",
      " [2.8417808e-09]\n",
      " [1.0000000e+00]\n",
      " [6.1311706e-10]\n",
      " [5.7170818e-10]\n",
      " [1.0003293e-09]\n",
      " [1.0000000e+00]\n",
      " [1.5024456e-09]\n",
      " [2.8417808e-09]\n",
      " [6.1311706e-10]\n",
      " [1.0000000e+00]\n",
      " [5.7170818e-10]\n",
      " [6.9622543e-09]\n",
      " [6.0094646e-10]\n",
      " [6.0305000e-10]\n",
      " [1.0000000e+00]\n",
      " [1.0000000e+00]\n",
      " [2.0634795e-08]\n",
      " [2.6729600e-08]\n",
      " [1.0000000e+00]\n",
      " [1.0000000e+00]\n",
      " [2.8417808e-09]\n",
      " [1.0000000e+00]\n",
      " [1.0000000e+00]\n",
      " [1.7154391e-11]\n",
      " [1.0000000e+00]\n",
      " [1.0000000e+00]\n",
      " [1.0000000e+00]\n",
      " [1.0000000e+00]\n",
      " [6.9622543e-09]\n",
      " [1.0000000e+00]\n",
      " [9.6337338e-10]\n",
      " [1.0000000e+00]\n",
      " [1.0000000e+00]\n",
      " [1.0000000e+00]\n",
      " [1.0000000e+00]\n",
      " [2.8417808e-09]\n",
      " [2.8417808e-09]\n",
      " [1.0000000e+00]\n",
      " [1.8185295e-11]\n",
      " [6.1234107e-10]\n",
      " [7.8576667e-10]\n",
      " [1.0000000e+00]\n",
      " [1.5024456e-09]\n",
      " [1.5024456e-09]\n",
      " [1.0000000e+00]\n",
      " [1.5909858e-07]\n",
      " [6.1311706e-10]\n",
      " [1.5909858e-07]\n",
      " [5.7170818e-10]\n",
      " [1.0003293e-09]\n",
      " [1.0003293e-09]\n",
      " [1.5024456e-09]\n",
      " [1.0000000e+00]\n",
      " [1.0000000e+00]\n",
      " [1.0000000e+00]\n",
      " [7.1047979e-10]\n",
      " [4.0075861e-08]\n",
      " [6.8555139e-10]\n",
      " [6.0431427e-10]\n",
      " [1.0000000e+00]\n",
      " [1.0000000e+00]\n",
      " [7.8576667e-10]\n",
      " [8.4679813e-10]\n",
      " [1.0000000e+00]\n",
      " [1.0000000e+00]\n",
      " [1.0000000e+00]\n",
      " [1.0000000e+00]\n",
      " [1.6694356e-11]\n",
      " [1.0000000e+00]\n",
      " [6.1311706e-10]\n",
      " [1.0000000e+00]\n",
      " [1.0000000e+00]\n",
      " [2.7573407e-08]\n",
      " [1.0000000e+00]\n",
      " [4.0856472e-07]\n",
      " [1.0000000e+00]\n",
      " [3.9994025e-18]\n",
      " [1.0000000e+00]\n",
      " [1.0000000e+00]\n",
      " [6.0305000e-10]\n",
      " [1.0000000e+00]\n",
      " [1.0000000e+00]\n",
      " [2.7595778e-11]\n",
      " [1.0000000e+00]\n",
      " [1.0000000e+00]\n",
      " [1.0000000e+00]\n",
      " [6.2529559e-10]\n",
      " [6.9622543e-09]\n",
      " [1.1284522e-09]\n",
      " [1.0000000e+00]\n",
      " [5.5984633e-06]\n",
      " [1.7154391e-11]\n",
      " [1.0000000e+00]\n",
      " [1.5024456e-09]\n",
      " [1.0000000e+00]\n",
      " [6.8555139e-10]\n",
      " [6.3669020e-10]\n",
      " [1.0000000e+00]\n",
      " [7.8660420e-08]\n",
      " [6.8555139e-10]\n",
      " [1.0000000e+00]\n",
      " [1.0000000e+00]\n",
      " [5.7170818e-10]\n",
      " [8.4679813e-10]\n",
      " [7.8576667e-10]\n",
      " [1.0000000e+00]\n",
      " [6.8555139e-10]\n",
      " [1.0000000e+00]\n",
      " [1.0000000e+00]\n",
      " [1.0000000e+00]\n",
      " [2.0634793e-08]\n",
      " [9.9999219e-01]\n",
      " [6.2529554e-10]]\n",
      "[[0.]\n",
      " [0.]\n",
      " [0.]\n",
      " [1.]\n",
      " [0.]\n",
      " [0.]\n",
      " [0.]\n",
      " [1.]\n",
      " [0.]\n",
      " [0.]\n",
      " [0.]\n",
      " [1.]\n",
      " [0.]\n",
      " [0.]\n",
      " [0.]\n",
      " [0.]\n",
      " [1.]\n",
      " [1.]\n",
      " [0.]\n",
      " [0.]\n",
      " [1.]\n",
      " [1.]\n",
      " [0.]\n",
      " [1.]\n",
      " [1.]\n",
      " [0.]\n",
      " [1.]\n",
      " [1.]\n",
      " [1.]\n",
      " [1.]\n",
      " [0.]\n",
      " [1.]\n",
      " [0.]\n",
      " [1.]\n",
      " [1.]\n",
      " [1.]\n",
      " [1.]\n",
      " [0.]\n",
      " [0.]\n",
      " [1.]\n",
      " [0.]\n",
      " [0.]\n",
      " [0.]\n",
      " [1.]\n",
      " [0.]\n",
      " [0.]\n",
      " [1.]\n",
      " [0.]\n",
      " [0.]\n",
      " [0.]\n",
      " [0.]\n",
      " [0.]\n",
      " [0.]\n",
      " [0.]\n",
      " [1.]\n",
      " [1.]\n",
      " [1.]\n",
      " [0.]\n",
      " [0.]\n",
      " [0.]\n",
      " [0.]\n",
      " [1.]\n",
      " [1.]\n",
      " [0.]\n",
      " [0.]\n",
      " [1.]\n",
      " [1.]\n",
      " [1.]\n",
      " [1.]\n",
      " [0.]\n",
      " [1.]\n",
      " [0.]\n",
      " [1.]\n",
      " [1.]\n",
      " [0.]\n",
      " [1.]\n",
      " [0.]\n",
      " [1.]\n",
      " [0.]\n",
      " [1.]\n",
      " [1.]\n",
      " [0.]\n",
      " [1.]\n",
      " [1.]\n",
      " [0.]\n",
      " [1.]\n",
      " [1.]\n",
      " [1.]\n",
      " [0.]\n",
      " [0.]\n",
      " [0.]\n",
      " [1.]\n",
      " [0.]\n",
      " [0.]\n",
      " [1.]\n",
      " [0.]\n",
      " [1.]\n",
      " [0.]\n",
      " [0.]\n",
      " [1.]\n",
      " [0.]\n",
      " [0.]\n",
      " [1.]\n",
      " [1.]\n",
      " [0.]\n",
      " [0.]\n",
      " [0.]\n",
      " [1.]\n",
      " [0.]\n",
      " [1.]\n",
      " [1.]\n",
      " [1.]\n",
      " [0.]\n",
      " [1.]\n",
      " [0.]]\n"
     ]
    },
    {
     "data": {
      "image/png": "[encoded data removed]",
      "text/plain": [
       "<Figure size 576x288 with 2 Axes>"
      ]
     },
     "metadata": {
      "needs_background": "light"
     },
     "output_type": "display_data"
    }
   ],
   "source": [
    "netf= model.predict(norm_l(x))\n",
    "print(netf)\n",
    "fig,ax = plt.subplots(1,2,figsize=(8,4))\n",
    "plot_data_model(netf, x, ax[1])\n",
    "plot_data(x, y, ax[0])\n",
    "\n"
   ]
  },
  {
   "attachments": {},
   "cell_type": "markdown",
   "metadata": {},
   "source": [
    "The network demonstrated the ability of neural networks to handle complex decisions by dividing the decisions between multiple units."
   ]
  }
 ],
 "metadata": {
  "kernelspec": {
   "display_name": "Python 3",
   "language": "python",
   "name": "python3"
  },
  "language_info": {
   "codemirror_mode": {
    "name": "ipython",
    "version": 3
   },
   "file_extension": ".py",
   "mimetype": "text/x-python",
   "name": "python",
   "nbconvert_exporter": "python",
   "pygments_lexer": "ipython3",
   "version": "3.8.10"
  },
  "orig_nbformat": 4
 },
 "nbformat": 4,
 "nbformat_minor": 2
}
