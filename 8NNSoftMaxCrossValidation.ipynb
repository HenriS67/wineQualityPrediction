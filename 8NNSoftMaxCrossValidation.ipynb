{
 "cells": [
  {
   "cell_type": "code",
   "execution_count": 2,
   "metadata": {},
   "outputs": [
    {
     "name": "stdout",
     "output_type": "stream",
     "text": [
      "      fixed acidity  volatile acidity  citric acid  residual sugar  chlorides   \n",
      "0               7.4             0.700         0.00             1.9      0.076  \\\n",
      "1               7.8             0.880         0.00             2.6      0.098   \n",
      "2               7.8             0.760         0.04             2.3      0.092   \n",
      "3              11.2             0.280         0.56             1.9      0.075   \n",
      "4               7.4             0.700         0.00             1.9      0.076   \n",
      "...             ...               ...          ...             ...        ...   \n",
      "1138            6.3             0.510         0.13             2.3      0.076   \n",
      "1139            6.8             0.620         0.08             1.9      0.068   \n",
      "1140            6.2             0.600         0.08             2.0      0.090   \n",
      "1141            5.9             0.550         0.10             2.2      0.062   \n",
      "1142            5.9             0.645         0.12             2.0      0.075   \n",
      "\n",
      "      free sulfur dioxide  total sulfur dioxide  density    pH  sulphates   \n",
      "0                    11.0                  34.0  0.99780  3.51       0.56  \\\n",
      "1                    25.0                  67.0  0.99680  3.20       0.68   \n",
      "2                    15.0                  54.0  0.99700  3.26       0.65   \n",
      "3                    17.0                  60.0  0.99800  3.16       0.58   \n",
      "4                    11.0                  34.0  0.99780  3.51       0.56   \n",
      "...                   ...                   ...      ...   ...        ...   \n",
      "1138                 29.0                  40.0  0.99574  3.42       0.75   \n",
      "1139                 28.0                  38.0  0.99651  3.42       0.82   \n",
      "1140                 32.0                  44.0  0.99490  3.45       0.58   \n",
      "1141                 39.0                  51.0  0.99512  3.52       0.76   \n",
      "1142                 32.0                  44.0  0.99547  3.57       0.71   \n",
      "\n",
      "      alcohol  quality    Id  \n",
      "0         9.4        5     0  \n",
      "1         9.8        5     1  \n",
      "2         9.8        5     2  \n",
      "3         9.8        6     3  \n",
      "4         9.4        5     4  \n",
      "...       ...      ...   ...  \n",
      "1138     11.0        6  1592  \n",
      "1139      9.5        6  1593  \n",
      "1140     10.5        5  1594  \n",
      "1141     11.2        6  1595  \n",
      "1142     10.2        5  1597  \n",
      "\n",
      "[1143 rows x 13 columns]\n",
      "[[ 0.93933222 -0.96338181 -0.57365783 -1.36502663]\n",
      " [ 1.94181282 -0.59360107  0.1308811  -1.36502663]\n",
      " [ 1.27349242 -0.59360107 -0.04525363 -1.16156762]\n",
      " ...\n",
      " [ 0.38239855  0.05351522 -0.45623467 -0.9581086 ]\n",
      " [ 0.10393172  0.70063152  0.60057372 -0.8563791 ]\n",
      " [ 0.6330187  -0.22382033  0.30701583 -0.75464959]]\n",
      "(579,)\n",
      "(579, 4)\n"
     ]
    },
    {
     "data": {
      "image/png": "[encoded data removed]",
      "text/plain": [
       "<Figure size 432x288 with 2 Axes>"
      ]
     },
     "metadata": {
      "needs_background": "light"
     },
     "output_type": "display_data"
    }
   ],
   "source": [
    "import numpy as np\n",
    "import pandas as pd\n",
    "import matplotlib.pyplot as plt\n",
    "df = pd.read_csv('WineQT.csv')\n",
    "print(df)\n",
    "import numpy as np\n",
    "import matplotlib.pyplot as plt\n",
    "# load the dataset\n",
    "\n",
    "y_train = df['quality']\n",
    "X_train= [df['volatile acidity'],df['alcohol'],df['sulphates'],df['citric acid']]\n",
    "X_features = ['volatile acidity','alcohol','sulphates','citric acid']\n",
    "X_train=np.transpose(np.asmatrix(X_train))\n",
    "y_train=np.asarray(y_train)\n",
    "\n",
    "\n",
    "def zscore_normalize_features(X):\n",
    "    mu     = np.mean(X, axis=0)                 # mu will have shape (n,)\n",
    "    # find the standard deviation of each column/feature\n",
    "    sigma  = np.std(X, axis=0)                  # sigma will have shape (n,)\n",
    "    # element-wise, subtract mu for that column from each example, divide by std for that column\n",
    "    X_norm = (X - mu) / sigma      \n",
    "\n",
    "    return (X_norm, mu, sigma)\n",
    "\n",
    "X_norm, X_mu, X_sigma = zscore_normalize_features(X_train)\n",
    "print(X_norm)\n",
    "import random\n",
    "fig,ax=plt.subplots(1,2,sharey=True)\n",
    "ax[0].hist(df[\"quality\"], bins='auto',label=\"quality\")\n",
    "ax[0].set_title(\"quality before modif\")\n",
    "supp=[]\n",
    "#on supprime aleatoirement des valeurs de notes 5 et 6 (diviser par 3)\n",
    "for i in range(len(y_train)):\n",
    "    if y_train[i]==5 or y_train[i]==6:\n",
    "        rand=random.random()\n",
    "        if(rand>0.4):\n",
    "            supp.append(i)\n",
    "for j in range(len(supp)):\n",
    "    y_train2=np.delete(y_train,supp)\n",
    "    X_norm2=np.delete(X_norm,supp,0)\n",
    "\n",
    "\n",
    "ax[1].hist(y_train2, bins='auto',label=\"quality\")\n",
    "ax[1].set_title(\"quality after modif\")\n",
    "\n",
    "print(y_train2.shape)\n",
    "print(X_norm2.shape)"
   ]
  },
  {
   "attachments": {},
   "cell_type": "markdown",
   "metadata": {},
   "source": [
    "DIVISION DU JEU DE DONNEES EN TRAIN SET, CROSS VALIDATION ET TEST SET:"
   ]
  },
  {
   "cell_type": "code",
   "execution_count": 3,
   "metadata": {},
   "outputs": [
    {
     "name": "stdout",
     "output_type": "stream",
     "text": [
      "(579, 4)\n",
      "(579,)\n",
      "(347, 4) (116, 4) (116, 4)\n",
      "(347,) (116,) (116,)\n"
     ]
    }
   ],
   "source": [
    "print(X_norm2.shape)\n",
    "print(y_train2.shape)\n",
    "\n",
    "debutcv=int(X_norm2.shape[0]*0.6)\n",
    "debuttest=int(X_norm2.shape[0]*0.8)\n",
    "\n",
    "X_train=X_norm2[0:debutcv]\n",
    "X_cv=X_norm2[debutcv:debuttest]\n",
    "X_test=X_norm2[debuttest:]\n",
    "\n",
    "y_train=y_train2[0:debutcv]\n",
    "y_cv=y_train2[debutcv:debuttest]\n",
    "y_test=y_train2[debuttest:]\n",
    "\n",
    "print(X_train.shape,X_cv.shape,X_test.shape)\n",
    "print(y_train.shape,y_cv.shape,y_test.shape)"
   ]
  },
  {
   "attachments": {},
   "cell_type": "markdown",
   "metadata": {},
   "source": [
    "Creation de 3 modèles à comparer:"
   ]
  },
  {
   "cell_type": "code",
   "execution_count": 4,
   "metadata": {},
   "outputs": [
    {
     "name": "stderr",
     "output_type": "stream",
     "text": [
      "2023-04-19 09:48:21.197786: I tensorflow/tsl/cuda/cudart_stub.cc:28] Could not find cuda drivers on your machine, GPU will not be used.\n",
      "2023-04-19 09:48:21.513388: I tensorflow/tsl/cuda/cudart_stub.cc:28] Could not find cuda drivers on your machine, GPU will not be used.\n",
      "2023-04-19 09:48:21.514567: I tensorflow/core/platform/cpu_feature_guard.cc:182] This TensorFlow binary is optimized to use available CPU instructions in performance-critical operations.\n",
      "To enable the following instructions: AVX2 FMA, in other operations, rebuild TensorFlow with the appropriate compiler flags.\n",
      "2023-04-19 09:48:23.429292: W tensorflow/compiler/tf2tensorrt/utils/py_utils.cc:38] TF-TRT Warning: Could not find TensorRT\n"
     ]
    }
   ],
   "source": [
    "import numpy as np\n",
    "import matplotlib.pyplot as plt\n",
    "import tensorflow as tf\n",
    "from tensorflow.keras.models import Sequential\n",
    "from tensorflow.keras.layers import Dense\n",
    "from IPython.display import display, Markdown, Latex\n",
    "from matplotlib.widgets import Slider\n",
    "import logging\n",
    "logging.getLogger(\"tensorflow\").setLevel(logging.ERROR)\n",
    "tf.autograph.set_verbosity(0)"
   ]
  },
  {
   "cell_type": "code",
   "execution_count": 15,
   "metadata": {},
   "outputs": [],
   "source": [
    "tf.random.set_seed(20)"
   ]
  },
  {
   "cell_type": "code",
   "execution_count": 16,
   "metadata": {},
   "outputs": [],
   "source": [
    "\n",
    "def build_models():\n",
    "    \n",
    "    model_1 = Sequential(\n",
    "        [\n",
    "            tf.keras.Input(shape=(4,)),\n",
    "            Dense(25, activation = 'relu'),\n",
    "            Dense(15, activation = 'relu'),\n",
    "            Dense(9, activation = 'softmax')\n",
    "        ],\n",
    "        name='model_1'\n",
    "    )\n",
    "    model_2 = Sequential(\n",
    "        [\n",
    "            tf.keras.Input(shape=(4,)),\n",
    "            Dense(20, activation = 'relu'),\n",
    "            Dense(12, activation = 'relu'),\n",
    "            Dense(12, activation = 'relu'),\n",
    "            Dense(20, activation = 'relu'),\n",
    "            Dense(9, activation = 'softmax')\n",
    "        ],\n",
    "        name='model_2'\n",
    "    )\n",
    "    model_3 = Sequential(\n",
    "        [\n",
    "            tf.keras.Input(shape=(4,)),\n",
    "            Dense(32, activation = 'relu'),\n",
    "            Dense(16, activation = 'relu'),\n",
    "            Dense(8, activation = 'relu'),\n",
    "            Dense(4, activation = 'relu'),\n",
    "            Dense(12, activation = 'relu'),\n",
    "            Dense(9, activation = 'softmax')\n",
    "        ],\n",
    "        name='model_3'\n",
    "    )\n",
    "    \n",
    "    model_list = [model_1, model_2, model_3]\n",
    "\n",
    "    return model_list"
   ]
  },
  {
   "cell_type": "code",
   "execution_count": 6,
   "metadata": {},
   "outputs": [],
   "source": [
    "def locateMax(tab):\n",
    "    max=0\n",
    "    for loop in range(len(tab)):\n",
    "        if tab[loop]>tab[max]:\n",
    "            max=loop\n",
    "    return max"
   ]
  },
  {
   "cell_type": "code",
   "execution_count": 7,
   "metadata": {},
   "outputs": [],
   "source": [
    "def calcul_error(y,yp):\n",
    "    m=len(y)\n",
    "    sum=0\n",
    "    for loop in range(m):\n",
    "        if(yp[loop] != y[loop]):\n",
    "            sum+=1\n",
    "    return((sum/m)*100)"
   ]
  },
  {
   "cell_type": "code",
   "execution_count": null,
   "metadata": {},
   "outputs": [],
   "source": [
    "# Setup the loss and optimizer\n",
    "def try_model(model):\n",
    "    \n",
    "    model.compile(\n",
    "    loss=tf.keras.losses.SparseCategoricalCrossentropy(),\n",
    "    optimizer=tf.keras.optimizers.Adam(learning_rate=0.01),\n",
    "    )\n",
    "\n",
    "    print(f\"Training {model.name}...\")\n",
    "    \n",
    "    \n",
    "    # Train the model\n",
    "    model.fit(\n",
    "        X_train, y_train,\n",
    "        epochs=200,\n",
    "        verbose=0\n",
    "    )\n",
    "    print(\"Done!\\n\")\n",
    "\n",
    "    # Record the fraction of misclassified examples for the training set\n",
    "    predictions = model.predict(X_train)\n",
    "    yhat= np.zeros(len(predictions))\n",
    "\n",
    "    for loop in range(len(predictions)):\n",
    "        yhat[loop]=locateMax(predictions[loop])\n",
    "    #print(yhat)\n",
    "\n",
    "    train_error = calcul_error(yhat,y_train)\n",
    "\n",
    "    # Record the fraction of misclassified examples for the cross validation set\n",
    "    predictions = model.predict(X_cv)\n",
    "    yhat= np.zeros(len(predictions))\n",
    "\n",
    "    for loop in range(len(predictions)):\n",
    "        yhat[loop]=locateMax(predictions[loop])\n",
    "    #print(yhat)\n",
    "\n",
    "    cv_error = calcul_error(yhat,y_cv)\n",
    "    return(train_error,cv_error)"
   ]
  },
  {
   "cell_type": "code",
   "execution_count": 35,
   "metadata": {},
   "outputs": [
    {
     "name": "stdout",
     "output_type": "stream",
     "text": [
      "Training model_1...\n",
      "Done!\n",
      "\n",
      "11/11 [==============================] - 0s 3ms/step\n",
      "4/4 [==============================] - 0s 3ms/step\n",
      "Training model_2...\n",
      "Done!\n",
      "\n",
      "11/11 [==============================] - 0s 6ms/step\n",
      "4/4 [==============================] - 0s 3ms/step\n",
      "Training model_3...\n",
      "Done!\n",
      "\n",
      "11/11 [==============================] - 0s 3ms/step\n",
      "4/4 [==============================] - 0s 5ms/step\n",
      "Model 1: Training Set Classification Error: 14.69741, CV Set Classification Error: 56.03448\n",
      "Model 2: Training Set Classification Error: 17.86744, CV Set Classification Error: 48.27586\n",
      "Model 3: Training Set Classification Error: 21.03746, CV Set Classification Error: 56.03448\n"
     ]
    }
   ],
   "source": [
    "\n",
    "from sklearn.metrics import mean_squared_error\n",
    "# Initialize lists that will contain the errors for each model\n",
    "nn_train_error = []\n",
    "nn_cv_error = []\n",
    "\n",
    "\n",
    "# Build the models\n",
    "nn_models = build_models()\n",
    "\n",
    "# Loop over the the models\n",
    "for model in nn_models:\n",
    "    \n",
    "    train_error,cv_error=try_model(model)\n",
    "    nn_train_error.append(train_error)\n",
    "    nn_cv_error.append(cv_error)\n",
    "\n",
    "    \n",
    "# Print the result\n",
    "for model_num in range(len(nn_train_error)):\n",
    "    print(\n",
    "        f\"Model {model_num+1}: Training Set Classification Error: {nn_train_error[model_num]:.5f}, \" +\n",
    "        f\"CV Set Classification Error: {nn_cv_error[model_num]:.5f}\"\n",
    "        )"
   ]
  },
  {
   "cell_type": "code",
   "execution_count": 36,
   "metadata": {},
   "outputs": [
    {
     "name": "stdout",
     "output_type": "stream",
     "text": [
      "4/4 [==============================] - 0s 4ms/step\n",
      "[5. 5. 7. 6. 7. 5. 5. 7. 5. 5. 4. 5. 5. 5. 6. 6. 5. 6. 6. 6. 6. 6. 7. 4.\n",
      " 5. 5. 5. 6. 5. 6. 5. 6. 7. 5. 6. 7. 5. 5. 5. 5. 7. 5. 7. 7. 7. 6. 6. 7.\n",
      " 6. 7. 6. 5. 5. 7. 7. 6. 5. 6. 5. 5. 6. 6. 6. 7. 6. 7. 6. 5. 6. 6. 5. 6.\n",
      " 5. 6. 6. 8. 8. 5. 6. 6. 6. 6. 7. 7. 6. 6. 5. 6. 6. 6. 4. 7. 7. 5. 5. 7.\n",
      " 6. 5. 6. 5. 6. 5. 4. 5. 5. 8. 6. 6. 6. 6. 6. 6. 6. 7. 6. 7.]\n",
      "[6 5 6 6 5 6 3 6 5 5 6 5 6 6 6 6 5 5 5 6 6 6 5 5 5 5 5 6 6 6 5 6 6 5 5 6 5\n",
      " 6 5 5 6 8 6 7 6 6 6 6 5 7 5 5 5 6 4 7 6 5 6 5 8 7 7 7 6 7 6 4 5 7 4 7 3 5\n",
      " 5 7 7 3 5 4 5 5 7 6 6 6 3 6 6 6 6 6 6 6 5 7 7 5 8 5 7 5 6 5 5 6 6 6 6 6 5\n",
      " 7 6 6 6 6]\n",
      "Selected Model: 2\n",
      "Training Set Classification Error: 17.8674\n",
      "CV Set Classification Error: 48.2759\n",
      "Test Set Classification Error: 55.1724\n"
     ]
    }
   ],
   "source": [
    "# Select the model with the lowest error\n",
    "model_num = 2\n",
    "model=nn_models[model_num-1]\n",
    "# Compute the test error\n",
    "predictions = model.predict(X_test)\n",
    "yhat= np.zeros(len(predictions))\n",
    "\n",
    "for loop in range(len(predictions)):\n",
    "    yhat[loop]=locateMax(predictions[loop])\n",
    "print(yhat)\n",
    "print(y_test)\n",
    "nn_test_error =calcul_error(yhat,y_test)\n",
    "\n",
    "print(f\"Selected Model: {model_num}\")\n",
    "print(f\"Training Set Classification Error: {nn_train_error[model_num-1]:.4f}\")\n",
    "print(f\"CV Set Classification Error: {nn_cv_error[model_num-1]:.4f}\")\n",
    "print(f\"Test Set Classification Error: {nn_test_error:.4f}\")"
   ]
  },
  {
   "attachments": {},
   "cell_type": "markdown",
   "metadata": {},
   "source": [
    "VISUALISATION TEST DU MODELE CHOISI "
   ]
  },
  {
   "cell_type": "code",
   "execution_count": 37,
   "metadata": {},
   "outputs": [
    {
     "name": "stdout",
     "output_type": "stream",
     "text": [
      "4/4 [==============================] - 0s 3ms/step\n",
      "(116, 4) (116,) (116,)\n"
     ]
    },
    {
     "data": {
      "image/png": "[encoded data removed]",
      "text/plain": [
       "<Figure size 864x216 with 4 Axes>"
      ]
     },
     "metadata": {
      "needs_background": "light"
     },
     "output_type": "display_data"
    }
   ],
   "source": [
    "\n",
    "predictions = model.predict(X_cv)\n",
    "yhat= np.zeros(len(predictions))\n",
    "\n",
    "for loop in range(len(predictions)):\n",
    "    yhat[loop]=locateMax(predictions[loop])\n",
    "\n",
    "print(X_test.shape, y_test.shape,yhat.shape)\n",
    "\n",
    "\n",
    "m = X_test.shape[0]\n",
    "\n",
    "    # plot predictions and targets versus original features    \n",
    "fig,ax=plt.subplots(1,4,figsize=(12, 3),sharey=True)\n",
    "for i in range(len(ax)):\n",
    "    ax[i].scatter([X_test[:,i]],y_test, label = 'target')\n",
    "    ax[i].set_xlabel(X_features[i])\n",
    "    ax[i].scatter([X_test[:,i]],yhat,color=\"orange\", label = 'predict')\n",
    "ax[0].set_ylabel(\"Quality\"); ax[0].legend()\n",
    "fig.suptitle(\"target versus prediction using Softmax model\")\n",
    "plt.show()"
   ]
  },
  {
   "attachments": {},
   "cell_type": "markdown",
   "metadata": {},
   "source": [
    "FIXER BIAIS ET VARIANCES:"
   ]
  },
  {
   "cell_type": "code",
   "execution_count": 38,
   "metadata": {},
   "outputs": [
    {
     "name": "stdout",
     "output_type": "stream",
     "text": [
      "Training Set Classification Error: 17.8674\n",
      "CV Set Classification Error: 48.2759\n",
      "Test Set Classification Error: 55.1724\n"
     ]
    }
   ],
   "source": [
    "print(f\"Training Set Classification Error: {nn_train_error[model_num-1]:.4f}\")\n",
    "print(f\"CV Set Classification Error: {nn_cv_error[model_num-1]:.4f}\")\n",
    "print(f\"Test Set Classification Error: {nn_test_error:.4f}\")"
   ]
  },
  {
   "attachments": {},
   "cell_type": "markdown",
   "metadata": {},
   "source": [
    "INFLUENCE DE LAMBDA:\n",
    "\n",
    "vu que Jcv (49.1379) est grand par rapport à Jtrain (14.4092), on a une grande variance, on va donc rajouter un parametre de régularisation Lambda en gardant le meme model."
   ]
  },
  {
   "cell_type": "code",
   "execution_count": 40,
   "metadata": {},
   "outputs": [],
   "source": [
    "from tensorflow.keras.regularizers import l2\n",
    "def build_models_Regularized():\n",
    "    lambdas=[0.00,0.01,0.1]\n",
    "    model_1 = Sequential(\n",
    "        [\n",
    "            tf.keras.Input(shape=(4,)),\n",
    "            Dense(20, activation = 'relu',kernel_regularizer=l2(lambdas[0])),\n",
    "            Dense(12, activation = 'relu',kernel_regularizer=l2(lambdas[0])),\n",
    "            Dense(12, activation = 'relu',kernel_regularizer=l2(lambdas[0])),\n",
    "            Dense(20, activation = 'relu',kernel_regularizer=l2(lambdas[0])),\n",
    "            Dense(9, activation = 'softmax')\n",
    "        ],\n",
    "        name='model_1'\n",
    "    )\n",
    "    model_2 = Sequential(\n",
    "        [\n",
    "            tf.keras.Input(shape=(4,)),\n",
    "            Dense(20, activation = 'relu',kernel_regularizer=l2(lambdas[1])),\n",
    "            Dense(12, activation = 'relu',kernel_regularizer=l2(lambdas[1])),\n",
    "            Dense(12, activation = 'relu',kernel_regularizer=l2(lambdas[1])),\n",
    "            Dense(20, activation = 'relu',kernel_regularizer=l2(lambdas[1])),\n",
    "            Dense(9, activation = 'softmax')\n",
    "        ],\n",
    "        name='model_2'\n",
    "    )\n",
    "    model_3 = Sequential(\n",
    "        [\n",
    "            tf.keras.Input(shape=(4,)),\n",
    "            Dense(20, activation = 'relu',kernel_regularizer=l2(lambdas[2])),\n",
    "            Dense(12, activation = 'relu',kernel_regularizer=l2(lambdas[2])),\n",
    "            Dense(12, activation = 'relu',kernel_regularizer=l2(lambdas[2])),\n",
    "            Dense(20, activation = 'relu',kernel_regularizer=l2(lambdas[2])),\n",
    "            Dense(9, activation = 'softmax')\n",
    "        ],\n",
    "        name='model_3'\n",
    "    )\n",
    "    model_list = [model_1, model_2, model_3]\n",
    "    return model_list"
   ]
  },
  {
   "cell_type": "code",
   "execution_count": 41,
   "metadata": {},
   "outputs": [
    {
     "name": "stdout",
     "output_type": "stream",
     "text": [
      "Training model_1...\n",
      "Done!\n",
      "\n",
      "11/11 [==============================] - 0s 3ms/step\n",
      "4/4 [==============================] - 0s 4ms/step\n",
      "Training model_2...\n",
      "Done!\n",
      "\n",
      "11/11 [==============================] - 0s 3ms/step\n",
      "4/4 [==============================] - 0s 3ms/step\n",
      "Training model_3...\n",
      "Done!\n",
      "\n",
      "11/11 [==============================] - 0s 4ms/step\n",
      "4/4 [==============================] - 0s 3ms/step\n",
      "Model 1: Training Set Classification Error: 12.39193, CV Set Classification Error: 45.68966\n",
      "Model 2: Training Set Classification Error: 40.05764, CV Set Classification Error: 38.79310\n",
      "Model 3: Training Set Classification Error: 62.82421, CV Set Classification Error: 81.89655\n"
     ]
    }
   ],
   "source": [
    "from sklearn.metrics import mean_squared_error\n",
    "# Initialize lists that will contain the errors for each model\n",
    "nn_train_error = []\n",
    "nn_cv_error = []\n",
    "\n",
    "\n",
    "# Build the models\n",
    "nn_models_r = build_models_Regularized()\n",
    "\n",
    "# Loop over the the models\n",
    "for model in nn_models_r:\n",
    "    \n",
    "    # Setup the loss and optimizer\n",
    "    model.compile(\n",
    "    loss=tf.keras.losses.SparseCategoricalCrossentropy(),\n",
    "    optimizer=tf.keras.optimizers.Adam(learning_rate=0.01),\n",
    "    )\n",
    "\n",
    "    print(f\"Training {model.name}...\")\n",
    "    \n",
    "    \n",
    "    # Train the model\n",
    "    model.fit(\n",
    "        X_train, y_train,\n",
    "        epochs=200,\n",
    "        verbose=0\n",
    "    )\n",
    "    \n",
    "    print(\"Done!\\n\")\n",
    "\n",
    "    # Set the threshold for classification\n",
    "    threshold = 0.5\n",
    "    # Record the fraction of misclassified examples for the training set\n",
    "    predictions = model.predict(X_train)\n",
    "    yhat= np.zeros(len(predictions))\n",
    "\n",
    "    for loop in range(len(predictions)):\n",
    "        yhat[loop]=locateMax(predictions[loop])\n",
    "    #print(yhat)\n",
    "\n",
    "    train_error = calcul_error(yhat,y_train)\n",
    "    nn_train_error.append(train_error)\n",
    "\n",
    "    # Record the fraction of misclassified examples for the cross validation set\n",
    "    predictions = model.predict(X_cv)\n",
    "    yhat= np.zeros(len(predictions))\n",
    "\n",
    "    for loop in range(len(predictions)):\n",
    "        yhat[loop]=locateMax(predictions[loop])\n",
    "    #print(yhat)\n",
    "\n",
    "    cv_error = calcul_error(yhat,y_cv)\n",
    "    nn_cv_error.append(cv_error)\n",
    "\n",
    "    \n",
    "# Print the result\n",
    "for model_num in range(len(nn_train_error)):\n",
    "    print(\n",
    "        f\"Model {model_num+1}: Training Set Classification Error: {nn_train_error[model_num]:.5f}, \" +\n",
    "        f\"CV Set Classification Error: {nn_cv_error[model_num]:.5f}\"\n",
    "        )"
   ]
  },
  {
   "cell_type": "code",
   "execution_count": 44,
   "metadata": {},
   "outputs": [
    {
     "name": "stdout",
     "output_type": "stream",
     "text": [
      "4/4 [==============================] - 0s 4ms/step\n",
      "[5. 5. 7. 6. 7. 5. 5. 7. 5. 5. 4. 5. 5. 5. 6. 6. 5. 6. 6. 6. 6. 6. 7. 4.\n",
      " 5. 5. 5. 6. 5. 6. 5. 6. 7. 5. 6. 7. 5. 5. 5. 5. 7. 5. 7. 7. 7. 6. 6. 7.\n",
      " 6. 7. 6. 5. 5. 7. 7. 6. 5. 6. 5. 5. 6. 6. 6. 7. 6. 7. 6. 5. 6. 6. 5. 6.\n",
      " 5. 6. 6. 8. 8. 5. 6. 6. 6. 6. 7. 7. 6. 6. 5. 6. 6. 6. 4. 7. 7. 5. 5. 7.\n",
      " 6. 5. 6. 5. 6. 5. 4. 5. 5. 8. 6. 6. 6. 6. 6. 6. 6. 7. 6. 7.]\n",
      "[6 5 6 6 5 6 3 6 5 5 6 5 6 6 6 6 5 5 5 6 6 6 5 5 5 5 5 6 6 6 5 6 6 5 5 6 5\n",
      " 6 5 5 6 8 6 7 6 6 6 6 5 7 5 5 5 6 4 7 6 5 6 5 8 7 7 7 6 7 6 4 5 7 4 7 3 5\n",
      " 5 7 7 3 5 4 5 5 7 6 6 6 3 6 6 6 6 6 6 6 5 7 7 5 8 5 7 5 6 5 5 6 6 6 6 6 5\n",
      " 7 6 6 6 6]\n",
      "Selected Model: 2\n",
      "Training Set Classification Error: 40.0576\n",
      "CV Set Classification Error: 38.7931\n",
      "Test Set Classification Error: 55.1724\n"
     ]
    }
   ],
   "source": [
    "# Select the model with the lowest error\n",
    "model_num = 2\n",
    "model=nn_models[model_num-1]\n",
    "# Compute the test error\n",
    "predictions = model.predict(X_test)\n",
    "yhat= np.zeros(len(predictions))\n",
    "\n",
    "for loop in range(len(predictions)):\n",
    "    yhat[loop]=locateMax(predictions[loop])\n",
    "print(yhat)\n",
    "print(y_test)\n",
    "nn_test_error =calcul_error(yhat,y_test)\n",
    "\n",
    "print(f\"Selected Model: {model_num}\")\n",
    "print(f\"Training Set Classification Error: {nn_train_error[model_num-1]:.4f}\")\n",
    "print(f\"CV Set Classification Error: {nn_cv_error[model_num-1]:.4f}\")\n",
    "print(f\"Test Set Classification Error: {nn_test_error:.4f}\")"
   ]
  },
  {
   "attachments": {},
   "cell_type": "markdown",
   "metadata": {},
   "source": [
    "On a un grand biais, il faut ajouter des features"
   ]
  },
  {
   "cell_type": "code",
   "execution_count": null,
   "metadata": {},
   "outputs": [],
   "source": [
    "model_biais = Sequential(\n",
    "    [\n",
    "        tf.keras.Input(shape=(4,)),\n",
    "        Dense(20, activation = 'relu',kernel_regularizer=l2(0.01)),\n",
    "        Dense(30, activation = 'relu',kernel_regularizer=l2(0.01)),\n",
    "        Dense(30, activation = 'relu',kernel_regularizer=l2(0.01)),\n",
    "        Dense(20, activation = 'relu',kernel_regularizer=l2(0.01)),\n",
    "        Dense(9, activation = 'softmax')\n",
    "    ],\n",
    "    name='model_biais'\n",
    ")"
   ]
  },
  {
   "cell_type": "code",
   "execution_count": null,
   "metadata": {},
   "outputs": [],
   "source": [
    "from sklearn.metrics import mean_squared_error\n",
    "# Initialize lists that will contain the errors for each model\n",
    "nn_train_error = []\n",
    "nn_cv_error = []\n",
    "\n",
    "\n",
    "# Build the models\n",
    "nn_models_r = build_models_Regularized()\n",
    "\n",
    "# Loop over the the models\n",
    "for model in nn_models_r:\n",
    "    \n",
    "    # Setup the loss and optimizer\n",
    "    model.compile(\n",
    "    loss=tf.keras.losses.SparseCategoricalCrossentropy(),\n",
    "    optimizer=tf.keras.optimizers.Adam(learning_rate=0.01),\n",
    "    )\n",
    "\n",
    "    print(f\"Training {model.name}...\")\n",
    "    \n",
    "    \n",
    "    # Train the model\n",
    "    model.fit(\n",
    "        X_train, y_train,\n",
    "        epochs=200,\n",
    "        verbose=0\n",
    "    )\n",
    "    \n",
    "    print(\"Done!\\n\")\n",
    "\n",
    "    # Set the threshold for classification\n",
    "    threshold = 0.5\n",
    "    # Record the fraction of misclassified examples for the training set\n",
    "    predictions = model.predict(X_train)\n",
    "    yhat= np.zeros(len(predictions))\n",
    "\n",
    "    for loop in range(len(predictions)):\n",
    "        yhat[loop]=locateMax(predictions[loop])\n",
    "    #print(yhat)\n",
    "\n",
    "    train_error = calcul_error(yhat,y_train)\n",
    "    nn_train_error.append(train_error)\n",
    "\n",
    "    # Record the fraction of misclassified examples for the cross validation set\n",
    "    predictions = model.predict(X_cv)\n",
    "    yhat= np.zeros(len(predictions))\n",
    "\n",
    "    for loop in range(len(predictions)):\n",
    "        yhat[loop]=locateMax(predictions[loop])\n",
    "    #print(yhat)\n",
    "\n",
    "    cv_error = calcul_error(yhat,y_cv)\n",
    "    nn_cv_error.append(cv_error)\n",
    "\n",
    "    \n",
    "# Print the result\n",
    "for model_num in range(len(nn_train_error)):\n",
    "    print(\n",
    "        f\"Model {model_num+1}: Training Set Classification Error: {nn_train_error[model_num]:.5f}, \" +\n",
    "        f\"CV Set Classification Error: {nn_cv_error[model_num]:.5f}\"\n",
    "        )"
   ]
  }
 ],
 "metadata": {
  "kernelspec": {
   "display_name": "Python 3",
   "language": "python",
   "name": "python3"
  },
  "language_info": {
   "codemirror_mode": {
    "name": "ipython",
    "version": 3
   },
   "file_extension": ".py",
   "mimetype": "text/x-python",
   "name": "python",
   "nbconvert_exporter": "python",
   "pygments_lexer": "ipython3",
   "version": "3.8.10"
  },
  "orig_nbformat": 4
 },
 "nbformat": 4,
 "nbformat_minor": 2
}
